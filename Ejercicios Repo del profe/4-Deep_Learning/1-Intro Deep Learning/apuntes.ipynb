{
 "cells": [
  {
   "cell_type": "markdown",
   "id": "e7c4313b",
   "metadata": {},
   "source": [
    "Deep learning"
   ]
  },
  {
   "cell_type": "code",
   "execution_count": null,
   "id": "0548c35b",
   "metadata": {
    "vscode": {
     "languageId": "plaintext"
    }
   },
   "outputs": [],
   "source": [
    "Ejercicio"
   ]
  },
  {
   "cell_type": "markdown",
   "id": "e5948944",
   "metadata": {},
   "source": [
    "Modelo clasificación\n",
    "\n",
    "model.add(Dense(12, input_shape=(8,), activation='relu'))\n",
    "model.add(Dense(8, activation='relu'))\n",
    "model.add(Dense(1, activation='sigmoid')) \n",
    "\n",
    "Modelo regresión\n",
    "model.add(Dense(12, input_shape=(8,), activation='relu'))\n",
    "model.add(Dense(8, activation='relu'))\n",
    "model.add(Dense(1))\n",
    "\n",
    "Modelo multiclase\n",
    "\n",
    "model.add(Dense(12, input_shape=(8,), activation='relu'))\n",
    "model.add(Dense(8, activation='relu'))\n",
    "model.add(Dense(1), activation=\"softmax\")\n",
    "\n",
    "Softmax acota los datos entre 0 y 1\n",
    "\n",
    "ADAM (Momentum y adaptative lr)\n",
    "\n",
    "Dropout (entre 0.2-0.4) van entre capa y capa\n",
    "\n",
    "model.add(Dense(12, input_shape=(8,), activation='relu'))\n",
    "model.Dropout()\n",
    "model.add(Dense(8, activation='relu'))\n",
    "model.Dropout()\n",
    "model.add(Dense(1))\n",
    "\n",
    "\n",
    "16/06/2025\n",
    "\n",
    "repasar streamlit y PostgreSQL \n",
    "\n",
    "TransferLearning usar el modelo de otra persona modificando sus parámetros\n",
    "aprovechamos las capas que ya han aprendido y con esa información modificamos el modelo\n",
    "\n",
    "\n",
    "\n",
    "\n",
    "\n"
   ]
  }
 ],
 "metadata": {
  "language_info": {
   "name": "python"
  }
 },
 "nbformat": 4,
 "nbformat_minor": 5
}
