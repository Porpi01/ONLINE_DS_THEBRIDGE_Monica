{
 "cells": [
  {
   "cell_type": "markdown",
   "id": "129daacf",
   "metadata": {},
   "source": [
    "EOS: end of sentence\n",
    "SOS: "
   ]
  }
 ],
 "metadata": {
  "language_info": {
   "name": "python"
  }
 },
 "nbformat": 4,
 "nbformat_minor": 5
}
