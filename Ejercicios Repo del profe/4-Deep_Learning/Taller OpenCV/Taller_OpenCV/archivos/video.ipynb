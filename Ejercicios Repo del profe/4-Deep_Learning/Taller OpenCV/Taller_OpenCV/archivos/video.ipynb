{
 "cells": [
  {
   "cell_type": "code",
   "execution_count": 2,
   "id": "44a7146c",
   "metadata": {},
   "outputs": [],
   "source": [
    "# 1. Usando este código tengo q poner los cuadrados en un video \n",
    "# 2. Lo mismo en tiempo real con la webcam \n",
    "#unir codigo perrito monon con este para hacer los ejercicios\n",
    "\n",
    "import cv2 as cv\n",
    "import numpy as np\n",
    "import matplotlib.pyplot as plt"
   ]
  },
  {
   "cell_type": "code",
   "execution_count": null,
   "id": "00f2f02e",
   "metadata": {},
   "outputs": [],
   "source": [
    "import cv2 as cv\n",
    "\n",
    "# Carga del clasificador Haar\n",
    "haar_cascade = cv.CascadeClassifier('./Section #3 - Faces/haar_face.xml')\n",
    "\n",
    "# Cargar el video\n",
    "capture = cv.VideoCapture('./Resources/Videos/illojuan.mp4')\n",
    "\n",
    "while True:\n",
    "    isTrue, frame = capture.read()\n",
    "\n",
    "    if isTrue:\n",
    "    # # Convertimos a escala de grises\n",
    "        gray = cv.cvtColor(frame, cv.COLOR_BGR2GRAY)\n",
    "\n",
    "        # Detección de rostros\n",
    "        faces_rect = haar_cascade.detectMultiScale(gray, scaleFactor=1.1, minNeighbors=10)\n",
    "\n",
    "        # Dibujar rectángulos sobre los rostros detectados\n",
    "        for (x, y, w, h) in faces_rect:\n",
    "            cv.rectangle(frame, (x, y), (x+w, y+h), (0, 255, 0), thickness=2)\n",
    "        # Mostrar el frame\n",
    "        cv.imshow('Detected Faces', frame)\n",
    "        if cv.waitKey(20) & 0xFF == ord('c'):\n",
    "            break\n",
    "    else:\n",
    "        break\n",
    "\n",
    "# Liberar recursos\n",
    "capture.release()\n",
    "cv.destroyAllWindows()\n"
   ]
  }
 ],
 "metadata": {
  "kernelspec": {
   "display_name": "data_analysis_env",
   "language": "python",
   "name": "python3"
  },
  "language_info": {
   "codemirror_mode": {
    "name": "ipython",
    "version": 3
   },
   "file_extension": ".py",
   "mimetype": "text/x-python",
   "name": "python",
   "nbconvert_exporter": "python",
   "pygments_lexer": "ipython3",
   "version": "3.11.11"
  }
 },
 "nbformat": 4,
 "nbformat_minor": 5
}
