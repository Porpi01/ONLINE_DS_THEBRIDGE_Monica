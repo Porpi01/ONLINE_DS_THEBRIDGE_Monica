{
 "cells": [
  {
   "cell_type": "markdown",
   "id": "96a7fae6",
   "metadata": {
    "papermill": {
     "duration": 0.044733,
     "end_time": "2021-08-31T23:19:59.938796",
     "exception": false,
     "start_time": "2021-08-31T23:19:59.894063",
     "status": "completed"
    },
    "tags": []
   },
   "source": [
    "We will perform sentiment analysis with IMDb. The workflow is as follows:\n",
    "1. EDA & cleaning\n",
    "2. Baseline linear model\n",
    "3. LSTM model"
   ]
  },
  {
   "cell_type": "code",
   "execution_count": 1,
   "id": "31a855b3",
   "metadata": {
    "execution": {
     "iopub.execute_input": "2021-08-31T23:20:00.115780Z",
     "iopub.status.busy": "2021-08-31T23:20:00.112809Z",
     "iopub.status.idle": "2021-08-31T23:20:06.329648Z",
     "shell.execute_reply": "2021-08-31T23:20:06.328804Z",
     "shell.execute_reply.started": "2021-08-31T14:06:34.735365Z"
    },
    "papermill": {
     "duration": 6.341435,
     "end_time": "2021-08-31T23:20:06.329828",
     "exception": false,
     "start_time": "2021-08-31T23:19:59.988393",
     "status": "completed"
    },
    "tags": []
   },
   "outputs": [],
   "source": [
    "import numpy as np\n",
    "import pandas as pd\n",
    "import matplotlib.pyplot as plt\n",
    "%matplotlib inline\n",
    "import seaborn as sns\n",
    "\n",
    "import re\n",
    "\n",
    "from sklearn.model_selection import train_test_split\n",
    "from sklearn.metrics import accuracy_score, classification_report, confusion_matrix\n",
    "from sklearn.feature_extraction.text import TfidfVectorizer\n",
    "from sklearn.pipeline import Pipeline\n",
    "from sklearn.linear_model import LogisticRegression\n",
    "\n",
    "import tensorflow as tf\n",
    "from tensorflow import keras\n",
    "from tensorflow.keras.preprocessing.text import Tokenizer\n",
    "from tensorflow.keras.preprocessing.sequence import pad_sequences\n",
    "\n",
    "import collections\n",
    "import itertools\n",
    "import os"
   ]
  },
  {
   "cell_type": "code",
   "execution_count": 2,
   "id": "67ebea5a",
   "metadata": {
    "execution": {
     "iopub.execute_input": "2021-08-31T23:20:06.393733Z",
     "iopub.status.busy": "2021-08-31T23:20:06.392745Z",
     "iopub.status.idle": "2021-08-31T23:20:07.895056Z",
     "shell.execute_reply": "2021-08-31T23:20:07.894378Z",
     "shell.execute_reply.started": "2021-08-31T14:06:39.745942Z"
    },
    "papermill": {
     "duration": 1.535935,
     "end_time": "2021-08-31T23:20:07.895206",
     "exception": false,
     "start_time": "2021-08-31T23:20:06.359271",
     "status": "completed"
    },
    "tags": []
   },
   "outputs": [],
   "source": [
    "reviews_train = []\n",
    "for line in open(os.getcwd() + '/data/imbd_train.txt', 'r', encoding='latin1'):\n",
    "    \n",
    "    reviews_train.append(line.strip())\n",
    "    \n",
    "reviews_test = []\n",
    "for line in open(os.getcwd() + '/data/imbd_test.txt', 'r', encoding='latin1'):\n",
    "    \n",
    "    reviews_test.append(line.strip())"
   ]
  },
  {
   "cell_type": "code",
   "execution_count": 3,
   "metadata": {},
   "outputs": [],
   "source": [
    "target = [\"positive\" if i < 12500 else \"negative\" for i in range(25000)]"
   ]
  },
  {
   "cell_type": "code",
   "execution_count": 4,
   "metadata": {},
   "outputs": [],
   "source": [
    "df1 = pd.DataFrame({\"review\": reviews_train, \"sentiment\":target})\n",
    "df2 = pd.DataFrame({\"review\": reviews_test, \"sentiment\":target})\n"
   ]
  },
  {
   "cell_type": "code",
   "execution_count": 5,
   "metadata": {},
   "outputs": [],
   "source": [
    "df = pd.concat([df1, df2]).sample(frac=1.0, random_state=42).reset_index(drop=True)"
   ]
  },
  {
   "cell_type": "code",
   "execution_count": 6,
   "metadata": {},
   "outputs": [
    {
     "data": {
      "text/html": [
       "<div>\n",
       "<style scoped>\n",
       "    .dataframe tbody tr th:only-of-type {\n",
       "        vertical-align: middle;\n",
       "    }\n",
       "\n",
       "    .dataframe tbody tr th {\n",
       "        vertical-align: top;\n",
       "    }\n",
       "\n",
       "    .dataframe thead th {\n",
       "        text-align: right;\n",
       "    }\n",
       "</style>\n",
       "<table border=\"1\" class=\"dataframe\">\n",
       "  <thead>\n",
       "    <tr style=\"text-align: right;\">\n",
       "      <th></th>\n",
       "      <th>review</th>\n",
       "      <th>sentiment</th>\n",
       "    </tr>\n",
       "  </thead>\n",
       "  <tbody>\n",
       "    <tr>\n",
       "      <th>0</th>\n",
       "      <td>When I first saw the ad for this, I was like '...</td>\n",
       "      <td>positive</td>\n",
       "    </tr>\n",
       "    <tr>\n",
       "      <th>1</th>\n",
       "      <td>\"A Girl's Folly\" is a sort of half-comedy, hal...</td>\n",
       "      <td>positive</td>\n",
       "    </tr>\n",
       "    <tr>\n",
       "      <th>2</th>\n",
       "      <td>I started watching the show from the first sea...</td>\n",
       "      <td>positive</td>\n",
       "    </tr>\n",
       "    <tr>\n",
       "      <th>3</th>\n",
       "      <td>This is a more interesting than usual porn mov...</td>\n",
       "      <td>positive</td>\n",
       "    </tr>\n",
       "    <tr>\n",
       "      <th>4</th>\n",
       "      <td>I suppose for 1961 this film was supposed to b...</td>\n",
       "      <td>negative</td>\n",
       "    </tr>\n",
       "    <tr>\n",
       "      <th>...</th>\n",
       "      <td>...</td>\n",
       "      <td>...</td>\n",
       "    </tr>\n",
       "    <tr>\n",
       "      <th>49995</th>\n",
       "      <td>I saw this movie at midnight on On Demand the ...</td>\n",
       "      <td>positive</td>\n",
       "    </tr>\n",
       "    <tr>\n",
       "      <th>49996</th>\n",
       "      <td>Some aspects of this production are good, such...</td>\n",
       "      <td>negative</td>\n",
       "    </tr>\n",
       "    <tr>\n",
       "      <th>49997</th>\n",
       "      <td>I was not old enough to really appreciate the ...</td>\n",
       "      <td>negative</td>\n",
       "    </tr>\n",
       "    <tr>\n",
       "      <th>49998</th>\n",
       "      <td>Nice movie with a great soundtrack which spans...</td>\n",
       "      <td>positive</td>\n",
       "    </tr>\n",
       "    <tr>\n",
       "      <th>49999</th>\n",
       "      <td>Even though this was a made-for-TV production,...</td>\n",
       "      <td>negative</td>\n",
       "    </tr>\n",
       "  </tbody>\n",
       "</table>\n",
       "<p>50000 rows × 2 columns</p>\n",
       "</div>"
      ],
      "text/plain": [
       "                                                  review sentiment\n",
       "0      When I first saw the ad for this, I was like '...  positive\n",
       "1      \"A Girl's Folly\" is a sort of half-comedy, hal...  positive\n",
       "2      I started watching the show from the first sea...  positive\n",
       "3      This is a more interesting than usual porn mov...  positive\n",
       "4      I suppose for 1961 this film was supposed to b...  negative\n",
       "...                                                  ...       ...\n",
       "49995  I saw this movie at midnight on On Demand the ...  positive\n",
       "49996  Some aspects of this production are good, such...  negative\n",
       "49997  I was not old enough to really appreciate the ...  negative\n",
       "49998  Nice movie with a great soundtrack which spans...  positive\n",
       "49999  Even though this was a made-for-TV production,...  negative\n",
       "\n",
       "[50000 rows x 2 columns]"
      ]
     },
     "execution_count": 6,
     "metadata": {},
     "output_type": "execute_result"
    }
   ],
   "source": [
    "df"
   ]
  },
  {
   "cell_type": "markdown",
   "id": "9cf67832",
   "metadata": {
    "papermill": {
     "duration": 0.028005,
     "end_time": "2021-08-31T23:20:07.951859",
     "exception": false,
     "start_time": "2021-08-31T23:20:07.923854",
     "status": "completed"
    },
    "tags": []
   },
   "source": [
    "# 1. EDA & cleaning"
   ]
  },
  {
   "cell_type": "code",
   "execution_count": 7,
   "metadata": {},
   "outputs": [
    {
     "data": {
      "text/plain": [
       "<Axes: xlabel='count', ylabel='sentiment'>"
      ]
     },
     "execution_count": 7,
     "metadata": {},
     "output_type": "execute_result"
    },
    {
     "data": {
      "image/png": "[encoded data removed]",
      "text/plain": [
       "<Figure size 640x480 with 1 Axes>"
      ]
     },
     "metadata": {},
     "output_type": "display_data"
    }
   ],
   "source": [
    "sns.countplot(df[\"sentiment\"])"
   ]
  },
  {
   "cell_type": "code",
   "execution_count": 8,
   "id": "4604c902",
   "metadata": {
    "execution": {
     "iopub.execute_input": "2021-08-31T23:20:08.315730Z",
     "iopub.status.busy": "2021-08-31T23:20:08.314633Z",
     "iopub.status.idle": "2021-08-31T23:20:08.322506Z",
     "shell.execute_reply": "2021-08-31T23:20:08.323064Z",
     "shell.execute_reply.started": "2021-08-31T14:06:41.486562Z"
    },
    "papermill": {
     "duration": 0.056588,
     "end_time": "2021-08-31T23:20:08.323230",
     "exception": false,
     "start_time": "2021-08-31T23:20:08.266642",
     "status": "completed"
    },
    "tags": []
   },
   "outputs": [
    {
     "data": {
      "text/plain": [
       "review       0\n",
       "sentiment    0\n",
       "dtype: int64"
      ]
     },
     "execution_count": 8,
     "metadata": {},
     "output_type": "execute_result"
    }
   ],
   "source": [
    "df.isna().sum()"
   ]
  },
  {
   "cell_type": "markdown",
   "id": "6ca643b2",
   "metadata": {
    "papermill": {
     "duration": 0.030008,
     "end_time": "2021-08-31T23:20:08.383186",
     "exception": false,
     "start_time": "2021-08-31T23:20:08.353178",
     "status": "completed"
    },
    "tags": []
   },
   "source": [
    "There is no null data."
   ]
  },
  {
   "cell_type": "markdown",
   "id": "91683368",
   "metadata": {
    "papermill": {
     "duration": 0.029725,
     "end_time": "2021-08-31T23:20:08.442892",
     "exception": false,
     "start_time": "2021-08-31T23:20:08.413167",
     "status": "completed"
    },
    "tags": []
   },
   "source": [
    "### Text cleaning"
   ]
  },
  {
   "cell_type": "code",
   "execution_count": 28,
   "id": "66319eb7",
   "metadata": {
    "execution": {
     "iopub.execute_input": "2021-08-31T23:20:08.508737Z",
     "iopub.status.busy": "2021-08-31T23:20:08.507762Z",
     "iopub.status.idle": "2021-08-31T23:20:08.512451Z",
     "shell.execute_reply": "2021-08-31T23:20:08.511887Z",
     "shell.execute_reply.started": "2021-08-31T14:06:43.124304Z"
    },
    "papermill": {
     "duration": 0.039485,
     "end_time": "2021-08-31T23:20:08.512583",
     "exception": false,
     "start_time": "2021-08-31T23:20:08.473098",
     "status": "completed"
    },
    "tags": []
   },
   "outputs": [],
   "source": [
    "\n",
    "def preprocessing_text(texts):\n",
    "    # Dictionary of common English contractions and their expansions\n",
    "    contractions = {\n",
    "        \"ain't\": \"are not\",\n",
    "        \"aren't\": \"are not\",\n",
    "        \"can't\": \"cannot\",\n",
    "        \"can't've\": \"cannot have\",\n",
    "        \"'cause\": \"because\",\n",
    "        \"could've\": \"could have\",\n",
    "        \"couldn't\": \"could not\",\n",
    "        \"couldn't've\": \"could not have\",\n",
    "        \"daren't\": \"dare not\",\n",
    "        \"didn't\": \"did not\",\n",
    "        \"doesn't\": \"does not\",\n",
    "        \"don't\": \"do not\",\n",
    "        \"e'er\": \"ever\",\n",
    "        \"gimme\": \"give me\",\n",
    "        \"gonna\": \"going to\",\n",
    "        \"gotta\": \"got to\",\n",
    "        \"hadn't\": \"had not\",\n",
    "        \"hadn't've\": \"had not have\",\n",
    "        \"hasn't\": \"has not\",\n",
    "        \"haven't\": \"have not\",\n",
    "        \"he'd\": \"he would\",\n",
    "        \"he'd've\": \"he would have\",\n",
    "        \"he'll\": \"he will\",\n",
    "        \"he'll've\": \"he will have\",\n",
    "        \"he's\": \"he is\",\n",
    "        \"here's\": \"here is\",\n",
    "        \"how'd\": \"how did\",\n",
    "        \"how'd'y\": \"how do you\",\n",
    "        \"how'll\": \"how will\",\n",
    "        \"how's\": \"how is\",\n",
    "        \"i'd\": \"i would\",\n",
    "        \"i'd've\": \"i would have\",\n",
    "        \"i'll\": \"i will\",\n",
    "        \"i'll've\": \"i will have\",\n",
    "        \"i'm\": \"i am\",\n",
    "        \"i've\": \"i have\",\n",
    "        \"is't\": \"is it\",\n",
    "        \"isn't\": \"is not\",\n",
    "        \"it'd\": \"it would\",\n",
    "        \"it'd've\": \"it would have\",\n",
    "        \"it'll\": \"it will\",\n",
    "        \"it'll've\": \"it will have\",\n",
    "        \"it's\": \"it is\",\n",
    "        \"let's\": \"let us\",\n",
    "        \"ma'am\": \"madam\",\n",
    "        \"mayn't\": \"may not\",\n",
    "        \"might've\": \"might have\",\n",
    "        \"mightn't\": \"might not\",\n",
    "        \"mightn't've\": \"might not have\",\n",
    "        \"must've\": \"must have\",\n",
    "        \"mustn't\": \"must not\",\n",
    "        \"mustn't've\": \"must not have\",\n",
    "        \"ne'er\": \"never\",\n",
    "        \"needn't\": \"need not\",\n",
    "        \"needn't've\": \"need not have\",\n",
    "        \"o'clock\": \"of the clock\",\n",
    "        \"o'er\": \"over\",\n",
    "        \"ol'\": \"old\",\n",
    "        \"oughtn't\": \"ought not\",\n",
    "        \"oughtn't've\": \"ought not have\",\n",
    "        \"shan't\": \"shall not\",\n",
    "        \"sha'n't\": \"shall not\",\n",
    "        \"shan't've\": \"shall not have\",\n",
    "        \"she'd\": \"she would\",\n",
    "        \"she'd've\": \"she would have\",\n",
    "        \"she'll\": \"she will\",\n",
    "        \"she'll've\": \"she will have\",\n",
    "        \"she's\": \"she is\",\n",
    "        \"should've\": \"should have\",\n",
    "        \"shouldn't\": \"should not\",\n",
    "        \"shouldn't've\": \"should not have\",\n",
    "        \"so've\": \"so have\",\n",
    "        \"so's\": \"so is\",\n",
    "        \"somethin'\": \"something\",\n",
    "        \"that'd\": \"that would\",\n",
    "        \"that'd've\": \"that would have\",\n",
    "        \"that's\": \"that is\",\n",
    "        \"there'd\": \"there would\",\n",
    "        \"there'd've\": \"there would have\",\n",
    "        \"there's\": \"there is\",\n",
    "        \"these're\": \"these are\",\n",
    "        \"they'd\": \"they would\",\n",
    "        \"they'd've\": \"they would have\",\n",
    "        \"they'll\": \"they will\",\n",
    "        \"they'll've\": \"they will have\",\n",
    "        \"they're\": \"they are\",\n",
    "        \"they've\": \"they have\",\n",
    "        \"this's\": \"this is\",\n",
    "        \"those're\": \"those are\",\n",
    "        \"tis\": \"it is\",\n",
    "        \"to've\": \"to have\",\n",
    "        \"twas\": \"it was\",\n",
    "        \"wanna\": \"want to\",\n",
    "        \"wasn't\": \"was not\",\n",
    "        \"we'd\": \"we would\",\n",
    "        \"we'd've\": \"we would have\",\n",
    "        \"we'll\": \"we will\",\n",
    "        \"we'll've\": \"we will have\",\n",
    "        \"we're\": \"we are\",\n",
    "        \"we've\": \"we have\",\n",
    "        \"weren't\": \"were not\",\n",
    "        \"what'd\": \"what did\",\n",
    "        \"what'll\": \"what will\",\n",
    "        \"what'll've\": \"what will have\",\n",
    "        \"what're\": \"what are\",\n",
    "        \"what's\": \"what is\",\n",
    "        \"what've\": \"what have\",\n",
    "        \"when'd\": \"when did\",\n",
    "        \"when's\": \"when is\",\n",
    "        \"when've\": \"when have\",\n",
    "        \"where'd\": \"where did\",\n",
    "        \"where's\": \"where is\",\n",
    "        \"where've\": \"where have\",\n",
    "        \"which's\": \"which is\",\n",
    "        \"who'd\": \"who would\",\n",
    "        \"who'd've\": \"who would have\",\n",
    "        \"who'll\": \"who will\",\n",
    "        \"who'll've\": \"who will have\",\n",
    "        \"who's\": \"who is\",\n",
    "        \"who've\": \"who have\",\n",
    "        \"why'd\": \"why did\",\n",
    "        \"why's\": \"why is\",\n",
    "        \"why've\": \"why have\",\n",
    "        \"will've\": \"will have\",\n",
    "        \"won't\": \"will not\",\n",
    "        \"won't've\": \"will not have\",\n",
    "        \"would've\": \"would have\",\n",
    "        \"wouldn't\": \"would not\",\n",
    "        \"wouldn't've\": \"would not have\",\n",
    "        \"y'all\": \"you all\",\n",
    "        \"y'all'd\": \"you all would\",\n",
    "        \"y'all'd've\": \"you all would have\",\n",
    "        \"y'all're\": \"you all are\",\n",
    "        \"y'all've\": \"you all have\",\n",
    "        \"you'd\": \"you would\",\n",
    "        \"you'd've\": \"you would have\",\n",
    "        \"you'll\": \"you will\",\n",
    "        \"you'll've\": \"you will have\",\n",
    "        \"you're\": \"you are\",\n",
    "        \"you've\": \"you have\"\n",
    "    }\n",
    "\n",
    "    texts = re.sub(r'<.*?>', '', texts)\n",
    "    contractions_pattern = re.compile(r'\\b(?:' + '|'.join(re.escape(key) for key in contractions.keys()) + r')\\b', flags=re.IGNORECASE)\n",
    "    def replace_contraction(match):\n",
    "        return contractions.get(match.group(0).lower(), match.group(0))\n",
    "    texts = contractions_pattern.sub(replace_contraction, texts)\n",
    "    texts = re.sub(r'[^a-zA-Z]', ' ', texts)\n",
    "    texts = re.sub(r'\\s+', ' ', texts).strip()\n",
    "    return ' '.join(x.lower() for x in texts.split())\n"
   ]
  },
  {
   "cell_type": "code",
   "execution_count": 29,
   "id": "4c458a8d",
   "metadata": {
    "execution": {
     "iopub.execute_input": "2021-08-31T23:20:08.594020Z",
     "iopub.status.busy": "2021-08-31T23:20:08.583581Z",
     "iopub.status.idle": "2021-08-31T23:20:17.282271Z",
     "shell.execute_reply": "2021-08-31T23:20:17.281311Z",
     "shell.execute_reply.started": "2021-08-31T14:06:45.309831Z"
    },
    "papermill": {
     "duration": 8.739297,
     "end_time": "2021-08-31T23:20:17.282487",
     "exception": false,
     "start_time": "2021-08-31T23:20:08.543190",
     "status": "completed"
    },
    "tags": []
   },
   "outputs": [
    {
     "data": {
      "text/plain": [
       "'when i first saw the ad for this i was like oh here we go he is done high school musical but he cannot coast along on that so now he is making appearances on other disney shows personally i love the suite life and i am a big fan of ashely tisdale but for some reason i am not too keen on zac efron although all my friends think he is the best thing since jesse mccartney but he really annoys me anyway i watched the show taking a break from english coursework and was pleasantly surprised the performances were good all round especially from the regular characters on the suite life and zac efron was not as bad as i had anticipated all in all a pretty good show'"
      ]
     },
     "execution_count": 29,
     "metadata": {},
     "output_type": "execute_result"
    }
   ],
   "source": [
    "df['review_cleaned'] = df['review'].apply(lambda x : preprocessing_text(x))\n",
    "\n",
    "df['review_cleaned'][0]"
   ]
  },
  {
   "cell_type": "markdown",
   "id": "670d71f0",
   "metadata": {
    "papermill": {
     "duration": 0.029181,
     "end_time": "2021-08-31T23:20:17.343295",
     "exception": false,
     "start_time": "2021-08-31T23:20:17.314114",
     "status": "completed"
    },
    "tags": []
   },
   "source": [
    "# 2. Baseline linear model"
   ]
  },
  {
   "cell_type": "markdown",
   "id": "28c66825",
   "metadata": {
    "papermill": {
     "duration": 0.029602,
     "end_time": "2021-08-31T23:20:17.403300",
     "exception": false,
     "start_time": "2021-08-31T23:20:17.373698",
     "status": "completed"
    },
    "tags": []
   },
   "source": [
    "Before we build time-consuming neural network model, simple classifier is tried.\n",
    "Tfidf method is used for text vectorization."
   ]
  },
  {
   "cell_type": "code",
   "execution_count": 30,
   "id": "9452bb20",
   "metadata": {
    "execution": {
     "iopub.execute_input": "2021-08-31T23:20:17.474921Z",
     "iopub.status.busy": "2021-08-31T23:20:17.473816Z",
     "iopub.status.idle": "2021-08-31T23:20:35.377110Z",
     "shell.execute_reply": "2021-08-31T23:20:35.376495Z",
     "shell.execute_reply.started": "2021-08-31T14:18:40.33851Z"
    },
    "papermill": {
     "duration": 17.945017,
     "end_time": "2021-08-31T23:20:35.377260",
     "exception": false,
     "start_time": "2021-08-31T23:20:17.432243",
     "status": "completed"
    },
    "tags": []
   },
   "outputs": [
    {
     "name": "stdout",
     "output_type": "stream",
     "text": [
      "              precision    recall  f1-score   support\n",
      "\n",
      "           0       0.90      0.88      0.89      6254\n",
      "           1       0.89      0.91      0.90      6246\n",
      "\n",
      "    accuracy                           0.89     12500\n",
      "   macro avg       0.89      0.89      0.89     12500\n",
      "weighted avg       0.89      0.89      0.89     12500\n",
      "\n"
     ]
    },
    {
     "data": {
      "text/plain": [
       "<Axes: >"
      ]
     },
     "execution_count": 30,
     "metadata": {},
     "output_type": "execute_result"
    },
    {
     "data": {
      "image/png": "[encoded data removed]",
      "text/plain": [
       "<Figure size 640x480 with 2 Axes>"
      ]
     },
     "metadata": {},
     "output_type": "display_data"
    }
   ],
   "source": [
    "X_train, X_test, y_train, y_test = train_test_split(df['review_cleaned'], df['sentiment'].map({'negative':0, 'positive':1}))\n",
    "pipeline = Pipeline([('tfidf', TfidfVectorizer()),\n",
    "                    ('lr_clf', LogisticRegression())])\n",
    "pipeline.fit(X_train, y_train)\n",
    "\n",
    "y_pred = pipeline.predict(X_test)\n",
    "\n",
    "print(classification_report(y_test, y_pred))\n",
    "\n",
    "sns.heatmap(confusion_matrix(y_test, y_pred), \n",
    "            annot=True, fmt='.0f', \n",
    "            xticklabels=['Predicted negative', 'Predicted positive'], \n",
    "            yticklabels=['Negative', 'Positive'])"
   ]
  },
  {
   "cell_type": "markdown",
   "id": "5a725d4d",
   "metadata": {
    "papermill": {
     "duration": 0.030128,
     "end_time": "2021-08-31T23:20:35.438382",
     "exception": false,
     "start_time": "2021-08-31T23:20:35.408254",
     "status": "completed"
    },
    "tags": []
   },
   "source": [
    "Logistic regression provides 90% accuracy for test set, which is fast and adapted for such large datasets."
   ]
  },
  {
   "cell_type": "markdown",
   "id": "2cdc9cae",
   "metadata": {
    "papermill": {
     "duration": 0.031387,
     "end_time": "2021-08-31T23:20:35.499765",
     "exception": false,
     "start_time": "2021-08-31T23:20:35.468378",
     "status": "completed"
    },
    "tags": []
   },
   "source": [
    "# 3. LSTM model"
   ]
  },
  {
   "cell_type": "markdown",
   "id": "8e9fca7c",
   "metadata": {
    "papermill": {
     "duration": 0.029453,
     "end_time": "2021-08-31T23:20:35.559601",
     "exception": false,
     "start_time": "2021-08-31T23:20:35.530148",
     "status": "completed"
    },
    "tags": []
   },
   "source": [
    "To quickly explore LSTM model, we firstly take only 500 characters. That is much faster way than taking full sentences."
   ]
  },
  {
   "cell_type": "code",
   "execution_count": 31,
   "id": "7c531bf1",
   "metadata": {
    "execution": {
     "iopub.execute_input": "2021-08-31T23:20:35.644276Z",
     "iopub.status.busy": "2021-08-31T23:20:35.633907Z",
     "iopub.status.idle": "2021-08-31T23:20:35.674782Z",
     "shell.execute_reply": "2021-08-31T23:20:35.674174Z",
     "shell.execute_reply.started": "2021-08-31T12:03:36.100282Z"
    },
    "papermill": {
     "duration": 0.083801,
     "end_time": "2021-08-31T23:20:35.675001",
     "exception": false,
     "start_time": "2021-08-31T23:20:35.591200",
     "status": "completed"
    },
    "tags": []
   },
   "outputs": [
    {
     "data": {
      "text/plain": [
       "'i started watching the show from the first season and at the beginning i was pretty skeptical about it original movie was kind of childish and i was just looking for some sci fi show while waiting for the bsg new season but after few episodes i became a fan i have loved the characters the not so stupid as you think he is jack o neill the not only smart samantha carter the glorious teal c women and kids favorite and brilliant dr daniel jackson of course stories sometimes not serious sometimes eve'"
      ]
     },
     "execution_count": 31,
     "metadata": {},
     "output_type": "execute_result"
    }
   ],
   "source": [
    "df['review_cleaned_500'] = df['review_cleaned'].apply(lambda x:x[:500])\n",
    "\n",
    "df['review_cleaned_500'][2]"
   ]
  },
  {
   "cell_type": "markdown",
   "id": "fdf27600",
   "metadata": {
    "execution": {
     "iopub.execute_input": "2021-08-31T02:26:42.678593Z",
     "iopub.status.busy": "2021-08-31T02:26:42.678223Z",
     "iopub.status.idle": "2021-08-31T02:26:42.682801Z",
     "shell.execute_reply": "2021-08-31T02:26:42.681705Z",
     "shell.execute_reply.started": "2021-08-31T02:26:42.678565Z"
    },
    "papermill": {
     "duration": 0.031329,
     "end_time": "2021-08-31T23:20:35.737929",
     "exception": false,
     "start_time": "2021-08-31T23:20:35.706600",
     "status": "completed"
    },
    "tags": []
   },
   "source": [
    "### Tokenize & Padding"
   ]
  },
  {
   "cell_type": "markdown",
   "id": "2e22e44e",
   "metadata": {
    "papermill": {
     "duration": 0.03275,
     "end_time": "2021-08-31T23:20:35.801581",
     "exception": false,
     "start_time": "2021-08-31T23:20:35.768831",
     "status": "completed"
    },
    "tags": []
   },
   "source": [
    "Let's convert tokens to ID. We will use keras Tokenizer which can filter punctuations and take only most-counted 10000 words."
   ]
  },
  {
   "cell_type": "code",
   "execution_count": 32,
   "id": "8c544c44",
   "metadata": {
    "execution": {
     "iopub.execute_input": "2021-08-31T23:20:35.870204Z",
     "iopub.status.busy": "2021-08-31T23:20:35.869087Z",
     "iopub.status.idle": "2021-08-31T23:20:35.872466Z",
     "shell.execute_reply": "2021-08-31T23:20:35.871892Z",
     "shell.execute_reply.started": "2021-08-31T12:03:44.928063Z"
    },
    "papermill": {
     "duration": 0.038869,
     "end_time": "2021-08-31T23:20:35.872603",
     "exception": false,
     "start_time": "2021-08-31T23:20:35.833734",
     "status": "completed"
    },
    "tags": []
   },
   "outputs": [],
   "source": [
    "tokenizer = Tokenizer(num_words=10000)"
   ]
  },
  {
   "cell_type": "code",
   "execution_count": 33,
   "id": "291aa51a",
   "metadata": {
    "execution": {
     "iopub.execute_input": "2021-08-31T23:20:35.971642Z",
     "iopub.status.busy": "2021-08-31T23:20:35.961416Z",
     "iopub.status.idle": "2021-08-31T23:20:44.192545Z",
     "shell.execute_reply": "2021-08-31T23:20:44.193063Z",
     "shell.execute_reply.started": "2021-08-31T12:03:45.575936Z"
    },
    "papermill": {
     "duration": 8.287641,
     "end_time": "2021-08-31T23:20:44.193237",
     "exception": false,
     "start_time": "2021-08-31T23:20:35.905596",
     "status": "completed"
    },
    "tags": []
   },
   "outputs": [
    {
     "name": "stdout",
     "output_type": "stream",
     "text": [
      "X_shape: (50000, 116), X_min: 0, X_max: 9999\n"
     ]
    }
   ],
   "source": [
    "tokenizer.fit_on_texts(df['review_cleaned_500'])\n",
    "seq = tokenizer.texts_to_sequences(df['review_cleaned_500'])\n",
    "X = pad_sequences(seq, padding='post')\n",
    "\n",
    "print(f'X_shape: {X.shape}, X_min: {np.min(X)}, X_max: {np.max(X)}')"
   ]
  },
  {
   "cell_type": "markdown",
   "id": "9d8e1326",
   "metadata": {
    "papermill": {
     "duration": 0.032201,
     "end_time": "2021-08-31T23:20:44.257662",
     "exception": false,
     "start_time": "2021-08-31T23:20:44.225461",
     "status": "completed"
    },
    "tags": []
   },
   "source": [
    "Sentiment is converted to 0 (negative) or 1 (positive)."
   ]
  },
  {
   "cell_type": "code",
   "execution_count": 34,
   "id": "f11f5484",
   "metadata": {
    "execution": {
     "iopub.execute_input": "2021-08-31T23:20:44.334536Z",
     "iopub.status.busy": "2021-08-31T23:20:44.333629Z",
     "iopub.status.idle": "2021-08-31T23:20:44.337442Z",
     "shell.execute_reply": "2021-08-31T23:20:44.336891Z",
     "shell.execute_reply.started": "2021-08-31T12:03:52.937088Z"
    },
    "papermill": {
     "duration": 0.04699,
     "end_time": "2021-08-31T23:20:44.337583",
     "exception": false,
     "start_time": "2021-08-31T23:20:44.290593",
     "status": "completed"
    },
    "tags": []
   },
   "outputs": [],
   "source": [
    "y = df['sentiment'].map({'negative' : 0, 'positive' : 1}).values"
   ]
  },
  {
   "cell_type": "markdown",
   "id": "3598006f",
   "metadata": {
    "papermill": {
     "duration": 0.032322,
     "end_time": "2021-08-31T23:20:44.401493",
     "exception": false,
     "start_time": "2021-08-31T23:20:44.369171",
     "status": "completed"
    },
    "tags": []
   },
   "source": [
    "Let's build the simple LSTM model using first 500 characters datasets."
   ]
  },
  {
   "cell_type": "code",
   "execution_count": 35,
   "id": "a61dabb5",
   "metadata": {
    "execution": {
     "iopub.execute_input": "2021-08-31T23:20:44.473689Z",
     "iopub.status.busy": "2021-08-31T23:20:44.472445Z",
     "iopub.status.idle": "2021-08-31T23:20:44.504687Z",
     "shell.execute_reply": "2021-08-31T23:20:44.505426Z",
     "shell.execute_reply.started": "2021-08-31T12:03:55.096779Z"
    },
    "papermill": {
     "duration": 0.07159,
     "end_time": "2021-08-31T23:20:44.505614",
     "exception": false,
     "start_time": "2021-08-31T23:20:44.434024",
     "status": "completed"
    },
    "tags": []
   },
   "outputs": [
    {
     "name": "stdout",
     "output_type": "stream",
     "text": [
      "(32000, 116) (8000, 116) (10000, 116) (32000,) (8000,) (10000,)\n"
     ]
    }
   ],
   "source": [
    "X_train_valid, X_test, y_train_valid, y_test = train_test_split(X, y, test_size=0.2, random_state=42)\n",
    "X_train, X_valid, y_train, y_valid = train_test_split(X_train_valid, y_train_valid, test_size=0.2, random_state=42)\n",
    "print(X_train.shape, X_valid.shape, X_test.shape, y_train.shape, y_valid.shape, y_test.shape)"
   ]
  },
  {
   "cell_type": "code",
   "execution_count": 36,
   "id": "bfdbb3bb",
   "metadata": {
    "execution": {
     "iopub.execute_input": "2021-08-31T23:20:44.577880Z",
     "iopub.status.busy": "2021-08-31T23:20:44.577202Z",
     "iopub.status.idle": "2021-08-31T23:20:44.584251Z",
     "shell.execute_reply": "2021-08-31T23:20:44.583627Z",
     "shell.execute_reply.started": "2021-08-31T12:03:59.360865Z"
    },
    "papermill": {
     "duration": 0.045048,
     "end_time": "2021-08-31T23:20:44.584397",
     "exception": false,
     "start_time": "2021-08-31T23:20:44.539349",
     "status": "completed"
    },
    "tags": []
   },
   "outputs": [
    {
     "data": {
      "text/plain": [
       "array([0, 1, 1, ..., 1, 0, 0])"
      ]
     },
     "execution_count": 36,
     "metadata": {},
     "output_type": "execute_result"
    }
   ],
   "source": [
    "y_train"
   ]
  },
  {
   "cell_type": "code",
   "execution_count": 60,
   "id": "f3a20386",
   "metadata": {
    "execution": {
     "iopub.execute_input": "2021-08-31T23:20:44.655864Z",
     "iopub.status.busy": "2021-08-31T23:20:44.655144Z",
     "iopub.status.idle": "2021-08-31T23:20:48.196284Z",
     "shell.execute_reply": "2021-08-31T23:20:48.195237Z",
     "shell.execute_reply.started": "2021-08-31T12:04:02.825594Z"
    },
    "papermill": {
     "duration": 3.579497,
     "end_time": "2021-08-31T23:20:48.196504",
     "exception": false,
     "start_time": "2021-08-31T23:20:44.617007",
     "status": "completed"
    },
    "tags": []
   },
   "outputs": [
    {
     "data": {
      "text/html": [
       "<pre style=\"white-space:pre;overflow-x:auto;line-height:normal;font-family:Menlo,'DejaVu Sans Mono',consolas,'Courier New',monospace\"><span style=\"font-weight: bold\">Model: \"sequential_17\"</span>\n",
       "</pre>\n"
      ],
      "text/plain": [
       "\u001b[1mModel: \"sequential_17\"\u001b[0m\n"
      ]
     },
     "metadata": {},
     "output_type": "display_data"
    },
    {
     "data": {
      "text/html": [
       "<pre style=\"white-space:pre;overflow-x:auto;line-height:normal;font-family:Menlo,'DejaVu Sans Mono',consolas,'Courier New',monospace\">┏━━━━━━━━━━━━━━━━━━━━━━━━━━━━━━━━━┳━━━━━━━━━━━━━━━━━━━━━━━━┳━━━━━━━━━━━━━━━┓\n",
       "┃<span style=\"font-weight: bold\"> Layer (type)                    </span>┃<span style=\"font-weight: bold\"> Output Shape           </span>┃<span style=\"font-weight: bold\">       Param # </span>┃\n",
       "┡━━━━━━━━━━━━━━━━━━━━━━━━━━━━━━━━━╇━━━━━━━━━━━━━━━━━━━━━━━━╇━━━━━━━━━━━━━━━┩\n",
       "│ embedding_16 (<span style=\"color: #0087ff; text-decoration-color: #0087ff\">Embedding</span>)        │ (<span style=\"color: #00d7ff; text-decoration-color: #00d7ff\">None</span>, <span style=\"color: #00d7ff; text-decoration-color: #00d7ff\">None</span>, <span style=\"color: #00af00; text-decoration-color: #00af00\">64</span>)       │       <span style=\"color: #00af00; text-decoration-color: #00af00\">640,000</span> │\n",
       "├─────────────────────────────────┼────────────────────────┼───────────────┤\n",
       "│ lstm_28 (<span style=\"color: #0087ff; text-decoration-color: #0087ff\">LSTM</span>)                  │ (<span style=\"color: #00d7ff; text-decoration-color: #00d7ff\">None</span>, <span style=\"color: #00d7ff; text-decoration-color: #00d7ff\">None</span>, <span style=\"color: #00af00; text-decoration-color: #00af00\">64</span>)       │        <span style=\"color: #00af00; text-decoration-color: #00af00\">33,024</span> │\n",
       "├─────────────────────────────────┼────────────────────────┼───────────────┤\n",
       "│ lstm_29 (<span style=\"color: #0087ff; text-decoration-color: #0087ff\">LSTM</span>)                  │ (<span style=\"color: #00d7ff; text-decoration-color: #00d7ff\">None</span>, <span style=\"color: #00af00; text-decoration-color: #00af00\">32</span>)             │        <span style=\"color: #00af00; text-decoration-color: #00af00\">12,416</span> │\n",
       "├─────────────────────────────────┼────────────────────────┼───────────────┤\n",
       "│ dense_17 (<span style=\"color: #0087ff; text-decoration-color: #0087ff\">Dense</span>)                │ (<span style=\"color: #00d7ff; text-decoration-color: #00d7ff\">None</span>, <span style=\"color: #00af00; text-decoration-color: #00af00\">1</span>)              │            <span style=\"color: #00af00; text-decoration-color: #00af00\">33</span> │\n",
       "└─────────────────────────────────┴────────────────────────┴───────────────┘\n",
       "</pre>\n"
      ],
      "text/plain": [
       "┏━━━━━━━━━━━━━━━━━━━━━━━━━━━━━━━━━┳━━━━━━━━━━━━━━━━━━━━━━━━┳━━━━━━━━━━━━━━━┓\n",
       "┃\u001b[1m \u001b[0m\u001b[1mLayer (type)                   \u001b[0m\u001b[1m \u001b[0m┃\u001b[1m \u001b[0m\u001b[1mOutput Shape          \u001b[0m\u001b[1m \u001b[0m┃\u001b[1m \u001b[0m\u001b[1m      Param #\u001b[0m\u001b[1m \u001b[0m┃\n",
       "┡━━━━━━━━━━━━━━━━━━━━━━━━━━━━━━━━━╇━━━━━━━━━━━━━━━━━━━━━━━━╇━━━━━━━━━━━━━━━┩\n",
       "│ embedding_16 (\u001b[38;5;33mEmbedding\u001b[0m)        │ (\u001b[38;5;45mNone\u001b[0m, \u001b[38;5;45mNone\u001b[0m, \u001b[38;5;34m64\u001b[0m)       │       \u001b[38;5;34m640,000\u001b[0m │\n",
       "├─────────────────────────────────┼────────────────────────┼───────────────┤\n",
       "│ lstm_28 (\u001b[38;5;33mLSTM\u001b[0m)                  │ (\u001b[38;5;45mNone\u001b[0m, \u001b[38;5;45mNone\u001b[0m, \u001b[38;5;34m64\u001b[0m)       │        \u001b[38;5;34m33,024\u001b[0m │\n",
       "├─────────────────────────────────┼────────────────────────┼───────────────┤\n",
       "│ lstm_29 (\u001b[38;5;33mLSTM\u001b[0m)                  │ (\u001b[38;5;45mNone\u001b[0m, \u001b[38;5;34m32\u001b[0m)             │        \u001b[38;5;34m12,416\u001b[0m │\n",
       "├─────────────────────────────────┼────────────────────────┼───────────────┤\n",
       "│ dense_17 (\u001b[38;5;33mDense\u001b[0m)                │ (\u001b[38;5;45mNone\u001b[0m, \u001b[38;5;34m1\u001b[0m)              │            \u001b[38;5;34m33\u001b[0m │\n",
       "└─────────────────────────────────┴────────────────────────┴───────────────┘\n"
      ]
     },
     "metadata": {},
     "output_type": "display_data"
    },
    {
     "data": {
      "text/html": [
       "<pre style=\"white-space:pre;overflow-x:auto;line-height:normal;font-family:Menlo,'DejaVu Sans Mono',consolas,'Courier New',monospace\"><span style=\"font-weight: bold\"> Total params: </span><span style=\"color: #00af00; text-decoration-color: #00af00\">685,473</span> (2.61 MB)\n",
       "</pre>\n"
      ],
      "text/plain": [
       "\u001b[1m Total params: \u001b[0m\u001b[38;5;34m685,473\u001b[0m (2.61 MB)\n"
      ]
     },
     "metadata": {},
     "output_type": "display_data"
    },
    {
     "data": {
      "text/html": [
       "<pre style=\"white-space:pre;overflow-x:auto;line-height:normal;font-family:Menlo,'DejaVu Sans Mono',consolas,'Courier New',monospace\"><span style=\"font-weight: bold\"> Trainable params: </span><span style=\"color: #00af00; text-decoration-color: #00af00\">685,473</span> (2.61 MB)\n",
       "</pre>\n"
      ],
      "text/plain": [
       "\u001b[1m Trainable params: \u001b[0m\u001b[38;5;34m685,473\u001b[0m (2.61 MB)\n"
      ]
     },
     "metadata": {},
     "output_type": "display_data"
    },
    {
     "data": {
      "text/html": [
       "<pre style=\"white-space:pre;overflow-x:auto;line-height:normal;font-family:Menlo,'DejaVu Sans Mono',consolas,'Courier New',monospace\"><span style=\"font-weight: bold\"> Non-trainable params: </span><span style=\"color: #00af00; text-decoration-color: #00af00\">0</span> (0.00 B)\n",
       "</pre>\n"
      ],
      "text/plain": [
       "\u001b[1m Non-trainable params: \u001b[0m\u001b[38;5;34m0\u001b[0m (0.00 B)\n"
      ]
     },
     "metadata": {},
     "output_type": "display_data"
    }
   ],
   "source": [
    "embed_size = 64\n",
    "model = keras.models.Sequential([\n",
    "    keras.layers.Input(shape=(None, )),\n",
    "    keras.layers.Embedding(input_dim=10000, output_dim=embed_size,  mask_zero=True),\n",
    "    keras.layers.LSTM(64, return_sequences=True),\n",
    "    keras.layers.LSTM(32),\n",
    "    keras.layers.Dense(1, activation='sigmoid')\n",
    "])\n",
    "model.summary()"
   ]
  },
  {
   "cell_type": "code",
   "execution_count": 61,
   "id": "96dd8502",
   "metadata": {
    "execution": {
     "iopub.execute_input": "2021-08-31T23:20:48.279360Z",
     "iopub.status.busy": "2021-08-31T23:20:48.278247Z",
     "iopub.status.idle": "2021-08-31T23:22:28.909482Z",
     "shell.execute_reply": "2021-08-31T23:22:28.908455Z",
     "shell.execute_reply.started": "2021-08-31T12:04:05.494273Z"
    },
    "papermill": {
     "duration": 100.677893,
     "end_time": "2021-08-31T23:22:28.909662",
     "exception": false,
     "start_time": "2021-08-31T23:20:48.231769",
     "status": "completed"
    },
    "tags": []
   },
   "outputs": [
    {
     "name": "stdout",
     "output_type": "stream",
     "text": [
      "Epoch 1/5\n",
      "\u001b[1m1000/1000\u001b[0m \u001b[32m━━━━━━━━━━━━━━━━━━━━\u001b[0m\u001b[37m\u001b[0m \u001b[1m43s\u001b[0m 41ms/step - accuracy: 0.7194 - loss: 0.5333 - val_accuracy: 0.8288 - val_loss: 0.3837\n",
      "Epoch 2/5\n",
      "\u001b[1m1000/1000\u001b[0m \u001b[32m━━━━━━━━━━━━━━━━━━━━\u001b[0m\u001b[37m\u001b[0m \u001b[1m122s\u001b[0m 122ms/step - accuracy: 0.8674 - loss: 0.3243 - val_accuracy: 0.8129 - val_loss: 0.4068\n",
      "Epoch 3/5\n",
      "\u001b[1m1000/1000\u001b[0m \u001b[32m━━━━━━━━━━━━━━━━━━━━\u001b[0m\u001b[37m\u001b[0m \u001b[1m213s\u001b[0m 193ms/step - accuracy: 0.9046 - loss: 0.2445 - val_accuracy: 0.8288 - val_loss: 0.4016\n",
      "Epoch 4/5\n",
      "\u001b[1m1000/1000\u001b[0m \u001b[32m━━━━━━━━━━━━━━━━━━━━\u001b[0m\u001b[37m\u001b[0m \u001b[1m70s\u001b[0m 70ms/step - accuracy: 0.9377 - loss: 0.1729 - val_accuracy: 0.8194 - val_loss: 0.5292\n",
      "Epoch 5/5\n",
      "\u001b[1m1000/1000\u001b[0m \u001b[32m━━━━━━━━━━━━━━━━━━━━\u001b[0m\u001b[37m\u001b[0m \u001b[1m47s\u001b[0m 47ms/step - accuracy: 0.9556 - loss: 0.1272 - val_accuracy: 0.8194 - val_loss: 0.5126\n"
     ]
    }
   ],
   "source": [
    "optimizer =keras.optimizers.Adam(learning_rate=0.001)\n",
    "model.compile(loss='binary_crossentropy', optimizer=optimizer, metrics=['accuracy'])\n",
    "history = model.fit(X_train, y_train, batch_size=32, epochs=5, validation_data=(X_valid, y_valid))"
   ]
  },
  {
   "cell_type": "code",
   "execution_count": 41,
   "id": "8b069fe8",
   "metadata": {
    "execution": {
     "iopub.execute_input": "2021-08-31T23:22:29.928052Z",
     "iopub.status.busy": "2021-08-31T23:22:29.927273Z",
     "iopub.status.idle": "2021-08-31T23:22:30.238757Z",
     "shell.execute_reply": "2021-08-31T23:22:30.239349Z"
    },
    "papermill": {
     "duration": 0.817792,
     "end_time": "2021-08-31T23:22:30.239600",
     "exception": false,
     "start_time": "2021-08-31T23:22:29.421808",
     "status": "completed"
    },
    "tags": []
   },
   "outputs": [
    {
     "data": {
      "text/plain": [
       "<Axes: >"
      ]
     },
     "execution_count": 41,
     "metadata": {},
     "output_type": "execute_result"
    },
    {
     "data": {
      "image/png": "[encoded data removed]",
      "text/plain": [
       "<Figure size 640x480 with 1 Axes>"
      ]
     },
     "metadata": {},
     "output_type": "display_data"
    }
   ],
   "source": [
    "pd.DataFrame(history.history).plot()"
   ]
  },
  {
   "cell_type": "markdown",
   "id": "ecb1da21",
   "metadata": {
    "papermill": {
     "duration": 0.4949,
     "end_time": "2021-08-31T23:22:31.228122",
     "exception": false,
     "start_time": "2021-08-31T23:22:30.733222",
     "status": "completed"
    },
    "tags": []
   },
   "source": [
    "This simple model is overfitted with training data as the validation loss increases."
   ]
  },
  {
   "cell_type": "code",
   "execution_count": 62,
   "id": "bd3570b5",
   "metadata": {
    "execution": {
     "iopub.execute_input": "2021-08-31T23:22:32.225574Z",
     "iopub.status.busy": "2021-08-31T23:22:32.223907Z",
     "iopub.status.idle": "2021-08-31T23:22:35.113068Z",
     "shell.execute_reply": "2021-08-31T23:22:35.113906Z",
     "shell.execute_reply.started": "2021-08-31T11:52:36.176808Z"
    },
    "papermill": {
     "duration": 3.387112,
     "end_time": "2021-08-31T23:22:35.114209",
     "exception": false,
     "start_time": "2021-08-31T23:22:31.727097",
     "status": "completed"
    },
    "tags": []
   },
   "outputs": [
    {
     "name": "stdout",
     "output_type": "stream",
     "text": [
      "\u001b[1m313/313\u001b[0m \u001b[32m━━━━━━━━━━━━━━━━━━━━\u001b[0m\u001b[37m\u001b[0m \u001b[1m5s\u001b[0m 16ms/step\n",
      "              precision    recall  f1-score   support\n",
      "\n",
      "           0       0.50      1.00      0.66      4976\n",
      "           1       0.00      0.00      0.00      5024\n",
      "\n",
      "    accuracy                           0.50     10000\n",
      "   macro avg       0.25      0.50      0.33     10000\n",
      "weighted avg       0.25      0.50      0.33     10000\n",
      "\n"
     ]
    },
    {
     "name": "stderr",
     "output_type": "stream",
     "text": [
      "c:\\Users\\Usuario\\miniconda3\\envs\\data_analysis_env\\Lib\\site-packages\\sklearn\\metrics\\_classification.py:1565: UndefinedMetricWarning: Precision is ill-defined and being set to 0.0 in labels with no predicted samples. Use `zero_division` parameter to control this behavior.\n",
      "  _warn_prf(average, modifier, f\"{metric.capitalize()} is\", len(result))\n",
      "c:\\Users\\Usuario\\miniconda3\\envs\\data_analysis_env\\Lib\\site-packages\\sklearn\\metrics\\_classification.py:1565: UndefinedMetricWarning: Precision is ill-defined and being set to 0.0 in labels with no predicted samples. Use `zero_division` parameter to control this behavior.\n",
      "  _warn_prf(average, modifier, f\"{metric.capitalize()} is\", len(result))\n",
      "c:\\Users\\Usuario\\miniconda3\\envs\\data_analysis_env\\Lib\\site-packages\\sklearn\\metrics\\_classification.py:1565: UndefinedMetricWarning: Precision is ill-defined and being set to 0.0 in labels with no predicted samples. Use `zero_division` parameter to control this behavior.\n",
      "  _warn_prf(average, modifier, f\"{metric.capitalize()} is\", len(result))\n"
     ]
    },
    {
     "data": {
      "text/plain": [
       "<Axes: >"
      ]
     },
     "execution_count": 62,
     "metadata": {},
     "output_type": "execute_result"
    },
    {
     "data": {
      "image/png": "[encoded data removed]",
      "text/plain": [
       "<Figure size 640x480 with 2 Axes>"
      ]
     },
     "metadata": {},
     "output_type": "display_data"
    }
   ],
   "source": [
    "y_pred = np.argmax(model.predict(X_test), axis=1)\n",
    "\n",
    "print(classification_report(y_test, y_pred))\n",
    "\n",
    "sns.heatmap(confusion_matrix(y_test, y_pred), \n",
    "            annot=True, fmt='.0f', \n",
    "            xticklabels=['Predicted negative', 'Predicted positive'], \n",
    "            yticklabels=['Negative', 'Positive'])"
   ]
  },
  {
   "cell_type": "markdown",
   "id": "5a65124d",
   "metadata": {
    "papermill": {
     "duration": 0.561187,
     "end_time": "2021-08-31T23:22:36.489135",
     "exception": false,
     "start_time": "2021-08-31T23:22:35.927948",
     "status": "completed"
    },
    "tags": []
   },
   "source": [
    "## Modified LSTM model"
   ]
  },
  {
   "cell_type": "markdown",
   "id": "1e2d6624",
   "metadata": {
    "papermill": {
     "duration": 0.500664,
     "end_time": "2021-08-31T23:22:37.491354",
     "exception": false,
     "start_time": "2021-08-31T23:22:36.990690",
     "status": "completed"
    },
    "tags": []
   },
   "source": [
    "We added Dropout layers to prevent overfitting."
   ]
  },
  {
   "cell_type": "code",
   "execution_count": 63,
   "id": "b6e577c9",
   "metadata": {
    "execution": {
     "iopub.execute_input": "2021-08-31T23:22:38.518728Z",
     "iopub.status.busy": "2021-08-31T23:22:38.517658Z",
     "iopub.status.idle": "2021-08-31T23:22:38.697237Z",
     "shell.execute_reply": "2021-08-31T23:22:38.698084Z",
     "shell.execute_reply.started": "2021-08-31T12:05:39.727573Z"
    },
    "papermill": {
     "duration": 0.696167,
     "end_time": "2021-08-31T23:22:38.698367",
     "exception": false,
     "start_time": "2021-08-31T23:22:38.002200",
     "status": "completed"
    },
    "tags": []
   },
   "outputs": [
    {
     "name": "stderr",
     "output_type": "stream",
     "text": [
      "c:\\Users\\Usuario\\miniconda3\\envs\\data_analysis_env\\Lib\\site-packages\\keras\\src\\layers\\core\\embedding.py:100: UserWarning: Do not pass an `input_shape`/`input_dim` argument to a layer. When using Sequential models, prefer using an `Input(shape)` object as the first layer in the model instead.\n",
      "  super().__init__(**kwargs)\n"
     ]
    },
    {
     "data": {
      "text/html": [
       "<pre style=\"white-space:pre;overflow-x:auto;line-height:normal;font-family:Menlo,'DejaVu Sans Mono',consolas,'Courier New',monospace\"><span style=\"font-weight: bold\">Model: \"sequential_18\"</span>\n",
       "</pre>\n"
      ],
      "text/plain": [
       "\u001b[1mModel: \"sequential_18\"\u001b[0m\n"
      ]
     },
     "metadata": {},
     "output_type": "display_data"
    },
    {
     "data": {
      "text/html": [
       "<pre style=\"white-space:pre;overflow-x:auto;line-height:normal;font-family:Menlo,'DejaVu Sans Mono',consolas,'Courier New',monospace\">┏━━━━━━━━━━━━━━━━━━━━━━━━━━━━━━━━━┳━━━━━━━━━━━━━━━━━━━━━━━━┳━━━━━━━━━━━━━━━┓\n",
       "┃<span style=\"font-weight: bold\"> Layer (type)                    </span>┃<span style=\"font-weight: bold\"> Output Shape           </span>┃<span style=\"font-weight: bold\">       Param # </span>┃\n",
       "┡━━━━━━━━━━━━━━━━━━━━━━━━━━━━━━━━━╇━━━━━━━━━━━━━━━━━━━━━━━━╇━━━━━━━━━━━━━━━┩\n",
       "│ embedding_17 (<span style=\"color: #0087ff; text-decoration-color: #0087ff\">Embedding</span>)        │ (<span style=\"color: #00d7ff; text-decoration-color: #00d7ff\">None</span>, <span style=\"color: #00d7ff; text-decoration-color: #00d7ff\">None</span>, <span style=\"color: #00af00; text-decoration-color: #00af00\">64</span>)       │       <span style=\"color: #00af00; text-decoration-color: #00af00\">640,000</span> │\n",
       "├─────────────────────────────────┼────────────────────────┼───────────────┤\n",
       "│ lstm_30 (<span style=\"color: #0087ff; text-decoration-color: #0087ff\">LSTM</span>)                  │ (<span style=\"color: #00d7ff; text-decoration-color: #00d7ff\">None</span>, <span style=\"color: #00af00; text-decoration-color: #00af00\">64</span>)             │        <span style=\"color: #00af00; text-decoration-color: #00af00\">33,024</span> │\n",
       "├─────────────────────────────────┼────────────────────────┼───────────────┤\n",
       "│ dense_18 (<span style=\"color: #0087ff; text-decoration-color: #0087ff\">Dense</span>)                │ (<span style=\"color: #00d7ff; text-decoration-color: #00d7ff\">None</span>, <span style=\"color: #00af00; text-decoration-color: #00af00\">1</span>)              │            <span style=\"color: #00af00; text-decoration-color: #00af00\">65</span> │\n",
       "└─────────────────────────────────┴────────────────────────┴───────────────┘\n",
       "</pre>\n"
      ],
      "text/plain": [
       "┏━━━━━━━━━━━━━━━━━━━━━━━━━━━━━━━━━┳━━━━━━━━━━━━━━━━━━━━━━━━┳━━━━━━━━━━━━━━━┓\n",
       "┃\u001b[1m \u001b[0m\u001b[1mLayer (type)                   \u001b[0m\u001b[1m \u001b[0m┃\u001b[1m \u001b[0m\u001b[1mOutput Shape          \u001b[0m\u001b[1m \u001b[0m┃\u001b[1m \u001b[0m\u001b[1m      Param #\u001b[0m\u001b[1m \u001b[0m┃\n",
       "┡━━━━━━━━━━━━━━━━━━━━━━━━━━━━━━━━━╇━━━━━━━━━━━━━━━━━━━━━━━━╇━━━━━━━━━━━━━━━┩\n",
       "│ embedding_17 (\u001b[38;5;33mEmbedding\u001b[0m)        │ (\u001b[38;5;45mNone\u001b[0m, \u001b[38;5;45mNone\u001b[0m, \u001b[38;5;34m64\u001b[0m)       │       \u001b[38;5;34m640,000\u001b[0m │\n",
       "├─────────────────────────────────┼────────────────────────┼───────────────┤\n",
       "│ lstm_30 (\u001b[38;5;33mLSTM\u001b[0m)                  │ (\u001b[38;5;45mNone\u001b[0m, \u001b[38;5;34m64\u001b[0m)             │        \u001b[38;5;34m33,024\u001b[0m │\n",
       "├─────────────────────────────────┼────────────────────────┼───────────────┤\n",
       "│ dense_18 (\u001b[38;5;33mDense\u001b[0m)                │ (\u001b[38;5;45mNone\u001b[0m, \u001b[38;5;34m1\u001b[0m)              │            \u001b[38;5;34m65\u001b[0m │\n",
       "└─────────────────────────────────┴────────────────────────┴───────────────┘\n"
      ]
     },
     "metadata": {},
     "output_type": "display_data"
    },
    {
     "data": {
      "text/html": [
       "<pre style=\"white-space:pre;overflow-x:auto;line-height:normal;font-family:Menlo,'DejaVu Sans Mono',consolas,'Courier New',monospace\"><span style=\"font-weight: bold\"> Total params: </span><span style=\"color: #00af00; text-decoration-color: #00af00\">673,089</span> (2.57 MB)\n",
       "</pre>\n"
      ],
      "text/plain": [
       "\u001b[1m Total params: \u001b[0m\u001b[38;5;34m673,089\u001b[0m (2.57 MB)\n"
      ]
     },
     "metadata": {},
     "output_type": "display_data"
    },
    {
     "data": {
      "text/html": [
       "<pre style=\"white-space:pre;overflow-x:auto;line-height:normal;font-family:Menlo,'DejaVu Sans Mono',consolas,'Courier New',monospace\"><span style=\"font-weight: bold\"> Trainable params: </span><span style=\"color: #00af00; text-decoration-color: #00af00\">673,089</span> (2.57 MB)\n",
       "</pre>\n"
      ],
      "text/plain": [
       "\u001b[1m Trainable params: \u001b[0m\u001b[38;5;34m673,089\u001b[0m (2.57 MB)\n"
      ]
     },
     "metadata": {},
     "output_type": "display_data"
    },
    {
     "data": {
      "text/html": [
       "<pre style=\"white-space:pre;overflow-x:auto;line-height:normal;font-family:Menlo,'DejaVu Sans Mono',consolas,'Courier New',monospace\"><span style=\"font-weight: bold\"> Non-trainable params: </span><span style=\"color: #00af00; text-decoration-color: #00af00\">0</span> (0.00 B)\n",
       "</pre>\n"
      ],
      "text/plain": [
       "\u001b[1m Non-trainable params: \u001b[0m\u001b[38;5;34m0\u001b[0m (0.00 B)\n"
      ]
     },
     "metadata": {},
     "output_type": "display_data"
    }
   ],
   "source": [
    "embed_size = 64\n",
    "model_v2 = keras.models.Sequential([\n",
    "    keras.layers.Embedding(input_dim=10000, output_dim=embed_size, input_shape=[None], mask_zero=True),\n",
    "    keras.layers.LSTM(64, return_sequences=False, dropout=0.2, recurrent_dropout=0.2),\n",
    "    keras.layers.Dense(1, activation='sigmoid')\n",
    "])\n",
    "model_v2.summary()"
   ]
  },
  {
   "cell_type": "code",
   "execution_count": 64,
   "id": "c7daa7c5",
   "metadata": {
    "execution": {
     "iopub.execute_input": "2021-08-31T23:22:40.144546Z",
     "iopub.status.busy": "2021-08-31T23:22:40.143636Z",
     "iopub.status.idle": "2021-08-31T23:45:29.414806Z",
     "shell.execute_reply": "2021-08-31T23:45:29.414242Z",
     "shell.execute_reply.started": "2021-08-31T12:06:29.971333Z"
    },
    "papermill": {
     "duration": 1370.149209,
     "end_time": "2021-08-31T23:45:29.415018",
     "exception": false,
     "start_time": "2021-08-31T23:22:39.265809",
     "status": "completed"
    },
    "tags": []
   },
   "outputs": [
    {
     "name": "stdout",
     "output_type": "stream",
     "text": [
      "Epoch 1/20\n",
      "\u001b[1m500/500\u001b[0m \u001b[32m━━━━━━━━━━━━━━━━━━━━\u001b[0m\u001b[37m\u001b[0m \u001b[1m33s\u001b[0m 61ms/step - accuracy: 0.5670 - loss: 0.6786 - val_accuracy: 0.7695 - val_loss: 0.5331\n",
      "Epoch 2/20\n",
      "\u001b[1m500/500\u001b[0m \u001b[32m━━━━━━━━━━━━━━━━━━━━\u001b[0m\u001b[37m\u001b[0m \u001b[1m28s\u001b[0m 55ms/step - accuracy: 0.7739 - loss: 0.5478 - val_accuracy: 0.7959 - val_loss: 0.4639\n",
      "Epoch 3/20\n",
      "\u001b[1m500/500\u001b[0m \u001b[32m━━━━━━━━━━━━━━━━━━━━\u001b[0m\u001b[37m\u001b[0m \u001b[1m28s\u001b[0m 56ms/step - accuracy: 0.8196 - loss: 0.4686 - val_accuracy: 0.8159 - val_loss: 0.4290\n",
      "Epoch 4/20\n",
      "\u001b[1m500/500\u001b[0m \u001b[32m━━━━━━━━━━━━━━━━━━━━\u001b[0m\u001b[37m\u001b[0m \u001b[1m28s\u001b[0m 56ms/step - accuracy: 0.8362 - loss: 0.4291 - val_accuracy: 0.8250 - val_loss: 0.3992\n",
      "Epoch 5/20\n",
      "\u001b[1m500/500\u001b[0m \u001b[32m━━━━━━━━━━━━━━━━━━━━\u001b[0m\u001b[37m\u001b[0m \u001b[1m29s\u001b[0m 58ms/step - accuracy: 0.8537 - loss: 0.3875 - val_accuracy: 0.8191 - val_loss: 0.3959\n",
      "Epoch 6/20\n",
      "\u001b[1m500/500\u001b[0m \u001b[32m━━━━━━━━━━━━━━━━━━━━\u001b[0m\u001b[37m\u001b[0m \u001b[1m29s\u001b[0m 57ms/step - accuracy: 0.8607 - loss: 0.3721 - val_accuracy: 0.8321 - val_loss: 0.3858\n",
      "Epoch 7/20\n",
      "\u001b[1m500/500\u001b[0m \u001b[32m━━━━━━━━━━━━━━━━━━━━\u001b[0m\u001b[37m\u001b[0m \u001b[1m36s\u001b[0m 72ms/step - accuracy: 0.8705 - loss: 0.3448 - val_accuracy: 0.8319 - val_loss: 0.3813\n",
      "Epoch 8/20\n",
      "\u001b[1m500/500\u001b[0m \u001b[32m━━━━━━━━━━━━━━━━━━━━\u001b[0m\u001b[37m\u001b[0m \u001b[1m29s\u001b[0m 58ms/step - accuracy: 0.8802 - loss: 0.3261 - val_accuracy: 0.8250 - val_loss: 0.3909\n",
      "Epoch 9/20\n",
      "\u001b[1m500/500\u001b[0m \u001b[32m━━━━━━━━━━━━━━━━━━━━\u001b[0m\u001b[37m\u001b[0m \u001b[1m29s\u001b[0m 59ms/step - accuracy: 0.8816 - loss: 0.3142 - val_accuracy: 0.8305 - val_loss: 0.3853\n",
      "Epoch 10/20\n",
      "\u001b[1m500/500\u001b[0m \u001b[32m━━━━━━━━━━━━━━━━━━━━\u001b[0m\u001b[37m\u001b[0m \u001b[1m29s\u001b[0m 58ms/step - accuracy: 0.8915 - loss: 0.3009 - val_accuracy: 0.8275 - val_loss: 0.3927\n",
      "Epoch 11/20\n",
      "\u001b[1m500/500\u001b[0m \u001b[32m━━━━━━━━━━━━━━━━━━━━\u001b[0m\u001b[37m\u001b[0m \u001b[1m37s\u001b[0m 74ms/step - accuracy: 0.8943 - loss: 0.2877 - val_accuracy: 0.8294 - val_loss: 0.3949\n",
      "Epoch 12/20\n",
      "\u001b[1m500/500\u001b[0m \u001b[32m━━━━━━━━━━━━━━━━━━━━\u001b[0m\u001b[37m\u001b[0m \u001b[1m29s\u001b[0m 58ms/step - accuracy: 0.8963 - loss: 0.2805 - val_accuracy: 0.8274 - val_loss: 0.4032\n"
     ]
    }
   ],
   "source": [
    "early_stopping_cb = keras.callbacks.EarlyStopping(patience=5, restore_best_weights=True)\n",
    "optimizer = keras.optimizers.Adam(learning_rate=0.0001)\n",
    "model_v2.compile(loss='binary_crossentropy', optimizer=optimizer, metrics=['accuracy'])\n",
    "history = model_v2.fit(X_train, y_train, epochs=20, batch_size=64, validation_data=(X_valid, y_valid), callbacks=[early_stopping_cb])"
   ]
  },
  {
   "cell_type": "code",
   "execution_count": 65,
   "id": "9d2d1967",
   "metadata": {
    "execution": {
     "iopub.execute_input": "2021-08-31T23:45:34.083298Z",
     "iopub.status.busy": "2021-08-31T23:45:34.082168Z",
     "iopub.status.idle": "2021-08-31T23:45:34.314521Z",
     "shell.execute_reply": "2021-08-31T23:45:34.315155Z",
     "shell.execute_reply.started": "2021-08-31T12:32:45.464539Z"
    },
    "papermill": {
     "duration": 2.426961,
     "end_time": "2021-08-31T23:45:34.315431",
     "exception": false,
     "start_time": "2021-08-31T23:45:31.888470",
     "status": "completed"
    },
    "tags": []
   },
   "outputs": [
    {
     "data": {
      "text/plain": [
       "<Axes: >"
      ]
     },
     "execution_count": 65,
     "metadata": {},
     "output_type": "execute_result"
    },
    {
     "data": {
      "image/png": "[encoded data removed]",
      "text/plain": [
       "<Figure size 640x480 with 1 Axes>"
      ]
     },
     "metadata": {},
     "output_type": "display_data"
    }
   ],
   "source": [
    "pd.DataFrame(history.history).plot()"
   ]
  },
  {
   "cell_type": "markdown",
   "id": "2965e389",
   "metadata": {
    "execution": {
     "iopub.execute_input": "2021-08-31T13:52:44.777685Z",
     "iopub.status.busy": "2021-08-31T13:52:44.777289Z",
     "iopub.status.idle": "2021-08-31T13:52:44.789145Z",
     "shell.execute_reply": "2021-08-31T13:52:44.787712Z",
     "shell.execute_reply.started": "2021-08-31T13:52:44.777606Z"
    },
    "papermill": {
     "duration": 2.581559,
     "end_time": "2021-08-31T23:45:39.289416",
     "exception": false,
     "start_time": "2021-08-31T23:45:36.707857",
     "status": "completed"
    },
    "tags": []
   },
   "source": [
    "Looks better than first model."
   ]
  },
  {
   "cell_type": "code",
   "execution_count": 70,
   "id": "082ef6a1",
   "metadata": {
    "execution": {
     "iopub.execute_input": "2021-08-31T23:45:43.956651Z",
     "iopub.status.busy": "2021-08-31T23:45:43.955667Z",
     "iopub.status.idle": "2021-08-31T23:45:57.319968Z",
     "shell.execute_reply": "2021-08-31T23:45:57.320539Z",
     "shell.execute_reply.started": "2021-08-31T12:33:18.060662Z"
    },
    "papermill": {
     "duration": 15.536904,
     "end_time": "2021-08-31T23:45:57.320724",
     "exception": false,
     "start_time": "2021-08-31T23:45:41.783820",
     "status": "completed"
    },
    "tags": []
   },
   "outputs": [
    {
     "name": "stdout",
     "output_type": "stream",
     "text": [
      "\u001b[1m313/313\u001b[0m \u001b[32m━━━━━━━━━━━━━━━━━━━━\u001b[0m\u001b[37m\u001b[0m \u001b[1m5s\u001b[0m 14ms/step\n",
      "              precision    recall  f1-score   support\n",
      "\n",
      "           0       0.81      0.83      0.82      4976\n",
      "           1       0.82      0.80      0.81      5024\n",
      "\n",
      "    accuracy                           0.81     10000\n",
      "   macro avg       0.82      0.81      0.81     10000\n",
      "weighted avg       0.82      0.81      0.81     10000\n",
      "\n"
     ]
    },
    {
     "data": {
      "text/plain": [
       "<Axes: >"
      ]
     },
     "execution_count": 70,
     "metadata": {},
     "output_type": "execute_result"
    },
    {
     "data": {
      "image/png": "[encoded data removed]",
      "text/plain": [
       "<Figure size 640x480 with 2 Axes>"
      ]
     },
     "metadata": {},
     "output_type": "display_data"
    }
   ],
   "source": [
    "y_pred = (model.predict(X_test) > 0.5).astype(\"int32\")\n",
    "\n",
    "print(classification_report(y_test, y_pred))\n",
    "\n",
    "sns.heatmap(confusion_matrix(y_test, y_pred), \n",
    "            annot=True, fmt='.0f', \n",
    "            xticklabels=['Predicted negative', 'Predicted positive'], \n",
    "            yticklabels=['Negative', 'Positive'])"
   ]
  },
  {
   "cell_type": "markdown",
   "id": "808c2809",
   "metadata": {
    "papermill": {
     "duration": 2.236395,
     "end_time": "2021-08-31T23:46:01.757922",
     "exception": false,
     "start_time": "2021-08-31T23:45:59.521527",
     "status": "completed"
    },
    "tags": []
   },
   "source": [
    "Use of full-sentences would increase accurcy. But it is time-consuming and seems difficult to overwhelm simple Logistic regression model."
   ]
  }
 ],
 "metadata": {
  "kernelspec": {
   "display_name": "data_analysis_env",
   "language": "python",
   "name": "python3"
  },
  "language_info": {
   "codemirror_mode": {
    "name": "ipython",
    "version": 3
   },
   "file_extension": ".py",
   "mimetype": "text/x-python",
   "name": "python",
   "nbconvert_exporter": "python",
   "pygments_lexer": "ipython3",
   "version": "3.11.11"
  },
  "papermill": {
   "default_parameters": {},
   "duration": 1576.321975,
   "end_time": "2021-08-31T23:46:07.770641",
   "environment_variables": {},
   "exception": null,
   "input_path": "__notebook__.ipynb",
   "output_path": "__notebook__.ipynb",
   "parameters": {},
   "start_time": "2021-08-31T23:19:51.448666",
   "version": "2.3.3"
  }
 },
 "nbformat": 4,
 "nbformat_minor": 5
}
