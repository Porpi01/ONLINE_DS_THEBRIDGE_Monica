{
 "cells": [
  {
   "cell_type": "markdown",
   "id": "5b248de7",
   "metadata": {},
   "source": [
    "vector denso vs vector sparse\n",
    "\n",
    "sparse: tiene tanto elementos 0 q vamos a intentar comprimirlos\n",
    "\n",
    "Vectorizacion convertir frase a vector el cual debe tener siempre el mismo tamaño CountVectorizer\n",
    "\n"
   ]
  },
  {
   "cell_type": "code",
   "execution_count": null,
   "id": "2ee06089",
   "metadata": {
    "vscode": {
     "languageId": "plaintext"
    }
   },
   "outputs": [],
   "source": [
    "ejercicio imdb mejorando el text cleaning es decir intentar hacer mejor el preprocesado, en cuanto a la red neuronal probar otras capas LSTM, prbar con otros valores no solo con 500 (200,1000)"
   ]
  }
 ],
 "metadata": {
  "language_info": {
   "name": "python"
  }
 },
 "nbformat": 4,
 "nbformat_minor": 5
}
