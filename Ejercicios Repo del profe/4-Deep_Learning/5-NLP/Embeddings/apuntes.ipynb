{
 "cells": [
  {
   "cell_type": "markdown",
   "id": "611fe5e9",
   "metadata": {},
   "source": [
    "hacer ventana temporal, estipulando cuantos valores previos voy a usar para predecir los siguientes. Siempre un rango de 100.\n",
    "\n",
    "EJERCICIO CASA\n",
    "\n",
    "ejercicio_emb_lstm y "
   ]
  }
 ],
 "metadata": {
  "language_info": {
   "name": "python"
  }
 },
 "nbformat": 4,
 "nbformat_minor": 5
}
