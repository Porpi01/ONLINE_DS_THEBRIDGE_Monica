{
 "cells": [
  {
   "cell_type": "markdown",
   "metadata": {},
   "source": [
    "# 🏋️‍♂️ Clasificación de Noticias con Embeddings y LSTMs\n",
    "\n",
    "## El Objetivo\n",
    "\n",
    "Nuestro objetivo es construir y entrenar un modelo de Deep Learning capaz de clasificar titulares de noticias en una de cuatro categorías predefinidas. Para ello, usaremos el dataset **AG News**.\n",
    "\n",
    "## El Dataset: AG News\n",
    "\n",
    "A diferencia del conocido dataset de reviews de películas de IMDB, AG News nos presenta un reto de **clasificación multiclase**. Los titulares pertenecen a una de las siguientes 4 categorías:\n",
    "\n",
    "1.  **World (Mundo)**\n",
    "2.  **Sports (Deportes)**\n",
    "3.  **Business (Negocios)**\n",
    "4.  **Sci/Tech (Ciencia/Tecnología)**\n",
    "\n",
    "A lo largo de este notebook, seguirás los siguientes pasos:\n",
    "\n",
    "1.  **Carga de Datos**: Cargaremos el dataset usando la librería `tensorflow_datasets`.\n",
    "2.  **Preprocesamiento**: Prepararemos el texto para que nuestro modelo pueda entenderlo (Tokenización, Padding).\n",
    "3.  **Construcción del Modelo**: Diseñaremos una red neuronal con una capa de `Embedding` y una capa `LSTM`.\n",
    "4.  **Entrenamiento**: Entrenaremos el modelo con nuestros datos, usando callbacks para optimizar el proceso.\n",
    "5.  **Evaluación**: Mediremos qué tan bueno es nuestro modelo usando métricas adecuadas y visualizaciones.\n",
    "\n"
   ]
  },
  {
   "cell_type": "markdown",
   "metadata": {},
   "source": [
    "## 0. Importación de Librerías\n",
    "\n",
    "Primero, importemos todas las herramientas que necesitaremos en nuestro taller."
   ]
  },
  {
   "cell_type": "code",
   "execution_count": 3,
   "metadata": {},
   "outputs": [],
   "source": [
    "# !pip install tensorflow-datasets"
   ]
  },
  {
   "cell_type": "code",
   "execution_count": 4,
   "metadata": {},
   "outputs": [],
   "source": [
    "import numpy as np\n",
    "import matplotlib.pyplot as plt\n",
    "import seaborn as sns\n",
    "\n",
    "# TensorFlow y Keras\n",
    "import tensorflow as tf\n",
    "import tensorflow_datasets as tfds\n",
    "from tensorflow.keras.preprocessing.text import Tokenizer\n",
    "from tensorflow.keras.preprocessing.sequence import pad_sequences\n",
    "from tensorflow.keras.models import Sequential\n",
    "from tensorflow.keras.layers import Embedding, LSTM, Dense, Bidirectional, Dropout\n",
    "from tensorflow.keras.callbacks import EarlyStopping\n",
    "\n",
    "# Scikit-learn para el split y la evaluación\n",
    "from sklearn.model_selection import train_test_split\n",
    "from sklearn.metrics import classification_report, confusion_matrix"
   ]
  },
  {
   "cell_type": "markdown",
   "metadata": {},
   "source": [
    "## 1. Carga del Dataset\n",
    "\n",
    "Usaremos `tensorflow_datasets` para cargar el dataset `ag_news_subset`. Esta es una forma muy cómoda y estandarizada de acceder a datasets públicos.\n",
    "\n",
    "El objeto `ds` que cargamos es un `tf.data.Dataset`, que es muy eficiente pero necesita ser convertido a un formato más manejable como listas de Python para nuestro preprocesamiento con Scikit-learn y Keras."
   ]
  },
  {
   "cell_type": "code",
   "execution_count": 5,
   "metadata": {},
   "outputs": [
    {
     "name": "stderr",
     "output_type": "stream",
     "text": [
      "WARNING:absl:Variant folder C:\\Users\\Ort\\tensorflow_datasets\\ag_news_subset\\1.0.0 has no dataset_info.json\n",
      "c:\\Users\\Ort\\miniconda3\\envs\\data_env\\Lib\\site-packages\\tqdm\\auto.py:21: TqdmWarning: IProgress not found. Please update jupyter and ipywidgets. See https://ipywidgets.readthedocs.io/en/stable/user_install.html\n",
      "  from .autonotebook import tqdm as notebook_tqdm\n"
     ]
    },
    {
     "name": "stdout",
     "output_type": "stream",
     "text": [
      "\u001b[1mDownloading and preparing dataset Unknown size (download: Unknown size, generated: Unknown size, total: Unknown size) to C:\\Users\\Ort\\tensorflow_datasets\\ag_news_subset\\1.0.0...\u001b[0m\n"
     ]
    },
    {
     "name": "stderr",
     "output_type": "stream",
     "text": [
      "Dl Completed...: 0 url [00:00, ? url/s]\n",
      "Dl Completed...:   0%|          | 0/1 [00:00<?, ? url/s]\n",
      "Dl Completed...:   0%|          | 0/1 [00:16<?, ? url/s]\n",
      "Dl Completed...:   0%|          | 0/1 [00:16<?, ? url/s]\n",
      "Dl Completed...:   0%|          | 0/1 [00:16<?, ? url/s]\n",
      "Dl Completed...:   0%|          | 0/1 [00:16<?, ? url/s]\n",
      "Dl Completed...:   0%|          | 0/1 [00:16<?, ? url/s]\n",
      "Dl Completed...:   0%|          | 0/1 [00:16<?, ? url/s]\n",
      "Dl Completed...:   0%|          | 0/1 [00:16<?, ? url/s]\n",
      "Dl Completed...:   0%|          | 0/1 [00:16<?, ? url/s]\n",
      "Dl Completed...:   0%|          | 0/1 [00:17<?, ? url/s]\n",
      "Dl Completed...:   0%|          | 0/1 [00:17<?, ? url/s]\n",
      "Dl Completed...:   0%|          | 0/1 [00:17<?, ? url/s]\n",
      "Dl Completed...:   0%|          | 0/1 [00:17<?, ? url/s]\n",
      "Dl Completed...: 100%|██████████| 1/1 [00:17<00:00, 17.27s/ url]\n",
      "Dl Completed...: 100%|██████████| 1/1 [00:17<00:00, 17.27s/ url]\n",
      "Dl Completed...: 100%|██████████| 1/1 [00:17<00:00, 17.27s/ url]\n",
      "Dl Completed...: 100%|██████████| 1/1 [00:17<00:00, 17.27s/ url]\n",
      "Dl Completed...: 100%|██████████| 1/1 [00:17<00:00, 17.27s/ url]\n",
      "\u001b[A\n",
      "Dl Completed...: 100%|██████████| 1/1 [00:17<00:00, 17.27s/ url]\n",
      "Dl Completed...: 100%|██████████| 1/1 [00:17<00:00, 17.27s/ url]\n",
      "Dl Completed...: 100%|██████████| 1/1 [00:17<00:00, 17.27s/ url]\n",
      "Dl Completed...: 100%|██████████| 1/1 [00:17<00:00, 17.27s/ url]\n",
      "Extraction completed...: 100%|██████████| 4/4 [00:17<00:00,  4.40s/ file]\n",
      "Dl Size...: 100%|██████████| 11/11 [00:17<00:00,  1.60s/ MiB]\n",
      "Dl Completed...: 100%|██████████| 1/1 [00:17<00:00, 17.60s/ url]\n",
      "                                                                        \r"
     ]
    },
    {
     "name": "stdout",
     "output_type": "stream",
     "text": [
      "\u001b[1mDataset ag_news_subset downloaded and prepared to C:\\Users\\Ort\\tensorflow_datasets\\ag_news_subset\\1.0.0. Subsequent calls will reuse this data.\u001b[0m\n",
      "FeaturesDict({\n",
      "    'description': Text(shape=(), dtype=string),\n",
      "    'label': ClassLabel(shape=(), dtype=int64, num_classes=4),\n",
      "    'title': Text(shape=(), dtype=string),\n",
      "})\n",
      "Nombre de las clases: ['World', 'Sports', 'Business', 'Sci/Tech']\n",
      "Número de clases: 4\n"
     ]
    }
   ],
   "source": [
    "# Cargar el dataset\n",
    "ds, ds_info = tfds.load('ag_news_subset', with_info=True, as_supervised=True)\n",
    "ds_train = ds['train']\n",
    "ds_test = ds['test'] # Ojo, este es el test set oficial. Nosotros crearemos nuestro propio split.\n",
    "\n",
    "# Info del dataset\n",
    "print(ds_info.features)\n",
    "print(f\"Nombre de las clases: {ds_info.features['label'].names}\")\n",
    "print(f\"Número de clases: {ds_info.features['label'].num_classes}\")\n"
   ]
  },
  {
   "cell_type": "markdown",
   "metadata": {},
   "source": [
    "### ✍️ **Tu Tarea (1/7): Extraer Datos a Listas**\n",
    "\n",
    "Ahora, itera sobre el `tf.data.Dataset` (`ds_train`) y extrae las descripciones (texto) y las etiquetas (labels) a dos listas de Python: `sentences` y `labels`.\n",
    "\n",
    "**Pista:** Los datos vienen en tensores de TensorFlow. Puede que necesites usar `.numpy()` para convertirlos a valores de NumPy/Python."
   ]
  },
  {
   "cell_type": "code",
   "execution_count": null,
   "metadata": {},
   "outputs": [
    {
     "name": "stdout",
     "output_type": "stream",
     "text": [
      "Total de frases: 120000\n",
      "Total de etiquetas: 120000\n",
      "\n",
      "Ejemplo de frase:\n",
      "AMD #39;s new dual-core Opteron chip is designed mainly for corporate computing applications, including databases, Web services, and financial transactions.\n",
      "Etiqueta correspondiente: 3 (Sci/Tech) \n"
     ]
    }
   ],
   "source": [
    "sentences = []\n",
    "labels = []\n",
    "\n",
    "### TU CÓDIGO AQUÍ ###\n",
    "# Itera sobre el dataset ds_train.\n",
    "# En cada iteración, obtienes un (texto, etiqueta).\n",
    "# Añade el texto (decodificado a utf-8) a la lista 'sentences'.\n",
    "# Añade la etiqueta a la lista 'labels'.\n",
    "\n",
    "\n",
    "\n",
    "\n",
    "\n",
    "\n",
    "### FIN DE TU CÓDIGO ###\n",
    "\n",
    "# Convertimos las listas a arrays de numpy para mayor eficiencia\n",
    "labels = np.array(labels)\n",
    "\n",
    "print(f\"Total de frases: {len(sentences)}\")\n",
    "print(f\"Total de etiquetas: {len(labels)}\")\n",
    "print(\"\\nEjemplo de frase:\")\n",
    "print(sentences[0])\n",
    "print(f\"Etiqueta correspondiente: {labels[0]} ({ds_info.features['label'].names[labels[0]]}) \")"
   ]
  },
  {
   "cell_type": "markdown",
   "metadata": {},
   "source": [
    "## 2. Preprocesamiento de los Datos\n",
    "\n",
    "¡Genial! Ahora que tenemos los datos en un formato manejable, es hora de prepararlos para la red neuronal. Este es uno de los pasos más importantes en cualquier proyecto de NLP."
   ]
  },
  {
   "cell_type": "markdown",
   "metadata": {},
   "source": [
    "### ✍️ **Tu Tarea (2/7): División en Train y Validation**\n",
    "\n",
    "Antes de hacer nada, debemos separar nuestros datos en un conjunto de entrenamiento y uno de validación. Usaremos `train_test_split` de Scikit-learn.\n",
    "\n",
    "**Pista:** Es una buena práctica usar el parámetro `stratify` en problemas de clasificación para asegurar que la proporción de clases sea la misma en ambos conjuntos."
   ]
  },
  {
   "cell_type": "code",
   "execution_count": null,
   "metadata": {},
   "outputs": [
    {
     "name": "stdout",
     "output_type": "stream",
     "text": [
      "Frases de entrenamiento: 96000\n",
      "Frases de validación: 24000\n"
     ]
    }
   ],
   "source": [
    "### TU CÓDIGO AQUÍ ###\n",
    "# Usa train_test_split para dividir 'sentences' y 'labels'.\n",
    "# Usa un 20% de los datos para validación (test_size=0.2).\n",
    "# Fija un random_state para que los resultados sean reproducibles (ej. random_state=42).\n",
    "# ¡No te olvides de estratificar por las etiquetas!\n",
    "\n",
    "\n",
    "\n",
    "\n",
    "\n",
    "### FIN DE TU CÓDIGO ###\n",
    "\n",
    "print(f\"Frases de entrenamiento: {len(train_sentences)}\")\n",
    "print(f\"Frases de validación: {len(val_sentences)}\")"
   ]
  },
  {
   "cell_type": "markdown",
   "metadata": {},
   "source": [
    "### ✍️ **Tu Tarea (3/7): Tokenización**\n",
    "\n",
    "Las redes neuronales no entienden de palabras, solo de números. La **tokenización** es el proceso de convertir texto en secuencias de números (tokens).\n",
    "\n",
    "Usaremos el `Tokenizer` de Keras. Recuerda una regla de oro: **el `Tokenizer` se \"entrena\" (se ajusta) ÚNICAMENTE con los datos de entrenamiento** para evitar fuga de datos (data leakage).\n",
    "\n",
    "**Pista:** El proceso es:\n",
    "1.  Crear el `Tokenizer` (puedes limitar el número de palabras con `num_words`).\n",
    "2.  Ajustarlo con `fit_on_texts()` usando los datos de `train`.\n",
    "3.  Convertir los textos de `train` y `validation` a secuencias numéricas con `texts_to_sequences()`."
   ]
  },
  {
   "cell_type": "code",
   "execution_count": null,
   "metadata": {},
   "outputs": [
    {
     "name": "stdout",
     "output_type": "stream",
     "text": [
      "Tamaño del vocabulario encontrado: 58637\n",
      "\n",
      "Ejemplo de frase original:\n",
      "University of California regents yesterday resoundingly rejected a proposal that sought to add a  quot;multiracial quot; category to UC #39;s admissions application.\n",
      "\n",
      "Su correspondiente secuencia tokenizada:\n",
      "[519, 5, 562, 1, 62, 1, 1223, 3, 1356, 12, 1741, 4, 1797, 3, 37, 1, 37, 6072, 4, 1, 10, 11, 1, 1171]\n"
     ]
    }
   ],
   "source": [
    "# Hiperparámetros para el preprocesamiento\n",
    "vocab_size = 10000  # Tamaño del vocabulario (palabras más comunes)\n",
    "oov_tok = \"<OOV>\"    # Token para palabras fuera del vocabulario\n",
    "\n",
    "### TU CÓDIGO AQUÍ ###\n",
    "\n",
    "\n",
    "# 1. Crea una instancia de Tokenizer\n",
    "\n",
    "# 2. Ajústalo SOLO con las frases de entrenamiento\n",
    "\n",
    "# Obtenemos el índice de palabras (word_index)\n",
    "\n",
    "# 3. Convierte las frases de entrenamiento y validación en secuencias\n",
    "\n",
    "\n",
    "\n",
    "\n",
    "### FIN DE TU CÓDIGO ###\n",
    "\n",
    "print(f\"Tamaño del vocabulario encontrado: {len(word_index)}\")\n",
    "print(\"\\nEjemplo de frase original:\")\n",
    "print(train_sentences[1])\n",
    "print(\"\\nSu correspondiente secuencia tokenizada:\")\n",
    "print(train_sequences[1])"
   ]
  },
  {
   "cell_type": "markdown",
   "metadata": {},
   "source": [
    "### ✍️ **Tu Tarea (4/7): Padding**\n",
    "\n",
    "Nuestras secuencias tienen longitudes diferentes. Para que la red neuronal pueda procesarlas en lotes (batches), todas deben tener la misma longitud. A este proceso se le llama **padding**.\n",
    "\n",
    "**Pista:** Usa la función `pad_sequences` de Keras. Tendrás que decidir una longitud máxima (`maxlen`). Una buena práctica es analizar la distribución de longitudes de tus secuencias. También debes decidir si el padding se añade antes (`pre`) o después (`post`) de la secuencia."
   ]
  },
  {
   "cell_type": "code",
   "execution_count": null,
   "metadata": {},
   "outputs": [
    {
     "name": "stdout",
     "output_type": "stream",
     "text": [
      "\n",
      "Forma (shape) de los datos de entrenamiento con padding:\n",
      "(96000, 50)\n",
      "\n",
      "Forma (shape) de los datos de validación con padding:\n",
      "(24000, 50)\n",
      "\n",
      "Ejemplo de secuencia con padding:\n",
      "[ 519    5  562    1   62    1 1223    3 1356   12 1741    4 1797    3\n",
      "   37    1   37 6072    4    1   10   11    1 1171    0    0    0    0\n",
      "    0    0    0    0    0    0    0    0    0    0    0    0    0    0\n",
      "    0    0    0    0    0    0    0    0]\n"
     ]
    }
   ],
   "source": [
    "# Hiperparámetros para el padding\n",
    "max_length = 50     # Longitud máxima de las secuencias\n",
    "trunc_type = 'post' # Truncar al final si la secuencia es más larga\n",
    "padding_type = 'post'# Rellenar al final si la secuencia es más corta\n",
    "\n",
    "### TU CÓDIGO AQUÍ ###\n",
    "\n",
    "\n",
    "# Aplica padding a las secuencias de entrenamiento\n",
    "\n",
    "\n",
    "\n",
    "# Aplica padding a las secuencias de validación\n",
    "\n",
    "\n",
    "### FIN DE TU CÓDIGO ###\n",
    "\n",
    "print(\"\\nForma (shape) de los datos de entrenamiento con padding:\")\n",
    "print(train_padded.shape)\n",
    "print(\"\\nForma (shape) de los datos de validación con padding:\")\n",
    "print(val_padded.shape)\n",
    "print(\"\\nEjemplo de secuencia con padding:\")\n",
    "print(train_padded[1])"
   ]
  },
  {
   "cell_type": "markdown",
   "metadata": {},
   "source": [
    "## 3. Construcción del Modelo con Embedding y LSTM\n",
    "\n",
    "¡Datos listos! Es el momento de la verdad: construir nuestra arquitectura de red neuronal."
   ]
  },
  {
   "cell_type": "markdown",
   "metadata": {},
   "source": [
    "### ✍️ **Tu Tarea (5/7): Definir la Arquitectura**\n",
    "\n",
    "Crea un modelo secuencial en Keras con las siguientes capas:\n",
    "\n",
    "1.  **Capa `Embedding`**: Será la primera capa. Es la que convierte los índices de palabras en vectores densos y aprende las relaciones entre palabras.\n",
    "    -   `input_dim`: El tamaño de nuestro vocabulario.\n",
    "    -   `output_dim`: La dimensionalidad del vector de embedding (un hiperparámetro a elegir).\n",
    "    -   `input_length`: La longitud de nuestras secuencias ya \"paddeadas\".\n",
    "\n",
    "2.  **Capa `Bidirectional(LSTM)`**: Usaremos una LSTM Bidireccional, que lee la secuencia en ambos sentidos (de izquierda a derecha y de derecha a izquierda), lo que suele dar mejores resultados en tareas de NLP.\n",
    "    -   `units`: El número de neuronas en la LSTM (otro hiperparámetro).\n",
    "\n",
    "3.  **Capa `Dense`**: Una capa oculta fully-connected con activación `relu` para añadir más capacidad de aprendizaje.\n",
    "\n",
    "4.  **Capa `Dense` de Salida**: La capa final. Debe tener tantas neuronas como clases tengamos y usar la función de activación adecuada para clasificación multiclase.\n",
    "    -   `units`: Número de clases.\n",
    "    -   `activation`: Para clasificación multiclase, `softmax` es la elección correcta.\n",
    "\n",
    "**Pista:** Puedes añadir capas de `Dropout` entre las capas `LSTM` y `Dense` para reducir el overfitting."
   ]
  },
  {
   "cell_type": "code",
   "execution_count": null,
   "metadata": {},
   "outputs": [
    {
     "name": "stderr",
     "output_type": "stream",
     "text": [
      "c:\\Users\\Ort\\miniconda3\\envs\\data_env\\Lib\\site-packages\\keras\\src\\layers\\core\\embedding.py:97: UserWarning: Argument `input_length` is deprecated. Just remove it.\n",
      "  warnings.warn(\n"
     ]
    },
    {
     "data": {
      "text/html": [
       "<pre style=\"white-space:pre;overflow-x:auto;line-height:normal;font-family:Menlo,'DejaVu Sans Mono',consolas,'Courier New',monospace\"><span style=\"font-weight: bold\">Model: \"sequential\"</span>\n",
       "</pre>\n"
      ],
      "text/plain": [
       "\u001b[1mModel: \"sequential\"\u001b[0m\n"
      ]
     },
     "metadata": {},
     "output_type": "display_data"
    },
    {
     "data": {
      "text/html": [
       "<pre style=\"white-space:pre;overflow-x:auto;line-height:normal;font-family:Menlo,'DejaVu Sans Mono',consolas,'Courier New',monospace\">┏━━━━━━━━━━━━━━━━━━━━━━━━━━━━━━━━━┳━━━━━━━━━━━━━━━━━━━━━━━━┳━━━━━━━━━━━━━━━┓\n",
       "┃<span style=\"font-weight: bold\"> Layer (type)                    </span>┃<span style=\"font-weight: bold\"> Output Shape           </span>┃<span style=\"font-weight: bold\">       Param # </span>┃\n",
       "┡━━━━━━━━━━━━━━━━━━━━━━━━━━━━━━━━━╇━━━━━━━━━━━━━━━━━━━━━━━━╇━━━━━━━━━━━━━━━┩\n",
       "│ embedding (<span style=\"color: #0087ff; text-decoration-color: #0087ff\">Embedding</span>)           │ ?                      │   <span style=\"color: #00af00; text-decoration-color: #00af00\">0</span> (unbuilt) │\n",
       "├─────────────────────────────────┼────────────────────────┼───────────────┤\n",
       "│ bidirectional (<span style=\"color: #0087ff; text-decoration-color: #0087ff\">Bidirectional</span>)   │ ?                      │   <span style=\"color: #00af00; text-decoration-color: #00af00\">0</span> (unbuilt) │\n",
       "├─────────────────────────────────┼────────────────────────┼───────────────┤\n",
       "│ dropout (<span style=\"color: #0087ff; text-decoration-color: #0087ff\">Dropout</span>)               │ ?                      │             <span style=\"color: #00af00; text-decoration-color: #00af00\">0</span> │\n",
       "├─────────────────────────────────┼────────────────────────┼───────────────┤\n",
       "│ dense (<span style=\"color: #0087ff; text-decoration-color: #0087ff\">Dense</span>)                   │ ?                      │   <span style=\"color: #00af00; text-decoration-color: #00af00\">0</span> (unbuilt) │\n",
       "├─────────────────────────────────┼────────────────────────┼───────────────┤\n",
       "│ dropout_1 (<span style=\"color: #0087ff; text-decoration-color: #0087ff\">Dropout</span>)             │ ?                      │             <span style=\"color: #00af00; text-decoration-color: #00af00\">0</span> │\n",
       "├─────────────────────────────────┼────────────────────────┼───────────────┤\n",
       "│ dense_1 (<span style=\"color: #0087ff; text-decoration-color: #0087ff\">Dense</span>)                 │ ?                      │   <span style=\"color: #00af00; text-decoration-color: #00af00\">0</span> (unbuilt) │\n",
       "└─────────────────────────────────┴────────────────────────┴───────────────┘\n",
       "</pre>\n"
      ],
      "text/plain": [
       "┏━━━━━━━━━━━━━━━━━━━━━━━━━━━━━━━━━┳━━━━━━━━━━━━━━━━━━━━━━━━┳━━━━━━━━━━━━━━━┓\n",
       "┃\u001b[1m \u001b[0m\u001b[1mLayer (type)                   \u001b[0m\u001b[1m \u001b[0m┃\u001b[1m \u001b[0m\u001b[1mOutput Shape          \u001b[0m\u001b[1m \u001b[0m┃\u001b[1m \u001b[0m\u001b[1m      Param #\u001b[0m\u001b[1m \u001b[0m┃\n",
       "┡━━━━━━━━━━━━━━━━━━━━━━━━━━━━━━━━━╇━━━━━━━━━━━━━━━━━━━━━━━━╇━━━━━━━━━━━━━━━┩\n",
       "│ embedding (\u001b[38;5;33mEmbedding\u001b[0m)           │ ?                      │   \u001b[38;5;34m0\u001b[0m (unbuilt) │\n",
       "├─────────────────────────────────┼────────────────────────┼───────────────┤\n",
       "│ bidirectional (\u001b[38;5;33mBidirectional\u001b[0m)   │ ?                      │   \u001b[38;5;34m0\u001b[0m (unbuilt) │\n",
       "├─────────────────────────────────┼────────────────────────┼───────────────┤\n",
       "│ dropout (\u001b[38;5;33mDropout\u001b[0m)               │ ?                      │             \u001b[38;5;34m0\u001b[0m │\n",
       "├─────────────────────────────────┼────────────────────────┼───────────────┤\n",
       "│ dense (\u001b[38;5;33mDense\u001b[0m)                   │ ?                      │   \u001b[38;5;34m0\u001b[0m (unbuilt) │\n",
       "├─────────────────────────────────┼────────────────────────┼───────────────┤\n",
       "│ dropout_1 (\u001b[38;5;33mDropout\u001b[0m)             │ ?                      │             \u001b[38;5;34m0\u001b[0m │\n",
       "├─────────────────────────────────┼────────────────────────┼───────────────┤\n",
       "│ dense_1 (\u001b[38;5;33mDense\u001b[0m)                 │ ?                      │   \u001b[38;5;34m0\u001b[0m (unbuilt) │\n",
       "└─────────────────────────────────┴────────────────────────┴───────────────┘\n"
      ]
     },
     "metadata": {},
     "output_type": "display_data"
    },
    {
     "data": {
      "text/html": [
       "<pre style=\"white-space:pre;overflow-x:auto;line-height:normal;font-family:Menlo,'DejaVu Sans Mono',consolas,'Courier New',monospace\"><span style=\"font-weight: bold\"> Total params: </span><span style=\"color: #00af00; text-decoration-color: #00af00\">0</span> (0.00 B)\n",
       "</pre>\n"
      ],
      "text/plain": [
       "\u001b[1m Total params: \u001b[0m\u001b[38;5;34m0\u001b[0m (0.00 B)\n"
      ]
     },
     "metadata": {},
     "output_type": "display_data"
    },
    {
     "data": {
      "text/html": [
       "<pre style=\"white-space:pre;overflow-x:auto;line-height:normal;font-family:Menlo,'DejaVu Sans Mono',consolas,'Courier New',monospace\"><span style=\"font-weight: bold\"> Trainable params: </span><span style=\"color: #00af00; text-decoration-color: #00af00\">0</span> (0.00 B)\n",
       "</pre>\n"
      ],
      "text/plain": [
       "\u001b[1m Trainable params: \u001b[0m\u001b[38;5;34m0\u001b[0m (0.00 B)\n"
      ]
     },
     "metadata": {},
     "output_type": "display_data"
    },
    {
     "data": {
      "text/html": [
       "<pre style=\"white-space:pre;overflow-x:auto;line-height:normal;font-family:Menlo,'DejaVu Sans Mono',consolas,'Courier New',monospace\"><span style=\"font-weight: bold\"> Non-trainable params: </span><span style=\"color: #00af00; text-decoration-color: #00af00\">0</span> (0.00 B)\n",
       "</pre>\n"
      ],
      "text/plain": [
       "\u001b[1m Non-trainable params: \u001b[0m\u001b[38;5;34m0\u001b[0m (0.00 B)\n"
      ]
     },
     "metadata": {},
     "output_type": "display_data"
    }
   ],
   "source": [
    "# Hiperparámetros del modelo\n",
    "embedding_dim = 64\n",
    "lstm_units = 64\n",
    "dense_units = 64\n",
    "num_classes = ds_info.features['label'].num_classes\n",
    "\n",
    "### TU CÓDIGO AQUÍ ###\n",
    "model = Sequential([\n",
    "    # 1. Capa Embedding\n",
    "    \n",
    "    # 2. Capa Bidirectional LSTM\n",
    "    \n",
    "    # 3. Capa Densa oculta\n",
    "    \n",
    "    # 4. Capa Densa de salida\n",
    "\n",
    "    \n",
    "])\n",
    "### FIN DE TU CÓDIGO ###\n",
    "\n",
    "# Imprimimos un resumen del modelo para ver la arquitectura\n",
    "model.summary()"
   ]
  },
  {
   "cell_type": "markdown",
   "metadata": {},
   "source": [
    "## 4. Compilación y Entrenamiento\n",
    "\n",
    "Con el modelo definido, necesitamos compilarlo y luego, ¡entrenarlo!"
   ]
  },
  {
   "cell_type": "markdown",
   "metadata": {},
   "source": [
    "### ✍️ **Tu Tarea (6/7): Compilar y Entrenar**\n",
    "\n",
    "**Parte A: Compilación**\n",
    "Usa `model.compile()`. Necesitas definir:\n",
    "-   `loss`: La función de pérdida. Como nuestras etiquetas son números enteros (0, 1, 2, 3), `sparse_categorical_crossentropy` es la más eficiente.\n",
    "-   `optimizer`: El algoritmo para actualizar los pesos del modelo. `adam` es una elección robusta y muy popular.\n",
    "-   `metrics`: Las métricas para monitorizar. `accuracy` es fundamental.\n",
    "\n",
    "**Parte B: Callback de EarlyStopping**\n",
    "Para evitar el sobreajuste (overfitting) y no entrenar de más, crearemos un callback `EarlyStopping` que detendrá el entrenamiento si la `val_loss` (pérdida en validación) no mejora tras un número de épocas (`patience`).\n",
    "\n",
    "**Parte C: Entrenamiento**\n",
    "Usa `model.fit()` para lanzar el entrenamiento. Pasa los datos de entrenamiento, los de validación y el callback que has creado."
   ]
  },
  {
   "cell_type": "code",
   "execution_count": null,
   "metadata": {},
   "outputs": [
    {
     "name": "stdout",
     "output_type": "stream",
     "text": [
      "\u001b[1m750/750\u001b[0m \u001b[32m━━━━━━━━━━━━━━━━━━━━\u001b[0m\u001b[37m\u001b[0m \u001b[1m73s\u001b[0m 93ms/step - accuracy: 0.9176 - loss: 0.2643 - val_accuracy: 0.9050 - val_loss: 0.2799\n"
     ]
    }
   ],
   "source": [
    "### TU CÓDIGO AQUÍ ###\n",
    "# Parte A: Compilación\n",
    "\n",
    "\n",
    "\n",
    "\n",
    "# Parte B: Callback\n",
    "\n",
    "\n",
    "# Hiperparámetros de entrenamiento\n",
    "\n",
    "\n",
    "\n",
    "\n",
    "\n",
    "# Parte C: Entrenamiento\n",
    "\n",
    "\n",
    "\n",
    "\n",
    "\n",
    "\n",
    "### FIN DE TU CÓDIGO ###"
   ]
  },
  {
   "cell_type": "markdown",
   "metadata": {},
   "source": [
    "## 5. Evaluación del Modelo\n",
    "\n",
    "¡Entrenamiento completo! Pero... ¿qué tal lo ha hecho nuestro modelo? Una simple métrica de `accuracy` no siempre cuenta toda la historia. Vamos a profundizar."
   ]
  },
  {
   "cell_type": "markdown",
   "metadata": {},
   "source": [
    "### ✍️ **Tu Tarea (7/7): Visualizar y Evaluar**\n",
    "\n",
    "**Parte A: Gráficas de Entrenamiento**\n",
    "Visualiza la `accuracy` y la `loss` del entrenamiento y la validación a lo largo de las épocas. Esto nos da una idea clara de si ha habido overfitting.\n",
    "\n",
    "**Parte B: Métricas de Clasificación**\n",
    "1.  Obtén las predicciones del modelo sobre el conjunto de validación (`val_padded`).\n",
    "2.  Como la salida del modelo son probabilidades (por `softmax`), convierte estas probabilidades a la clase predicha (el índice con la probabilidad más alta) usando `np.argmax()`.\n",
    "3.  Genera y muestra:\n",
    "    -   Un **Reporte de Clasificación** (`classification_report`) para ver la precisión, recall y f1-score por cada clase.\n",
    "    -   Una **Matriz de Confusión** (`confusion_matrix`) para ver qué clases se confunden más entre sí."
   ]
  },
  {
   "cell_type": "code",
   "execution_count": null,
   "metadata": {},
   "outputs": [
    {
     "data": {
      "image/png": "[encoded data removed]",
      "text/plain": [
       "<Figure size 640x480 with 1 Axes>"
      ]
     },
     "metadata": {},
     "output_type": "display_data"
    },
    {
     "data": {
      "image/png": "[encoded data removed]",
      "text/plain": [
       "<Figure size 640x480 with 1 Axes>"
      ]
     },
     "metadata": {},
     "output_type": "display_data"
    },
    {
     "name": "stdout",
     "output_type": "stream",
     "text": [
      "\u001b[1m750/750\u001b[0m \u001b[32m━━━━━━━━━━━━━━━━━━━━\u001b[0m\u001b[37m\u001b[0m \u001b[1m13s\u001b[0m 16ms/step\n",
      "\n",
      "--- Reporte de Clasificación ---\n",
      "              precision    recall  f1-score   support\n",
      "\n",
      "       World       0.92      0.88      0.90      6000\n",
      "      Sports       0.95      0.97      0.96      6000\n",
      "    Business       0.90      0.86      0.88      6000\n",
      "    Sci/Tech       0.85      0.91      0.88      6000\n",
      "\n",
      "    accuracy                           0.91     24000\n",
      "   macro avg       0.91      0.91      0.91     24000\n",
      "weighted avg       0.91      0.91      0.91     24000\n",
      "\n",
      "\n",
      "--- Matriz de Confusión ---\n"
     ]
    },
    {
     "data": {
      "image/png": "[encoded data removed]",
      "text/plain": [
       "<Figure size 800x600 with 2 Axes>"
      ]
     },
     "metadata": {},
     "output_type": "display_data"
    }
   ],
   "source": [
    "# Parte A: Gráficas de Entrenamiento\n",
    "def plot_graphs(history, metric):\n",
    "    plt.plot(history.history[metric])\n",
    "    plt.plot(history.history['val_'+metric])\n",
    "    plt.xlabel(\"Epochs\")\n",
    "    plt.ylabel(metric)\n",
    "    plt.legend([metric, 'val_'+metric])\n",
    "    plt.show()\n",
    "\n",
    "plot_graphs(history, 'accuracy')\n",
    "plot_graphs(history, 'loss')\n",
    "\n",
    "### TU CÓDIGO AQUÍ ###\n",
    "# Parte B: Métricas de Clasificación\n",
    "\n",
    "# 1. Obtener predicciones (probabilidades)\n",
    "\n",
    "\n",
    "# 2. Convertir probabilidades a clases predichas (argmax)\n",
    "\n",
    "\n",
    "# 3. Generar reporte y matriz de confusión\n",
    "\n",
    "\n",
    "\n",
    "\n",
    "\n",
    "### FIN DE TU CÓDIGO ###"
   ]
  },
  {
   "cell_type": "markdown",
   "metadata": {},
   "source": [
    "## 6. ¡A Jugar! Probando con tus Propias Frases\n",
    "\n",
    "La parte más divertida. Vamos a ver cómo nuestro modelo clasifica frases nuevas que nunca ha visto.\n",
    "\n",
    "El proceso es el mismo que para los datos de entrenamiento:\n",
    "1. Poner la frase en una lista.\n",
    "2. Tokenizarla.\n",
    "3. Paddearla.\n",
    "4. Predecirla.\n",
    "5. Interpretar el resultado."
   ]
  },
  {
   "cell_type": "code",
   "execution_count": 17,
   "metadata": {},
   "outputs": [
    {
     "name": "stdout",
     "output_type": "stream",
     "text": [
      "\u001b[1m1/1\u001b[0m \u001b[32m━━━━━━━━━━━━━━━━━━━━\u001b[0m\u001b[37m\u001b[0m \u001b[1m0s\u001b[0m 210ms/step\n",
      "Frase: \"NASA launches new mission to explore Martian poles\"\n",
      "Categoría Predicha: Sci/Tech\n",
      "Confianza: 99.13%\n",
      "\n",
      "\u001b[1m1/1\u001b[0m \u001b[32m━━━━━━━━━━━━━━━━━━━━\u001b[0m\u001b[37m\u001b[0m \u001b[1m0s\u001b[0m 36ms/step\n",
      "Frase: \"Real Madrid signs new striker for the next season\"\n",
      "Categoría Predicha: Sports\n",
      "Confianza: 96.76%\n",
      "\n",
      "\u001b[1m1/1\u001b[0m \u001b[32m━━━━━━━━━━━━━━━━━━━━\u001b[0m\u001b[37m\u001b[0m \u001b[1m0s\u001b[0m 44ms/step\n",
      "Frase: \"Global markets react to the new interest rate policies\"\n",
      "Categoría Predicha: Sci/Tech\n",
      "Confianza: 42.21%\n",
      "\n",
      "\u001b[1m1/1\u001b[0m \u001b[32m━━━━━━━━━━━━━━━━━━━━\u001b[0m\u001b[37m\u001b[0m \u001b[1m0s\u001b[0m 49ms/step\n",
      "Frase: \"International summit discusses climate change and global politics\"\n",
      "Categoría Predicha: Sci/Tech\n",
      "Confianza: 88.37%\n",
      "\n"
     ]
    }
   ],
   "source": [
    "def predict_news(sentence):\n",
    "    # Preprocesar la frase\n",
    "    sequence = tokenizer.texts_to_sequences([sentence])\n",
    "    padded_sequence = pad_sequences(sequence, maxlen=max_length, padding=padding_type, truncating=trunc_type)\n",
    "    \n",
    "    # Predecir\n",
    "    prediction_proba = model.predict(padded_sequence)\n",
    "    predicted_class_index = np.argmax(prediction_proba)\n",
    "    \n",
    "    # Obtener el nombre de la clase\n",
    "    class_name = class_names[predicted_class_index]\n",
    "    confidence = prediction_proba[0][predicted_class_index]\n",
    "    \n",
    "    print(f'Frase: \"{sentence}\"')\n",
    "    print(f'Categoría Predicha: {class_name}')\n",
    "    print(f'Confianza: {confidence:.2%}\\n')\n",
    "\n",
    "# Frases de ejemplo\n",
    "predict_news(\"NASA launches new mission to explore Martian poles\")\n",
    "predict_news(\"Real Madrid signs new striker for the next season\")\n",
    "predict_news(\"Global markets react to the new interest rate policies\")\n",
    "predict_news(\"International summit discusses climate change and global politics\")"
   ]
  },
  {
   "cell_type": "markdown",
   "metadata": {},
   "source": [
    "## 🎓 Conclusión y Próximos Pasos\n",
    "\n",
    "¡Enhorabuena! Has completado todo el flujo de trabajo para un problema de clasificación de texto usando Embeddings y LSTMs.\n",
    "\n",
    "**Has aprendido a:**\n",
    "- Cargar y preparar un dataset de texto.\n",
    "- Tokenizar y paddear secuencias de texto de forma correcta.\n",
    "- Construir un modelo de Keras con capas `Embedding` y `LSTM`.\n",
    "- Entrenar el modelo eficientemente usando callbacks.\n",
    "- Evaluar el rendimiento del modelo más allá de la simple accuracy.\n",
    "- Usar el modelo entrenado para hacer predicciones sobre datos nuevos.\n",
    "\n",
    "### Posibles Mejoras (Ideas para experimentar):\n",
    "\n",
    "* **Ajuste de Hiperparámetros**: ¿Qué pasa si cambias el `embedding_dim`, `lstm_units` o el `vocab_size`?\n",
    "* **Arquitectura del Modelo**: Prueba a apilar más capas LSTM (`return_sequences=True` en la primera) o a usar capas `GRU` en lugar de `LSTM`.\n",
    "* **Embeddings Pre-entrenados**: En lugar de aprender los embeddings desde cero, podrías cargar embeddings pre-entrenados como GloVe o Word2Vec. Esto puede dar un gran impulso al rendimiento, especialmente con datasets más pequeños."
   ]
  },
  {
   "cell_type": "markdown",
   "metadata": {},
   "source": [
    "## TIME SERIES"
   ]
  },
  {
   "cell_type": "markdown",
   "metadata": {},
   "source": [
    "https://www.kaggle.com/code/hassanamin/time-series-analysis-using-lstm-keras"
   ]
  }
 ],
 "metadata": {
  "kernelspec": {
   "display_name": "data_env",
   "language": "python",
   "name": "python3"
  },
  "language_info": {
   "codemirror_mode": {
    "name": "ipython",
    "version": 3
   },
   "file_extension": ".py",
   "mimetype": "text/x-python",
   "name": "python",
   "nbconvert_exporter": "python",
   "pygments_lexer": "ipython3",
   "version": "3.11.13"
  }
 },
 "nbformat": 4,
 "nbformat_minor": 4
}
