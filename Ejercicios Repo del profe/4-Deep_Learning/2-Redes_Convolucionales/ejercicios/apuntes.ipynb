{
 "cells": [
  {
   "cell_type": "markdown",
   "id": "52df47cb",
   "metadata": {},
   "source": [
    "Ejercicios 1\n",
    "\n",
    "Set de datos de moda, reportar métrica, matriz de confusión, model\n",
    "\n",
    "Ejercicios 2\n",
    "Clasificador de paisajes"
   ]
  }
 ],
 "metadata": {
  "language_info": {
   "name": "python"
  }
 },
 "nbformat": 4,
 "nbformat_minor": 5
}
