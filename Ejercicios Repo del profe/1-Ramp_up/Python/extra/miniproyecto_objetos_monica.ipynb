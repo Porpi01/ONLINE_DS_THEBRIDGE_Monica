{
 "cells": [
  {
   "cell_type": "markdown",
   "id": "73c33014",
   "metadata": {},
   "source": [
    "#### **Proyecto 1: Validación de nombres de usuario**\n",
    "**Objetivos del proyecto**\n",
    "\n",
    "El objetivo de este sistema es desarrollar un validador automático de nombres de usuario que se utilizará para registrar nuevos usuarios en la plataforma de la empresa. El sistema debe ser capaz de clasificar los nombres ingresados en válidos e inválidos según un conjunto de reglas predefinidas. Al finalizar la validación, el sistema generará un informe con las categorías correspondientes."
   ]
  },
  {
   "cell_type": "code",
   "execution_count": null,
   "id": "9880bf0a",
   "metadata": {},
   "outputs": [
    {
     "name": "stdout",
     "output_type": "stream",
     "text": [
      "True\n",
      "El nombre no es válido\n",
      "True\n",
      "El nombre no es válido\n",
      "True\n",
      "['Sara', 'Casasss', 'Rezar']\n",
      "['ana', 'pto93']\n"
     ]
    }
   ],
   "source": [
    "lista_nombres_validos = []\n",
    "lista_nombres_no_validos = []\n",
    "\n",
    "max_nombres = 0\n",
    "\n",
    "while max_nombres < 20:\n",
    "    nombre = input(\"Introduce un nombre de usuario\").strip()\n",
    "    if len(nombre) > 3 and nombre.isalpha():\n",
    "        print(nombre.isalpha())\n",
    "        nombre_mayuscula = nombre.title()\n",
    "        lista_nombres_validos.append(nombre_mayuscula)\n",
    "        max_nombres += 1\n",
    "    else:\n",
    "        lista_nombres_no_validos.append(nombre)\n",
    "        print(\"El nombre no es válido\")\n",
    "        max_nombres += 1\n",
    "        \n",
    "\n",
    "print(lista_nombres_validos)\n",
    "print(lista_nombres_no_validos)"
   ]
  },
  {
   "cell_type": "markdown",
   "id": "8e6e0a8d",
   "metadata": {},
   "source": [
    "#### **Proyecto 2: Sistema de registro de recién nacidos**\n",
    "**Objetivos del proyecto**\n",
    "\n",
    "Desarrollar un sistema automatizado para registrar a los recién nacidos en un hospital, permitiendo almacenar información relevante como nombre del bebé, fecha de nacimiento, peso y sexo. El sistema debe permitir la entrada de datos, validarlos, y generar un informe detallado con un resumen de todos los nacimientos registrados."
   ]
  },
  {
   "cell_type": "code",
   "execution_count": null,
   "id": "8cc36913",
   "metadata": {},
   "outputs": [],
   "source": []
  },
  {
   "cell_type": "markdown",
   "id": "f5b695a6",
   "metadata": {},
   "source": [
    "#### **Proyecto 3: Analizador de Reseñas de Productos**\n",
    "**Objetivos del proyecto**\n",
    "\n",
    "Crear un sistema de análisis de reseñas de productos para una tienda en línea. El sistema debe ser capaz de procesar reseñas de productos, clasificarlas en positivas o negativas, y calcular el promedio de la calificación de cada producto. Además, debe generar un resumen con los productos más valorados y los productos con más reseñas negativas."
   ]
  },
  {
   "cell_type": "code",
   "execution_count": 25,
   "id": "3995ef4c",
   "metadata": {},
   "outputs": [
    {
     "name": "stdout",
     "output_type": "stream",
     "text": [
      "\n",
      "Producto: HP Omen 16\n",
      "Promedio de calificación: 6.67\n",
      "Reseñas positivas: 1\n",
      "Reseñas negativas: 1\n",
      "Reseñas neutras: 1\n",
      "\n",
      "Producto: Televisor LG UltraHD 4K\n",
      "Promedio de calificación: 8.50\n",
      "Reseñas positivas: 1\n",
      "Reseñas negativas: 1\n",
      "Reseñas neutras: 0\n",
      "\n",
      "Producto: Auriculares Sony WH-1000XM4\n",
      "Promedio de calificación: 7.50\n",
      "Reseñas positivas: 1\n",
      "Reseñas negativas: 1\n",
      "Reseñas neutras: 0\n",
      "\n",
      "Producto: Smartphone Samsung Galaxy S22\n",
      "Promedio de calificación: 8.00\n",
      "Reseñas positivas: 2\n",
      "Reseñas negativas: 0\n",
      "Reseñas neutras: 1\n"
     ]
    }
   ],
   "source": [
    "# Diccionario con productos y sus reseñas\n",
    "productos = {\n",
    "  \"HP Omen 16\": [\n",
    "        (\"Mal rendimiento\", 5),\n",
    "        (\"Buenos gráficos\", 8),\n",
    "        (\"El precio es un poco elevado\", 7)\n",
    "    ],\n",
    "\"Televisor LG UltraHD 4K\": [\n",
    "        (\"Muy caro\", 8),\n",
    "        (\"Excelente calidad de imagen\", 9),\n",
    "    ],\n",
    "\"Auriculares Sony WH-1000XM4\": [\n",
    "        (\"Excelente cancelación de ruido\", 10),\n",
    "        (\"Mal diseño\", 5)\n",
    "    ],\n",
    "\"Smartphone Samsung Galaxy S22\": [\n",
    "        (\"Pantalla espectacular\", 9),\n",
    "        (\"Fotos de calidad excelente\", 9),\n",
    "        (\"Duración de la batería regular\", 6),\n",
    "    ]\n",
    "}\n",
    "\n",
    "# Diccionarios para almacenar las reseñas clasificadas\n",
    "reseñas_positivas = {}\n",
    "reseñas_negativas = {}\n",
    "reseñas_neutras = {}\n",
    "\n",
    "# Recorrer cada producto y sus reseñas\n",
    "for producto, reseñas in productos.items():\n",
    "\n",
    "    # Inicializar contadores\n",
    "    num_positivas = 0\n",
    "    num_negativas = 0\n",
    "    num_neutras = 0\n",
    "    total_calificaciones = 0\n",
    "    num_reseñas = len(reseñas)\n",
    "\n",
    "    # Clasificar cada reseña y calcular la calificación total\n",
    "    for comentario, calificación in reseñas:\n",
    "        comentario = comentario.lower()  # Convertir comentario a minúsculas\n",
    "\n",
    "        # Clasificar reseña como positiva\n",
    "        if \"buenos\" in comentario or \"excelente\" in comentario or \"espectacular\" in comentario:\n",
    "            if producto not in reseñas_positivas:\n",
    "                reseñas_positivas[producto] = []\n",
    "            reseñas_positivas[producto].append(comentario)\n",
    "            num_positivas += 1\n",
    "        \n",
    "        # Clasificar reseña como negativa\n",
    "        elif \"mal\" in comentario or \"caro\" in comentario:\n",
    "            if producto not in reseñas_negativas:\n",
    "                reseñas_negativas[producto] = []\n",
    "            reseñas_negativas[producto].append(comentario)\n",
    "            num_negativas += 1\n",
    "\n",
    "        # Clasificar reseña como neutra (si no es ni positiva ni negativa)\n",
    "        else:\n",
    "            if producto not in reseñas_neutras:\n",
    "                reseñas_neutras[producto] = []\n",
    "            reseñas_neutras[producto].append(comentario)\n",
    "            num_neutras += 1\n",
    "\n",
    "        # Acumular la calificación para el cálculo del promedio\n",
    "        total_calificaciones += calificación\n",
    "\n",
    "    # Calcular el promedio de calificación del producto\n",
    "    if num_reseñas > 0:\n",
    "        promedio_calificacion = total_calificaciones / num_reseñas\n",
    "    else:\n",
    "        promedio_calificacion = 0\n",
    "    \n",
    "    # Mostrar la clasificación de reseñas y el promedio\n",
    "    print(f\"\\nProducto: {producto}\")\n",
    "    print(f\"Promedio de calificación: {promedio_calificacion:.2f}\")\n",
    "    print(f\"Reseñas positivas: {num_positivas}\")\n",
    "    print(f\"Reseñas negativas: {num_negativas}\")\n",
    "    print(f\"Reseñas neutras: {num_neutras}\")\n"
   ]
  }
 ],
 "metadata": {
  "kernelspec": {
   "display_name": "data_analysis_env",
   "language": "python",
   "name": "python3"
  },
  "language_info": {
   "codemirror_mode": {
    "name": "ipython",
    "version": 3
   },
   "file_extension": ".py",
   "mimetype": "text/x-python",
   "name": "python",
   "nbconvert_exporter": "python",
   "pygments_lexer": "ipython3",
   "version": "3.11.11"
  }
 },
 "nbformat": 4,
 "nbformat_minor": 5
}
