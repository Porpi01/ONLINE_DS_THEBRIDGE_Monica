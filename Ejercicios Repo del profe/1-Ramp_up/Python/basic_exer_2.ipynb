{
 "cells": [
  {
   "cell_type": "markdown",
   "id": "d69a303d",
   "metadata": {},
   "source": [
    "## Ejercicio 21 (Modificado)\n",
    "Dada la siguiente lista de listas (matriz), utiliza bucles `for` anidados para calcular la suma de todos los números presentes en ella.\n",
    "\n",
    "> ```python\n",
    "> matriz_numeros = [\n",
    ">     [1, 5, 3],\n",
    ">     [4, 8, 6],\n",
    ">     [7, 2, 9]\n",
    "> ]\n",
    "> ```\n",
    "> **TIP:** Necesitarás un bucle externo para las filas y uno interno para los elementos de cada fila. Acumula la suma en una variable."
   ]
  },
  {
   "cell_type": "code",
   "execution_count": 7,
   "id": "4a048ef8",
   "metadata": {},
   "outputs": [
    {
     "name": "stdout",
     "output_type": "stream",
     "text": [
      "La suma total es: 45\n"
     ]
    }
   ],
   "source": [
    "matriz_numeros = [\n",
    "    [1,5,3],\n",
    "    [4,8,6],\n",
    "    [7,2,9]\n",
    "    ]\n",
    "\n",
    "suma = 0\n",
    "for filas in matriz_numeros:\n",
    "    for columnas in filas:\n",
    "        suma += columnas\n",
    "print(f\"La suma total es: {suma}\")"
   ]
  },
  {
   "cell_type": "markdown",
   "id": "9393d7f5",
   "metadata": {},
   "source": [
    "\n",
    "## Ejercicio 22\n",
    "Escribe un programa que pida al usuario que introduzca una edad. Usa un bucle `while` y `try-except` para asegurarte de que el usuario introduce un número entero válido y positivo. El bucle debe continuar hasta que se introduzca una edad válida.\n",
    "\n",
    "> **TIP:** Dentro del `while True`, usa `input()`, `int()` dentro de un `try`, y comprueba si es positivo. Usa `break` para salir si es válido. Captura `ValueError`.\n"
   ]
  },
  {
   "cell_type": "code",
   "execution_count": 5,
   "id": "cf8d2a97",
   "metadata": {},
   "outputs": [
    {
     "name": "stdout",
     "output_type": "stream",
     "text": [
      "Edad no válida\n",
      "Error no has introducido una edad válida\n",
      "33\n"
     ]
    }
   ],
   "source": [
    "\n",
    "while True: \n",
    "    try:\n",
    "     edad = int(input(\"¿Qué edad tienes\"))\n",
    "     if edad >=0:\n",
    "        print (edad)\n",
    "        break\n",
    "     else:\n",
    "        print(\"Edad no válida\")\n",
    "  \n",
    "    except ValueError:\n",
    "       print(\"Error no has introducido una edad válida\") "
   ]
  },
  {
   "cell_type": "markdown",
   "id": "00997389",
   "metadata": {},
   "source": [
    "\n",
    "## Ejercicio 23 (Modificado)\n",
    "Usando bucles `for` anidados, imprime un patrón de tablero de ajedrez de 4x4 usando 'X' y 'O'. El patrón debe alternar en cada celda.\n",
    "```\n",
    "X O X O\n",
    "O X O X\n",
    "X O X O\n",
    "O X O X\n",
    "```\n",
    "> **TIP:** Puedes usar la suma del índice de fila y columna. Si es par, imprime 'X', si es impar, 'O' (o viceversa). Usa `print(caracter, end=' ')`.\n"
   ]
  },
  {
   "cell_type": "code",
   "execution_count": null,
   "id": "66104380",
   "metadata": {},
   "outputs": [
    {
     "name": "stdout",
     "output_type": "stream",
     "text": [
      "XOXO\n",
      "OXOX\n",
      "XOXO\n",
      "OXOX\n"
     ]
    }
   ],
   "source": [
    "caracter= \"\"\n",
    "\n",
    "for i in range(4):\n",
    "    for j in range(4):\n",
    "        if (i+j)%2 == 0:\n",
    "            print(caracter, end=\"X\")\n",
    "        else:\n",
    "            print(caracter, end=\"O\")\n",
    "    print()          "
   ]
  },
  {
   "cell_type": "markdown",
   "id": "316a75c0",
   "metadata": {},
   "source": [
    "\n",
    "## Ejercicio 24 (Modificado)\n",
    "Tienes una lista de diccionarios representando productos. Itera sobre ella e imprime el nombre de los productos cuyo precio (`'precio'`) sea menor que 30 Y cuyo stock (`'stock'`) sea mayor que 0.\n",
    "\n",
    "> ```python\n",
    "> productos = [\n",
    ">     {\"nombre\": \"Manzana\", \"precio\": 25, \"stock\": 10},\n",
    ">     {\"nombre\": \"Pera\", \"precio\": 35, \"stock\": 5},\n",
    ">     {\"nombre\": \"Naranja\", \"precio\": 15, \"stock\": 0},\n",
    ">     {\"nombre\": \"Plátano\", \"precio\": 28, \"stock\": 20}\n",
    "> ]\n",
    "> ```\n",
    "> **TIP:** Necesitarás un `if` con el operador `and` dentro del bucle `for`.\n"
   ]
  },
  {
   "cell_type": "code",
   "execution_count": null,
   "id": "8d8a7f91",
   "metadata": {},
   "outputs": [
    {
     "name": "stdout",
     "output_type": "stream",
     "text": [
      "Manzana\n",
      "Plátano\n"
     ]
    }
   ],
   "source": [
    "productos = [\n",
    "    {\"nombre\": \"Manzana\", \"precio\": 25, \"stock\": 10},\n",
    "    {\"nombre\": \"Pera\", \"precio\": 35, \"stock\": 5},\n",
    "    {\"nombre\": \"Naranja\", \"precio\": 15, \"stock\": 0},\n",
    "    {\"nombre\": \"Plátano\", \"precio\": 28, \"stock\": 20}\n",
    "]\n",
    "\n",
    "for i in productos:\n",
    "    for clave,valor in i.items():\n",
    "       precio = i[\"precio\"]\n",
    "       stock = i[\"stock\"]\n",
    "       if precio < 30 and stock > 0:\n",
    "          nombre_producto = i[\"nombre\"]\n",
    "          print(nombre_producto)\n",
    "          break"
   ]
  },
  {
   "cell_type": "markdown",
   "id": "dbac03b1",
   "metadata": {},
   "source": [
    "\n",
    "## Ejercicio 25 (Modificado)\n",
    "Dado el diccionario `categorias`, donde las claves son nombres de categorías y los valores son listas de ítems, itera sobre él. Para cada categoría, imprime su nombre seguido de los ítems de esa categoría cuya longitud (número de caracteres) sea mayor que 4.\n",
    "\n",
    "> ```python\n",
    "> categorias = {\n",
    ">     \"Frutas\": [\"manzana\", \"pera\", \"uva\"],\n",
    ">     \"Verduras\": [\"brócoli\", \"espinaca\", \"zanahoria\"],\n",
    ">     \"Lácteos\": [\"leche\", \"queso\", \"yogur\"]\n",
    "> }\n",
    "> ```\n",
    "> **TIP:** Usa un bucle `for` para `.items()` del diccionario, y un bucle anidado para la lista de ítems, con un `if` y `len()`.\n"
   ]
  },
  {
   "cell_type": "code",
   "execution_count": 74,
   "id": "623dc030",
   "metadata": {},
   "outputs": [
    {
     "name": "stdout",
     "output_type": "stream",
     "text": [
      "Frutas manzana\n",
      "Verduras brócoli\n",
      "Verduras espinaca\n",
      "Verduras zanahoria\n",
      "Lácteos leche\n",
      "Lácteos queso\n",
      "Lácteos yogur\n"
     ]
    }
   ],
   "source": [
    "categorias = {\n",
    "    \"Frutas\": [\"manzana\", \"pera\", \"uva\"],\n",
    "    \"Verduras\": [\"brócoli\", \"espinaca\", \"zanahoria\"],\n",
    "    \"Lácteos\": [\"leche\", \"queso\", \"yogur\"]\n",
    " }\n",
    "\n",
    "for clave,valor in categorias.items():\n",
    "    for comida in valor:\n",
    "        if len(comida) > 4:\n",
    "            print(clave,comida)\n",
    "       \n",
    "     "
   ]
  },
  {
   "cell_type": "markdown",
   "id": "e92aeda8",
   "metadata": {},
   "source": [
    "\n",
    "## Ejercicio 26 (Modificado)\n",
    "Simula sacar cartas de una baraja (lista). Usa un bucle `while` que se ejecute mientras queden cartas. En cada iteración, saca la última carta usando `.pop()`, imprímela y lleva una cuenta de cuántas cartas has sacado. Al final, imprime el número total de cartas sacadas.\n",
    "\n",
    "> ```python\n",
    "> baraja = [\"As\", \"Rey\", \"Reina\", \"Jota\", \"10\", \"9\"]\n",
    "> ```\n",
    "> **TIP:** El bucle `while` puede comprobar si la lista `baraja` tiene elementos. Incrementa un contador en cada iteración.\n"
   ]
  },
  {
   "cell_type": "code",
   "execution_count": 8,
   "id": "848ca633",
   "metadata": {},
   "outputs": [
    {
     "name": "stdout",
     "output_type": "stream",
     "text": [
      "9\n",
      "10\n",
      "Jota\n",
      "Reina\n",
      "Rey\n",
      "As\n",
      "Se han sacado 6 cartas\n"
     ]
    }
   ],
   "source": [
    "baraja = [\"As\", \"Rey\", \"Reina\", \"Jota\",\"10\", \"9\"]\n",
    "contador = 0\n",
    "\n",
    "\n",
    "while len(baraja) != 0:\n",
    "    print(baraja.pop())\n",
    "    contador += 1\n",
    "print(f\"Se han sacado {contador} cartas\")\n",
    "\n",
    "\n"
   ]
  },
  {
   "cell_type": "markdown",
   "id": "ad30e483",
   "metadata": {},
   "source": [
    "\n",
    "## Ejercicio 27\n",
    "Tienes una lista anidada que representa una matriz simple. Accede e imprime el número 6.\n",
    "> ```python\n",
    "> matriz = [\n",
    ">     [1, 2, 3],\n",
    ">     [4, 5, 6],\n",
    ">     [7, 8, 9]\n",
    "> ]\n",
    "> ```\n",
    "> **TIP:** Necesitarás doble indexación `[fila][columna]`.\n"
   ]
  },
  {
   "cell_type": "code",
   "execution_count": 107,
   "id": "aa45695f",
   "metadata": {},
   "outputs": [
    {
     "name": "stdout",
     "output_type": "stream",
     "text": [
      "6\n"
     ]
    }
   ],
   "source": [
    "matriz = [\n",
    "    [1,2,3],\n",
    "    [4,5,6],\n",
    "    [7,8,9]\n",
    "]\n",
    "\n",
    "for i in matriz:\n",
    "    for j in i:\n",
    "        if j == 6:\n",
    "            print (j)"
   ]
  },
  {
   "cell_type": "markdown",
   "id": "73ce63e8",
   "metadata": {},
   "source": [
    "\n",
    "## Ejercicio 28\n",
    "Dada la siguiente tupla, desempaquétala en tres variables separadas: `nombre`, `materia` y `nota`. Imprime las tres variables.\n",
    "> ```python\n",
    "> registro = (\"Juan\", \"Matemáticas\", 8)\n",
    "> ```\n"
   ]
  },
  {
   "cell_type": "code",
   "execution_count": 112,
   "id": "e28bb375",
   "metadata": {},
   "outputs": [
    {
     "name": "stdout",
     "output_type": "stream",
     "text": [
      "Nombre:Juan,\n",
      "Materia:Matemáticas,\n",
      "Nota:8\n"
     ]
    }
   ],
   "source": [
    "registro = (\"Juan\", \"Matemáticas\", 8)\n",
    "\n",
    "nombre = registro[0]\n",
    "materia = registro[1]\n",
    "nota = registro[2]\n",
    "\n",
    "print(f\"Nombre:{nombre},\\nMateria:{materia},\\nNota:{nota}\")"
   ]
  },
  {
   "cell_type": "markdown",
   "id": "338a8b36",
   "metadata": {},
   "source": [
    "\n",
    "## Ejercicio 29\n",
    "Dado el diccionario `configuracion`, intenta obtener el valor asociado a la clave \"idioma\". Si la clave no existe, el programa debe imprimir \"Español\" como valor por defecto, sin dar error.\n",
    "> ```python\n",
    "> configuracion = {\"usuario\": \"admin\", \"tema\": \"oscuro\"}\n",
    "> ```\n",
    "> **TIP:** El método `.get()` de los diccionarios permite especificar un valor por defecto.\n"
   ]
  },
  {
   "cell_type": "code",
   "execution_count": null,
   "id": "af17caf8",
   "metadata": {},
   "outputs": [
    {
     "name": "stdout",
     "output_type": "stream",
     "text": [
      "Español\n"
     ]
    }
   ],
   "source": [
    "configuracion = {\"usuario\": \"admin\", \"tema\": \"oscuro\"}\n",
    "\n",
    "idioma = configuracion.get(\"idioma\", \"Español\")\n",
    "print(\"Español\")\n",
    "  "
   ]
  },
  {
   "cell_type": "markdown",
   "id": "77babdd4",
   "metadata": {},
   "source": [
    "\n",
    "## Ejercicio 30\n",
    "Itera sobre el siguiente diccionario e imprime únicamente sus claves, una por línea.\n",
    "> ```python\n",
    "> capitales = {\"España\": \"Madrid\", \"Francia\": \"París\", \"Italia\": \"Roma\"}\n",
    "> ```\n",
    "> **TIP:** Puedes iterar directamente sobre el diccionario o usar el método `.keys()`.\n"
   ]
  },
  {
   "cell_type": "code",
   "execution_count": 123,
   "id": "7c84d8cc",
   "metadata": {},
   "outputs": [
    {
     "name": "stdout",
     "output_type": "stream",
     "text": [
      "España\n",
      "Francia\n",
      "Italia\n"
     ]
    }
   ],
   "source": [
    "capitales = {\"España\": \"Madrid\", \"Francia\": \"París\", \"Italia\": \"Roma\"}\n",
    "\n",
    "for clave,valor in capitales.items():\n",
    "    print(clave)\n",
    "    "
   ]
  },
  {
   "cell_type": "markdown",
   "id": "deacfdff",
   "metadata": {},
   "source": [
    "\n",
    "## Ejercicio 31\n",
    "Crea un set vacío llamado `ingredientes`. Pide al usuario que introduzca 3 ingredientes para una receta y añádelos al set usando un bucle. Imprime el set final.\n",
    "\n",
    "> **TIP:** Usa el método `.add()` dentro del bucle para añadir cada ingrediente al set.\n"
   ]
  },
  {
   "cell_type": "code",
   "execution_count": 131,
   "id": "0ec782ea",
   "metadata": {},
   "outputs": [
    {
     "name": "stdout",
     "output_type": "stream",
     "text": [
      "{'PAtata'}\n",
      "{'Manzana', 'PAtata'}\n",
      "{'Manzana', 'PAtata', 'Tomate'}\n"
     ]
    }
   ],
   "source": [
    "ingrediente = set ()\n",
    "contador = 3\n",
    "\n",
    "\n",
    "while contador > 0:\n",
    "    elemento = input(\"Introduce un ingrediente\")    \n",
    "    contador -= 1\n",
    "    ingrediente.add(elemento)\n",
    "    print(ingrediente)\n"
   ]
  },
  {
   "cell_type": "markdown",
   "id": "497760dd",
   "metadata": {},
   "source": [
    "\n",
    "## Ejercicio 32 (Modificado)\n",
    "Dada una lista de sets, encuentra la intersección de *todos* los sets en la lista. Imprime el set resultante con los elementos comunes a todos.\n",
    "\n",
    "> ```python\n",
    "> lista_sets = [\n",
    ">     {1, 2, 3, 4, 5},\n",
    ">     {3, 4, 5, 6, 7},\n",
    ">     {5, 6, 7, 8, 9, 4}\n",
    "> ]\n",
    "> ```\n",
    "> **TIP:** Puedes empezar con una copia del primer set y luego iterar sobre el resto de la lista, actualizando la intersección en cada paso usando el operador `&=`.\n"
   ]
  },
  {
   "cell_type": "code",
   "execution_count": 150,
   "id": "7255905e",
   "metadata": {},
   "outputs": [
    {
     "name": "stdout",
     "output_type": "stream",
     "text": [
      "{4, 5}\n"
     ]
    }
   ],
   "source": [
    "lista_sets = [\n",
    "     {1, 2, 3, 4, 5},\n",
    "     {3, 4, 5, 6, 7},\n",
    "     {5, 6, 7, 8, 9, 4}\n",
    " ]\n",
    "\n",
    "interseccion = lista_sets[0].copy()\n",
    "\n",
    "for conjunto in lista_sets[1:]:\n",
    "    interseccion &= conjunto\n",
    "\n",
    "print(interseccion)\n",
    "       "
   ]
  },
  {
   "cell_type": "markdown",
   "id": "df165aa7",
   "metadata": {},
   "source": [
    "\n",
    "## Ejercicio 33 (Modificado)\n",
    "Tienes un diccionario donde las claves son nombres de estudiantes y los valores son listas de tuplas `(asignatura, nota)`. Calcula e imprime el promedio de notas *aprobadas* (nota >= 5) para cada estudiante. Si un estudiante no tiene notas aprobadas, indícalo.\n",
    "\n",
    "> ```python\n",
    "> notas_estudiantes = {\n",
    ">     \"Ana\": [(\"Mate\", 8), (\"Física\", 4), (\"Historia\", 7)],\n",
    ">     \"Luis\": [(\"Mate\", 3), (\"Física\", 2), (\"Historia\", 4)],\n",
    ">     \"Eva\": [(\"Mate\", 9), (\"Física\", 10), (\"Historia\", 6)]\n",
    "> }\n",
    "> ```\n",
    "> **TIP:** Itera sobre el diccionario. Para cada estudiante, itera sobre su lista de notas, suma las aprobadas y cuenta cuántas son. Calcula el promedio (cuidado con dividir por cero si no hay aprobadas).\n"
   ]
  },
  {
   "cell_type": "code",
   "execution_count": 210,
   "id": "d3e9b4ea",
   "metadata": {},
   "outputs": [
    {
     "name": "stdout",
     "output_type": "stream",
     "text": [
      "Ana: Promedio de notas aprobadas: 7.5\n",
      "Luis: No tiene notas aprobadas\n",
      "Eva: Promedio de notas aprobadas: 8.333333333333334\n"
     ]
    }
   ],
   "source": [
    "notas_estudiantes = {\n",
    "     \"Ana\": [(\"Mate\", 8), (\"Física\", 4), (\"Historia\", 7)],\n",
    "     \"Luis\": [(\"Mate\", 3), (\"Física\", 2), (\"Historia\", 4)],\n",
    "     \"Eva\": [(\"Mate\", 9), (\"Física\", 10), (\"Historia\", 6)]\n",
    " }\n",
    "\n",
    "\n",
    "for clave, valor in notas_estudiantes.items():\n",
    "   suma = 0\n",
    "   contador = 0\n",
    "\n",
    "   for estudiante in valor:\n",
    "      nota = estudiante[1]\n",
    "      asignatura = estudiante[0]\n",
    "      if nota > 5:\n",
    "         contador += 1\n",
    "         suma += nota\n",
    "\n",
    "   if contador > 0:\n",
    "      promedio = suma / contador\n",
    "      print(f\"{clave}: Promedio de notas aprobadas: {promedio}\")\n",
    "   else:\n",
    "      print(f\"{clave}: No tiene notas aprobadas\")\n",
    "        \n",
    "    "
   ]
  },
  {
   "cell_type": "markdown",
   "id": "801f2e38",
   "metadata": {},
   "source": [
    "\n",
    "## Ejercicio 34\n",
    "Escribe un programa que use bucles anidados (`for` dentro de `for`) para imprimir un \"tablero\" de 3x3 asteriscos, como este:\n",
    "```\n",
    "* * *\n",
    "* * *\n",
    "* * *\n",
    "```\n",
    "> **TIP:** El bucle exterior controla las filas, el interior las columnas. Usa `print('*', end=' ')` para imprimir en la misma línea y `print()` para saltar de línea.\n"
   ]
  },
  {
   "cell_type": "code",
   "execution_count": 211,
   "id": "9d23025b",
   "metadata": {},
   "outputs": [
    {
     "name": "stdout",
     "output_type": "stream",
     "text": [
      "***\n",
      "***\n",
      "***\n"
     ]
    }
   ],
   "source": [
    "for i in range(3):\n",
    "    for j in range(3):\n",
    "        print(\"*\", end=\"\")\n",
    "    \n",
    "    print()  "
   ]
  },
  {
   "cell_type": "markdown",
   "id": "617d9744",
   "metadata": {},
   "source": [
    "\n",
    "## Ejercicio 35\n",
    "Tienes una lista de tareas pendientes. Usa un bucle `while` para procesar (simplemente imprimir y eliminar) las tareas una por una, hasta que la lista esté vacía. Imprime la lista al final (debería estar vacía).\n",
    "> ```python\n",
    "> tareas_pendientes = [\"Lavar\", \"Planchar\", \"Comprar\"]\n",
    "> ```\n",
    "> **TIP:** El bucle puede continuar mientras la lista no esté vacía (`while tareas_pendientes:`). Usa `.pop()` para obtener y eliminar el último elemento.\n"
   ]
  },
  {
   "cell_type": "code",
   "execution_count": 9,
   "id": "b2554894",
   "metadata": {},
   "outputs": [
    {
     "name": "stdout",
     "output_type": "stream",
     "text": [
      "['Lavar', 'Planchar']\n",
      "['Lavar']\n",
      "[]\n"
     ]
    }
   ],
   "source": [
    "tareas_pendientes = [\"Lavar\",\"Planchar\",\"Comprar\"]\n",
    "\n",
    "while tareas_pendientes:\n",
    "    tareas_pendientes.pop()\n",
    "    print(tareas_pendientes)\n",
    "\n"
   ]
  },
  {
   "cell_type": "markdown",
   "id": "4273cef6",
   "metadata": {},
   "source": [
    "\n",
    "## Ejercicio 36\n",
    "Dada la lista `numeros = range(1, 11)`, crea una nueva lista llamada `multiplos_de_tres` usando list comprehension que contenga solo los números de `numeros` que son divisibles por 3.\n",
    "\n",
    "> ```python\n",
    "> numeros = range(1, 11)\n",
    "> ```\n",
    "> **TIP:** Añade una condición `if` al final de la list comprehension.\n"
   ]
  },
  {
   "cell_type": "code",
   "execution_count": 18,
   "id": "cfdc9469",
   "metadata": {},
   "outputs": [
    {
     "name": "stdout",
     "output_type": "stream",
     "text": [
      "[3, 6, 9]\n"
     ]
    }
   ],
   "source": [
    "\n",
    "multiplos_de_tres = [i for i in range(1,11) if i % 3 == 0]\n",
    "print(multiplos_de_tres)\n",
    "\n"
   ]
  },
  {
   "cell_type": "markdown",
   "id": "d6279d52",
   "metadata": {},
   "source": [
    "\n",
    "## Ejercicio 37\n",
    "Intenta acceder a la clave \"apellido\" en el siguiente diccionario. Usa `try-except` para capturar específicamente el error `KeyError` e imprimir \"La clave 'apellido' no existe.\" si ocurre.\n",
    "> ```python\n",
    "> datos_persona = {\"nombre\": \"Luis\", \"edad\": 30}\n",
    "> ```\n"
   ]
  },
  {
   "cell_type": "code",
   "execution_count": 24,
   "id": "54d647dc",
   "metadata": {},
   "outputs": [
    {
     "name": "stdout",
     "output_type": "stream",
     "text": [
      "La clave apellido no existe\n"
     ]
    }
   ],
   "source": [
    "datos_persona = {\"nombre\": \"Luis\", \"edad\":30}\n",
    "try:\n",
    "    apellido = datos_persona[\"apelido\"]\n",
    "except KeyError:\n",
    "    print(\"La clave apellido no existe\")"
   ]
  },
  {
   "cell_type": "markdown",
   "id": "79309ae1",
   "metadata": {},
   "source": [
    "\n",
    "## Ejercicio 38\n",
    "Escribe un bloque `try`/`except`/`else`/`finally`. Dentro del `try`, intenta dividir 10 entre un número introducido por el usuario.\n",
    "- En `except` (captura `ZeroDivisionError` y `ValueError`), imprime un mensaje de error adecuado.\n",
    "- En `else`, imprime el resultado de la división si no hubo error.\n",
    "- En `finally`, imprime siempre \"Fin del intento de división.\".\n"
   ]
  },
  {
   "cell_type": "code",
   "execution_count": 40,
   "id": "96d02ea4",
   "metadata": {},
   "outputs": [
    {
     "name": "stdout",
     "output_type": "stream",
     "text": [
      "Error al dividir por 0 o dato inválido\n",
      "Fin del intento de división\n"
     ]
    }
   ],
   "source": [
    "try:\n",
    "    numero = int(input(\"Introduce un número\"))\n",
    "    numero_nuevo = 10/numero\n",
    "except (ZeroDivisionError, ValueError):\n",
    "    print(\"Error al dividir por 0 o dato inválido\")\n",
    "else:\n",
    "    print(numero_nuevo)\n",
    "finally:\n",
    "    print(\"Fin del intento de división\")\n",
    "\n",
    "\n"
   ]
  },
  {
   "cell_type": "markdown",
   "id": "2933437b",
   "metadata": {},
   "source": [
    "\n",
    "## Ejercicio 39\n",
    "Dadas dos listas, `claves = [\"a\", \"b\", \"c\"]` y `valores = [1, 2, 3]`, crea un diccionario donde los elementos de `claves` sean las claves y los de `valores` sean los valores correspondientes.\n",
    "\n",
    "> ```python\n",
    "> claves = [\"a\", \"b\", \"c\"]\n",
    "> valores = [1, 2, 3]\n",
    "> ```\n",
    "> **TIP:** Puedes iterar sobre los índices de las listas (usando `range(len(claves))`) para construir el diccionario.\n"
   ]
  },
  {
   "cell_type": "code",
   "execution_count": 67,
   "id": "b963dfb3",
   "metadata": {},
   "outputs": [
    {
     "name": "stdout",
     "output_type": "stream",
     "text": [
      "{'a': 1, 'b': 2, 'c': 3}\n"
     ]
    }
   ],
   "source": [
    "claves = [\"a\",\"b\",\"c\"]\n",
    "valores = [1,2,3]\n",
    "\n",
    "nuevo_diccionario = {}\n",
    "\n",
    "for i in range(len(claves)):\n",
    "    nuevo_diccionario[claves[i]] = valores[i]\n",
    "print(nuevo_diccionario)\n",
    "       \n",
    "  \n",
    "    "
   ]
  },
  {
   "cell_type": "markdown",
   "id": "033fe0b2",
   "metadata": {},
   "source": [
    "\n",
    "## Ejercicio 40\n",
    "Encuentra el número más grande en la siguiente lista sin usar la función `max()`. Debes usar un bucle `for` y una variable para llevar la cuenta del máximo encontrado hasta el momento.\n",
    "> ```python\n",
    "> lista_numeros = [34, 12, 56, 78, 2, 99, 45]\n",
    "> ```\n",
    "> **TIP:** Inicializa la variable `maximo` con el primer elemento de la lista antes del bucle.\n",
    "\n"
   ]
  },
  {
   "cell_type": "code",
   "execution_count": 75,
   "id": "c54fbf02",
   "metadata": {},
   "outputs": [
    {
     "name": "stdout",
     "output_type": "stream",
     "text": [
      "El número maximo es 99\n"
     ]
    }
   ],
   "source": [
    "lista_numeros = [34,12,56,78,2,99,45]\n",
    "\n",
    "maximo = 34\n",
    "\n",
    "for numero in lista_numeros:\n",
    "    if numero > maximo:\n",
    "        maximo = numero\n",
    "print(f\"El número maximo es {maximo}\")\n",
    "\n"
   ]
  }
 ],
 "metadata": {
  "kernelspec": {
   "display_name": "data_analysis_env",
   "language": "python",
   "name": "python3"
  },
  "language_info": {
   "codemirror_mode": {
    "name": "ipython",
    "version": 3
   },
   "file_extension": ".py",
   "mimetype": "text/x-python",
   "name": "python",
   "nbconvert_exporter": "python",
   "pygments_lexer": "ipython3",
   "version": "3.11.11"
  }
 },
 "nbformat": 4,
 "nbformat_minor": 5
}
