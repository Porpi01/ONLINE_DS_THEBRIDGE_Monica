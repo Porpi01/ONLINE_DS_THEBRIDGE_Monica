{
 "cells": [
  {
   "cell_type": "markdown",
   "id": "43c5baa8",
   "metadata": {},
   "source": []
  },
  {
   "cell_type": "code",
   "execution_count": 63,
   "id": "2af350ec",
   "metadata": {},
   "outputs": [
    {
     "name": "stdout",
     "output_type": "stream",
     "text": [
      "[2.0]\n"
     ]
    },
    {
     "ename": "TypeError",
     "evalue": "'float' object is not iterable",
     "output_type": "error",
     "traceback": [
      "\u001b[31m---------------------------------------------------------------------------\u001b[39m",
      "\u001b[31mTypeError\u001b[39m                                 Traceback (most recent call last)",
      "\u001b[36mCell\u001b[39m\u001b[36m \u001b[39m\u001b[32mIn[63]\u001b[39m\u001b[32m, line 28\u001b[39m\n\u001b[32m     24\u001b[39m \u001b[38;5;250m        \u001b[39m\u001b[33;03m\"\"\"Se le pone una nueva nota (las 3) al alumno en cuestión\"\"\"\u001b[39;00m\n\u001b[32m     27\u001b[39m instituto = Instituto()\n\u001b[32m---> \u001b[39m\u001b[32m28\u001b[39m \u001b[43minstituto\u001b[49m\u001b[43m.\u001b[49m\u001b[43mstats\u001b[49m\u001b[43m(\u001b[49m\u001b[43m)\u001b[49m\n",
      "\u001b[36mCell\u001b[39m\u001b[36m \u001b[39m\u001b[32mIn[63]\u001b[39m\u001b[32m, line 12\u001b[39m, in \u001b[36mInstituto.stats\u001b[39m\u001b[34m(self)\u001b[39m\n\u001b[32m     10\u001b[39m medias.append(media)\n\u001b[32m     11\u001b[39m \u001b[38;5;28mprint\u001b[39m(medias)\n\u001b[32m---> \u001b[39m\u001b[32m12\u001b[39m media_global = \u001b[38;5;28;43msum\u001b[39;49m\u001b[43m(\u001b[49m\u001b[43mmedia\u001b[49m\u001b[43m)\u001b[49m/\u001b[32m3\u001b[39m\n\u001b[32m     13\u001b[39m \u001b[38;5;28mprint\u001b[39m(media_global)\n\u001b[32m     14\u001b[39m \u001b[38;5;28mprint\u001b[39m(\u001b[33mf\u001b[39m\u001b[33m\"\u001b[39m\u001b[33mLa media de cada estudiante es: \u001b[39m\u001b[38;5;132;01m{\u001b[39;00mmedia\u001b[38;5;132;01m}\u001b[39;00m\u001b[33m\"\u001b[39m)\n",
      "\u001b[31mTypeError\u001b[39m: 'float' object is not iterable"
     ]
    }
   ],
   "source": [
    "class Instituto:\n",
    "    estudiantes = {\"Juan\": [1,2,3], \"Pepe\": [5,7,7], \"Raúl\": [9,9,10]}\n",
    "   \n",
    "    def stats (self):\n",
    "        \"\"\"Este método stats devuelve la media de cada estudiante y la media global\"\"\"\n",
    "        for estudiante, nota in self.estudiantes.items():\n",
    "            medias = []\n",
    "            nota = self.estudiantes[estudiante]\n",
    "            media= sum(nota)/len(nota)\n",
    "            medias.append(media)\n",
    "            print(medias)\n",
    "            media_global = sum(media)/3\n",
    "            print(media_global)\n",
    "            print(f\"La media de cada estudiante es: {media}\")\n",
    " \n",
    "\n",
    "    def porcentaje_aprobados_total (self):\n",
    "        \"\"\"Devuelve el porcentaje de alumnos que su media es al menos 5\"\"\"\n",
    "    \n",
    "    def porcentaje_aprobados_eval(self):\n",
    "        \"\"\"Devuelve el porcnetaje de alumnos aprobados en una evaluación concreta\"\"\"\n",
    "\n",
    "    def cambiar_nota(self):\n",
    "        \"\"\"Se le pone una nueva nota (las 3) al alumno en cuestión\"\"\"\n",
    "\n",
    "    \n",
    "instituto = Instituto()\n",
    "instituto.stats()\n"
   ]
  }
 ],
 "metadata": {
  "kernelspec": {
   "display_name": "data_analysis_env",
   "language": "python",
   "name": "python3"
  },
  "language_info": {
   "codemirror_mode": {
    "name": "ipython",
    "version": 3
   },
   "file_extension": ".py",
   "mimetype": "text/x-python",
   "name": "python",
   "nbconvert_exporter": "python",
   "pygments_lexer": "ipython3",
   "version": "3.11.11"
  }
 },
 "nbformat": 4,
 "nbformat_minor": 5
}
