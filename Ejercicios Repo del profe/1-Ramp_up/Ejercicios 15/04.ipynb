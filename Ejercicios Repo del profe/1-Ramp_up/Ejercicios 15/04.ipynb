{
 "cells": [
  {
   "cell_type": "code",
   "execution_count": 3,
   "id": "34f4b879",
   "metadata": {},
   "outputs": [
    {
     "name": "stdout",
     "output_type": "stream",
     "text": [
      "La palabra similar es I\n"
     ]
    },
    {
     "data": {
      "text/plain": [
       "'Hola me llamoMonica y mi edad es 33'"
      ]
     },
     "execution_count": 3,
     "metadata": {},
     "output_type": "execute_result"
    }
   ],
   "source": [
    "churro = [({\"hola\":[1,\"I love you\"]})]\n",
    "numero = churro[0].get(\"hola\")[0] #Se salta la tupla porque las tuplas deben de tener más de un valor\n",
    "amor_frase= churro[0].get(\"hola\")[1]\n",
    "\n",
    "frase = amor_frase.split()\n",
    "\n",
    "for palabra in frase:\n",
    "  if len(palabra) == numero:\n",
    "    print (\"La palabra similar es \" + palabra)\n",
    "  \n",
    "\n",
    "#Cadenas formateadas\n",
    "  #No es necesario formatear los datos\n",
    "  \n",
    "nombre = \"Monica\"\n",
    "edad = 33\n",
    "f\"Hola me llamo{nombre} y mi edad es {edad}\"\n",
    "\n"
   ]
  },
  {
   "cell_type": "markdown",
   "id": "00ad1e60",
   "metadata": {},
   "source": []
  },
  {
   "cell_type": "markdown",
   "id": "78805d70",
   "metadata": {},
   "source": [
    "Si obtenemos las palabras de la frase de te quiero, hay alguna palabra igual al número de al lado?"
   ]
  },
  {
   "cell_type": "code",
   "execution_count": 48,
   "id": "5aa3b2b7",
   "metadata": {},
   "outputs": [
    {
     "name": "stdout",
     "output_type": "stream",
     "text": [
      "7.2\n",
      "57.6\n"
     ]
    }
   ],
   "source": [
    " #Multiplicar el 7,2 por los elementos que sean pares\n",
    "\n",
    "churro = {\"uno\":[\"z\",\"o\", [\"tres\", \"cuatro\"], [\"7,2\"]], \"dos\":([[\"8.0\", \"3\"]])}\n",
    "\n",
    "numero = churro[\"uno\"][3][0].replace(\",\",\".\")\n",
    "numero_entero = float(numero)\n",
    "print(numero)\n",
    "\n",
    "numero_par2 = churro[\"dos\"][0]\n",
    "\n",
    "for numero_par in numero_par2:\n",
    "  \n",
    "    numero_par_convertido = float(numero_par)\n",
    "    if numero_par_convertido % 2 == 0:\n",
    "      \n",
    "         numero_multiplicacion = numero_entero*numero_par_convertido\n",
    "\n",
    "print(numero_multiplicacion)\n",
    "\n"
   ]
  }
 ],
 "metadata": {
  "kernelspec": {
   "display_name": "data_analysis_env",
   "language": "python",
   "name": "python3"
  },
  "language_info": {
   "codemirror_mode": {
    "name": "ipython",
    "version": 3
   },
   "file_extension": ".py",
   "mimetype": "text/x-python",
   "name": "python",
   "nbconvert_exporter": "python",
   "pygments_lexer": "ipython3",
   "version": "3.11.11"
  }
 },
 "nbformat": 4,
 "nbformat_minor": 5
}
