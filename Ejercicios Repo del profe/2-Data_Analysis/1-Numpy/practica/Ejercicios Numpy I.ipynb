{
 "cells": [
  {
   "cell_type": "markdown",
   "metadata": {},
   "source": [
    "![imagen](./img/ejercicios.png)"
   ]
  },
  {
   "cell_type": "markdown",
   "metadata": {},
   "source": [
    "## Ejercicio 1\n",
    "Importa el módulo de `numpy` y obtén su versión."
   ]
  },
  {
   "cell_type": "code",
   "execution_count": 2,
   "metadata": {},
   "outputs": [
    {
     "data": {
      "text/plain": [
       "'2.2.5'"
      ]
     },
     "execution_count": 2,
     "metadata": {},
     "output_type": "execute_result"
    }
   ],
   "source": [
    "import numpy as np\n",
    "np.__version__"
   ]
  },
  {
   "cell_type": "markdown",
   "metadata": {},
   "source": [
    "## Ejercicio 2\n",
    "Crea un array de una dimensión que vaya de 0 a 9. Llamalo `my_array`"
   ]
  },
  {
   "cell_type": "code",
   "execution_count": 4,
   "metadata": {},
   "outputs": [
    {
     "name": "stdout",
     "output_type": "stream",
     "text": [
      "[0 1 2 3 4 5 6 7 8 9]\n"
     ]
    }
   ],
   "source": [
    "my_array = np.arange(0,10,1)\n",
    "print(my_array)\n"
   ]
  },
  {
   "cell_type": "markdown",
   "metadata": {},
   "source": [
    "## Ejercicio 3\n",
    "Crea un array 3x3, que sea todo a True"
   ]
  },
  {
   "cell_type": "code",
   "execution_count": 9,
   "metadata": {},
   "outputs": [
    {
     "name": "stdout",
     "output_type": "stream",
     "text": [
      "[[ True  True  True]\n",
      " [ True  True  True]\n",
      " [ True  True  True]]\n"
     ]
    },
    {
     "data": {
      "text/plain": [
       "'\\nnp.full función para crear matrices \\narray = np.full((3,3),True)\\nno.full((3,3),True).reshape(3,-1) el -1 toma el valor de 3\\nprint(array)'"
      ]
     },
     "execution_count": 9,
     "metadata": {},
     "output_type": "execute_result"
    }
   ],
   "source": [
    "array = np.array([[True,True,True],[True,True,True],[True,True,True]])\n",
    "print(array)\n",
    "\n",
    "\n",
    "\"\"\"\n",
    "np.full función para crear matrices \n",
    "array = np.full((3,3),True)\n",
    "no.full((3,3),True).reshape(3,-1) el -1 toma el valor de 3\n",
    "print(array)\"\"\""
   ]
  },
  {
   "cell_type": "markdown",
   "metadata": {},
   "source": [
    "## Ejercicio 4\n",
    "Extrae todos los impares de `my_array`"
   ]
  },
  {
   "cell_type": "code",
   "execution_count": null,
   "metadata": {},
   "outputs": [
    {
     "name": "stdout",
     "output_type": "stream",
     "text": [
      "1\n",
      "3\n",
      "5\n",
      "7\n",
      "9\n"
     ]
    }
   ],
   "source": [
    "for impares in my_array:\n",
    "    if impares%2 !=0:\n",
    "        print (impares)\n",
    "\n",
    "\"\"\"Con máscara: las máscaras siempre serán booleanos\n",
    "    mask = my_array%2 != 0\n",
    "    my_array[mask]\n",
    "\"\"\""
   ]
  },
  {
   "cell_type": "markdown",
   "metadata": {},
   "source": [
    "## Ejercicio 5\n",
    "En un nuevo array, sustituye todos los impares de `my_array` por -1"
   ]
  },
  {
   "cell_type": "code",
   "execution_count": null,
   "metadata": {},
   "outputs": [
    {
     "name": "stdout",
     "output_type": "stream",
     "text": [
      "[ 0 -1  2 -1  4 -1  6 -1  8 -1]\n"
     ]
    }
   ],
   "source": [
    "nuevo_array = my_array.copy()\n",
    "condicion = my_array % 2 != 0\n",
    "nuevo_array[condicion] = -1\n",
    "\n",
    "print (nuevo_array)"
   ]
  },
  {
   "cell_type": "markdown",
   "metadata": {},
   "source": [
    "## Ejercicio 6\n",
    "En un nuevo array, sustituye todos los impares de `my_array` por -1. Esta vez usa `where`"
   ]
  },
  {
   "cell_type": "code",
   "execution_count": null,
   "metadata": {},
   "outputs": [
    {
     "data": {
      "text/plain": [
       "array([ 0, -1,  2, -1,  4, -1,  6, -1,  8, -1])"
      ]
     },
     "execution_count": 13,
     "metadata": {},
     "output_type": "execute_result"
    }
   ],
   "source": [
    "\n",
    "# Condición, que quiero si se cumple (TRUE), y que quiero sino se cumple (FALSE)\n",
    "np.where(my_array % 2 != 0, -1,my_array)\n",
    "\n"
   ]
  },
  {
   "cell_type": "markdown",
   "metadata": {},
   "source": [
    "## Ejercicio 7\n",
    "Convierte `my_array` en un nuevo array de dos dimensiones mediante `reshape`."
   ]
  },
  {
   "cell_type": "code",
   "execution_count": 48,
   "metadata": {},
   "outputs": [
    {
     "name": "stdout",
     "output_type": "stream",
     "text": [
      "[[0 1 2 3 4]\n",
      " [5 6 7 8 9]]\n"
     ]
    }
   ],
   "source": [
    "nuevo_array = np.reshape(my_array,(2,5))\n",
    "print(nuevo_array)"
   ]
  },
  {
   "cell_type": "markdown",
   "metadata": {},
   "source": [
    "## Ejercicio 8\n",
    "Concatena los siguientes arrays verticamente\n",
    "\n",
    "```Python\n",
    "a = np.arange(10).reshape(2,-1)\n",
    "b = np.repeat(1, 10).reshape(2,-1)\n",
    "```"
   ]
  },
  {
   "cell_type": "code",
   "execution_count": null,
   "metadata": {},
   "outputs": [
    {
     "data": {
      "text/plain": [
       "array([[0, 1, 2, 3, 4],\n",
       "       [5, 6, 7, 8, 9],\n",
       "       [1, 1, 1, 1, 1],\n",
       "       [1, 1, 1, 1, 1]])"
      ]
     },
     "execution_count": 15,
     "metadata": {},
     "output_type": "execute_result"
    }
   ],
   "source": [
    "a = np.arange(10).reshape(2,-1)\n",
    "b = np.repeat(1, 10).reshape(2,-1)\n",
    "\n",
    "\n",
    "np.concatenate((a,b))\n",
    "# Pq en tupla o en lista para poder meter todos los números que queramos y que no nos dé problemas\n"
   ]
  },
  {
   "cell_type": "markdown",
   "metadata": {},
   "source": [
    "## Ejercicio 9\n",
    "Concatena los siguientes arrays horizontamente\n",
    "\n",
    "```Python\n",
    "a = np.arange(10).reshape(2,-1)\n",
    "b = np.repeat(1, 10).reshape(2,-1)\n",
    "```"
   ]
  },
  {
   "cell_type": "code",
   "execution_count": 61,
   "metadata": {},
   "outputs": [
    {
     "data": {
      "text/plain": [
       "array([[0, 1, 2, 3, 4, 1, 1, 1, 1, 1],\n",
       "       [5, 6, 7, 8, 9, 1, 1, 1, 1, 1]])"
      ]
     },
     "execution_count": 61,
     "metadata": {},
     "output_type": "execute_result"
    }
   ],
   "source": [
    "a = np.arange(10).reshape(2,-1)\n",
    "b = np.repeat(1, 10).reshape(2,-1)\n",
    "\n",
    "\n",
    "np.concatenate((a,b),axis = 1)"
   ]
  },
  {
   "cell_type": "markdown",
   "metadata": {},
   "source": [
    "## Ejercicio 10\n",
    "Encuentra todos los elementos en común entre ambos arrays. [Para ello usa el método `intersect1d`](https://numpy.org/doc/stable/reference/generated/numpy.intersect1d.html)\n",
    "\n",
    "```Python\n",
    "a = np.array([1,2,3,2,3,4,3,4,5,6])\n",
    "b = np.array([7,2,10,2,7,4,9,4,9,8])\n",
    "```"
   ]
  },
  {
   "cell_type": "code",
   "execution_count": 65,
   "metadata": {},
   "outputs": [
    {
     "data": {
      "text/plain": [
       "array([2, 4])"
      ]
     },
     "execution_count": 65,
     "metadata": {},
     "output_type": "execute_result"
    }
   ],
   "source": [
    "\n",
    "a = np.array([1,2,3,2,3,4,3,4,5,6])\n",
    "b = np.array([7,2,10,2,7,4,9,4,9,8])\n",
    "\n",
    "np.intersect1d(a,b)"
   ]
  },
  {
   "cell_type": "markdown",
   "metadata": {},
   "source": [
    "## Ejercicio 11\n",
    "Obtén la documentación acerca de la función `concatenate`"
   ]
  },
  {
   "cell_type": "code",
   "execution_count": 67,
   "metadata": {},
   "outputs": [
    {
     "data": {
      "text/plain": [
       "'\\n    concatenate(\\n        (a1, a2, ...),\\n        axis=0,\\n        out=None,\\n        dtype=None,\\n        casting=\"same_kind\"\\n    )\\n\\n    Join a sequence of arrays along an existing axis.\\n\\n    Parameters\\n    ----------\\n    a1, a2, ... : sequence of array_like\\n        The arrays must have the same shape, except in the dimension\\n        corresponding to `axis` (the first, by default).\\n    axis : int, optional\\n        The axis along which the arrays will be joined.  If axis is None,\\n        arrays are flattened before use.  Default is 0.\\n    out : ndarray, optional\\n        If provided, the destination to place the result. The shape must be\\n        correct, matching that of what concatenate would have returned if no\\n        out argument were specified.\\n    dtype : str or dtype\\n        If provided, the destination array will have this dtype. Cannot be\\n        provided together with `out`.\\n\\n        .. versionadded:: 1.20.0\\n\\n    casting : {\\'no\\', \\'equiv\\', \\'safe\\', \\'same_kind\\', \\'unsafe\\'}, optional\\n        Controls what kind of data casting may occur. Defaults to \\'same_kind\\'.\\n        For a description of the options, please see :term:`casting`.\\n\\n        .. versionadded:: 1.20.0\\n\\n    Returns\\n    -------\\n    res : ndarray\\n        The concatenated array.\\n\\n    See Also\\n    --------\\n    ma.concatenate : Concatenate function that preserves input masks.\\n    array_split : Split an array into multiple sub-arrays of equal or\\n                  near-equal size.\\n    split : Split array into a list of multiple sub-arrays of equal size.\\n    hsplit : Split array into multiple sub-arrays horizontally (column wise).\\n    vsplit : Split array into multiple sub-arrays vertically (row wise).\\n    dsplit : Split array into multiple sub-arrays along the 3rd axis (depth).\\n    stack : Stack a sequence of arrays along a new axis.\\n    block : Assemble arrays from blocks.\\n    hstack : Stack arrays in sequence horizontally (column wise).\\n    vstack : Stack arrays in sequence vertically (row wise).\\n    dstack : Stack arrays in sequence depth wise (along third dimension).\\n    column_stack : Stack 1-D arrays as columns into a 2-D array.\\n\\n    Notes\\n    -----\\n    When one or more of the arrays to be concatenated is a MaskedArray,\\n    this function will return a MaskedArray object instead of an ndarray,\\n    but the input masks are *not* preserved. In cases where a MaskedArray\\n    is expected as input, use the ma.concatenate function from the masked\\n    array module instead.\\n\\n    Examples\\n    --------\\n    >>> import numpy as np\\n    >>> a = np.array([[1, 2], [3, 4]])\\n    >>> b = np.array([[5, 6]])\\n    >>> np.concatenate((a, b), axis=0)\\n    array([[1, 2],\\n           [3, 4],\\n           [5, 6]])\\n    >>> np.concatenate((a, b.T), axis=1)\\n    array([[1, 2, 5],\\n           [3, 4, 6]])\\n    >>> np.concatenate((a, b), axis=None)\\n    array([1, 2, 3, 4, 5, 6])\\n\\n    This function will not preserve masking of MaskedArray inputs.\\n\\n    >>> a = np.ma.arange(3)\\n    >>> a[1] = np.ma.masked\\n    >>> b = np.arange(2, 5)\\n    >>> a\\n    masked_array(data=[0, --, 2],\\n                 mask=[False,  True, False],\\n           fill_value=999999)\\n    >>> b\\n    array([2, 3, 4])\\n    >>> np.concatenate([a, b])\\n    masked_array(data=[0, 1, 2, 2, 3, 4],\\n                 mask=False,\\n           fill_value=999999)\\n    >>> np.ma.concatenate([a, b])\\n    masked_array(data=[0, --, 2, 2, 3, 4],\\n                 mask=[False,  True, False, False, False, False],\\n           fill_value=999999)\\n\\n    '"
      ]
     },
     "execution_count": 67,
     "metadata": {},
     "output_type": "execute_result"
    }
   ],
   "source": [
    "np.concatenate.__doc__"
   ]
  },
  {
   "cell_type": "markdown",
   "metadata": {},
   "source": [
    "## Ejercicio 12\n",
    "Crea un array unidimensional que vaya del 0 al 9. Llámalo `my_array`. \n",
    "1. Multiplica cada uno de los elementos de `my_array` por 10, en un nuevo array\n",
    "2. Accede al primer elemento del array\n",
    "3. Accede al último elemento del array\n",
    "4. Imprime por pantalla los numeros del 1 al 7"
   ]
  },
  {
   "cell_type": "code",
   "execution_count": 20,
   "metadata": {},
   "outputs": [
    {
     "name": "stdout",
     "output_type": "stream",
     "text": [
      "[ 0 10 20 30 40 50 60 70 80 90]\n",
      "0\n",
      "9\n",
      "[1 2 3 4 5 6 7]\n"
     ]
    }
   ],
   "source": [
    "my_array = np.array([0,1,2,3,4,5,6,7,8,9])\n",
    "print(my_array*10)\n",
    "print(my_array[0])\n",
    "print(my_array[-1])\n",
    "print(my_array[1:8:1]) #start stop step\n"
   ]
  },
  {
   "cell_type": "markdown",
   "metadata": {},
   "source": [
    "## Ejercicio 13\n",
    "Crea un array manualmente de tres filas por tres columnas. Llámalo `my_matrix`"
   ]
  },
  {
   "cell_type": "code",
   "execution_count": null,
   "metadata": {},
   "outputs": [
    {
     "name": "stdout",
     "output_type": "stream",
     "text": [
      "(3, 3)\n"
     ]
    }
   ],
   "source": [
    "my_matrix = np.array(\n",
    "    [[1,2,3],\n",
    "    [4,5,6],\n",
    "    [7,8,9]])\n"
   ]
  },
  {
   "cell_type": "markdown",
   "metadata": {},
   "source": [
    "## Ejercicio 14\n",
    "Obtén la siguiente secuencia:\n",
    "\n",
    "```Python\n",
    "[ 1,  4,  7, 10, 13, 16, 19, 22, 25, 28, 31, 34, 37, 40, 43, 46, 49]\n",
    "```"
   ]
  },
  {
   "cell_type": "code",
   "execution_count": 75,
   "metadata": {},
   "outputs": [
    {
     "name": "stdout",
     "output_type": "stream",
     "text": [
      "[ 1  4  7 10 13 16 19 22 25 28 31 34 37 40 43 46 49]\n"
     ]
    }
   ],
   "source": [
    "print(np.arange(1, 50, 3))"
   ]
  },
  {
   "cell_type": "markdown",
   "metadata": {},
   "source": [
    "## Ejercicio 15\n",
    "Obtén la siguiente secuencia\n",
    "\n",
    "```Python\n",
    "[4., 3.75, 3.5 , 3.25, 3.  , 2.75, 2.5 , 2.25, 2., 1.75, 1.5 ,1.25]\n",
    "```"
   ]
  },
  {
   "cell_type": "code",
   "execution_count": 80,
   "metadata": {},
   "outputs": [
    {
     "name": "stdout",
     "output_type": "stream",
     "text": [
      "[4.   3.75 3.5  3.25 3.   2.75 2.5  2.25 2.   1.75 1.5  1.25]\n"
     ]
    }
   ],
   "source": [
    "print(np.arange(4, 1, -0.25))"
   ]
  },
  {
   "cell_type": "markdown",
   "metadata": {},
   "source": [
    "## Ejercicio 16\n",
    "Lee la imagen \"numpy.png\""
   ]
  },
  {
   "cell_type": "markdown",
   "metadata": {},
   "source": [
    "![imagen](./img/numpy.png)"
   ]
  },
  {
   "cell_type": "code",
   "execution_count": null,
   "metadata": {},
   "outputs": [],
   "source": [
    "import matplotlib.pyplot   as plt\n",
    "\n",
    "imagen = plt.imread(\"\")\n",
    "print(type(imagen))\n",
    "print(imagen.shape)"
   ]
  },
  {
   "cell_type": "markdown",
   "metadata": {},
   "source": [
    "## Ejercicio 17\n",
    "Crea un array de 4x1. A continuación convierte el array a un 2x2"
   ]
  },
  {
   "cell_type": "code",
   "execution_count": null,
   "metadata": {},
   "outputs": [
    {
     "name": "stdout",
     "output_type": "stream",
     "text": [
      "(4, 1)\n",
      "[[1 2]\n",
      " [3 4]]\n"
     ]
    }
   ],
   "source": [
    "array = np.array([[1],[2],[3],[4]])\n",
    "print(array.shape)\n",
    "nuevo_array = np.reshape(array,(2,2))\n",
    "print(nuevo_array)"
   ]
  },
  {
   "cell_type": "markdown",
   "metadata": {},
   "source": [
    "## Ejercicio 18\n",
    "Crea una secuencia aleatoria. La secuencia se tiene que componer de 4 matrices de 5x3. Serían 3 dimensiones diferentes."
   ]
  },
  {
   "cell_type": "code",
   "execution_count": 100,
   "metadata": {},
   "outputs": [
    {
     "name": "stdout",
     "output_type": "stream",
     "text": [
      "[[[9 0 4]\n",
      "  [0 5 4]\n",
      "  [5 4 8]\n",
      "  [6 3 0]\n",
      "  [1 9 7]]\n",
      "\n",
      " [[9 9 4]\n",
      "  [1 5 3]\n",
      "  [1 4 5]\n",
      "  [1 2 9]\n",
      "  [9 9 9]]\n",
      "\n",
      " [[4 8 8]\n",
      "  [3 2 8]\n",
      "  [7 8 2]\n",
      "  [6 7 2]\n",
      "  [9 8 0]]\n",
      "\n",
      " [[4 4 6]\n",
      "  [5 6 2]\n",
      "  [3 0 1]\n",
      "  [4 9 5]\n",
      "  [6 6 2]]]\n"
     ]
    }
   ],
   "source": [
    "print(np.random.randint(10, size = (4,5,3)))\n",
    "\n"
   ]
  },
  {
   "cell_type": "markdown",
   "metadata": {},
   "source": [
    "## Ejercicio 19\n",
    "Crea una matriz de 10x1, toda ella compuesta por `False`. Después transformalo en un 2x5"
   ]
  },
  {
   "cell_type": "code",
   "execution_count": 111,
   "metadata": {},
   "outputs": [
    {
     "name": "stdout",
     "output_type": "stream",
     "text": [
      "[[False False False False False]\n",
      " [False False False False False]]\n"
     ]
    }
   ],
   "source": [
    "matriz_10x1 = np.full((10, 1), False)\n",
    "matriz_2x5 = np.reshape(matriz_10x1, (2, 5))\n",
    "print(matriz_2x5)"
   ]
  },
  {
   "cell_type": "markdown",
   "metadata": {},
   "source": [
    "## Ejercicio 20\n",
    "Dado el siguiente array\n",
    "\n",
    "```Python\n",
    "x =np.random.randint(10, 20, size = (5,2,6))\n",
    "```\n",
    "\n",
    "1. ¿Cuántos elementos tiene el array?\n",
    "2. ¿Cuántas dimensiones?\n",
    "3. ¿Cuántos elementos tiene cada dimensión?"
   ]
  },
  {
   "cell_type": "code",
   "execution_count": 120,
   "metadata": {},
   "outputs": [
    {
     "name": "stdout",
     "output_type": "stream",
     "text": [
      "(5, 2, 6)\n",
      "Número de elementos: 5\n",
      "Número dimensiones: 3\n",
      "Cada dimensión tiene 2*6 elementos\n"
     ]
    }
   ],
   "source": [
    "x =np.random.randint(10, 20, size = (5,2,6))\n",
    "\n",
    "print(x.shape)\n",
    "print(\"Número de elementos: 5\" )\n",
    "print(\"Número dimensiones:\",x.ndim)\n",
    "print(\"Cada dimensión tiene 2*6 elementos\")"
   ]
  }
 ],
 "metadata": {
  "kernelspec": {
   "display_name": "data_analysis_env",
   "language": "python",
   "name": "python3"
  },
  "language_info": {
   "codemirror_mode": {
    "name": "ipython",
    "version": 3
   },
   "file_extension": ".py",
   "mimetype": "text/x-python",
   "name": "python",
   "nbconvert_exporter": "python",
   "pygments_lexer": "ipython3",
   "version": "3.11.11"
  }
 },
 "nbformat": 4,
 "nbformat_minor": 4
}
