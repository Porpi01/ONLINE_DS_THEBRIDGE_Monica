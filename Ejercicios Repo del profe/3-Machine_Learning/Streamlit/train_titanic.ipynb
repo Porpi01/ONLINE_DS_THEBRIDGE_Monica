{
 "cells": [
  {
   "cell_type": "code",
   "execution_count": null,
   "id": "9f23fc4f",
   "metadata": {},
   "outputs": [],
   "source": [
    "# Buscar csv titanic\n",
    "\n",
    "import pandas as pd\n",
    "\n",
    "# df[\"age\"] = df[\"age\"].fillna(df[\"age\"].mean()) Llenar nans con la media\n",
    "#pd.concat(pd.get_dummies(df[\"embarked\"]).astype(int))\n",
    "\n",
    "# Usar random forest \n",
    "\n"
   ]
  }
 ],
 "metadata": {
  "kernelspec": {
   "display_name": "streamlink_env",
   "language": "python",
   "name": "python3"
  },
  "language_info": {
   "codemirror_mode": {
    "name": "ipython",
    "version": 3
   },
   "file_extension": ".py",
   "mimetype": "text/x-python",
   "name": "python",
   "nbconvert_exporter": "python",
   "pygments_lexer": "ipython3",
   "version": "3.11.13"
  }
 },
 "nbformat": 4,
 "nbformat_minor": 5
}
