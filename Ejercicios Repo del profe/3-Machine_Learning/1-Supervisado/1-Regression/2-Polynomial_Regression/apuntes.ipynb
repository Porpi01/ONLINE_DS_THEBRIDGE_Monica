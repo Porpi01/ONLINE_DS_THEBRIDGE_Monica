{
 "cells": [
  {
   "cell_type": "markdown",
   "id": "65837c48",
   "metadata": {},
   "source": [
    "### POLYNOMIAL REGRESSION\n",
    "\n",
    "from sklearn.preprocessing import PolynomialFeatures\n"
   ]
  }
 ],
 "metadata": {
  "language_info": {
   "name": "python"
  }
 },
 "nbformat": 4,
 "nbformat_minor": 5
}
