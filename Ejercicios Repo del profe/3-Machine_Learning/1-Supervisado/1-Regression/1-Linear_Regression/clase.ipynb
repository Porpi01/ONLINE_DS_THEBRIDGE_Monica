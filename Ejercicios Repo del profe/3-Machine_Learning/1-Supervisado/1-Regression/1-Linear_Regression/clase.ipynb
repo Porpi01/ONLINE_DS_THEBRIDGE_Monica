{
 "cells": [
  {
   "cell_type": "code",
   "execution_count": null,
   "id": "bf05bc3b",
   "metadata": {},
   "outputs": [],
   "source": [
    "# from sklearn import LinearREgression\n",
    "# lr = LinearRegression\n",
    "# lr.fit(X=x.reshape(-1,1),y=y)\n",
    "# lr.coef = m\n",
    "# lr.intercept = c\n"
   ]
  }
 ],
 "metadata": {
  "language_info": {
   "name": "python"
  }
 },
 "nbformat": 4,
 "nbformat_minor": 5
}
