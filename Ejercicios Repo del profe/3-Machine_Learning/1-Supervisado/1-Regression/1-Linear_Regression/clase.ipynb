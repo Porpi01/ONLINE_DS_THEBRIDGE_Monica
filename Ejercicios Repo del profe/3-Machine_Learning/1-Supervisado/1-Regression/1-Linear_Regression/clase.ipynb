{
 "cells": [
  {
   "cell_type": "code",
   "execution_count": null,
   "id": "bf05bc3b",
   "metadata": {},
   "outputs": [],
   "source": [
    "# from sklearn import LinearREgression\n",
    "# lr = LinearRegression\n",
    "# lr.fit(X=x.reshape(-1,1),y=y)\n",
    "# lr.coef = m\n",
    "# lr.intercept = c\n"
   ]
  },
  {
   "cell_type": "markdown",
   "id": "783bc510",
   "metadata": {},
   "source": [
    "#### USA-housing-linear-regression\n",
    "\n",
    "Las columnas tipo string(object) no sirven para hacer regresión lineal por lo que podemos eliminarlas\n",
    "Sklearn no trabaja con Nans (eliminar,moda,media)\n",
    "En los describe nos interesa la media (todas las columnas deben de tener la misma media)\n",
    "q el modelo esté entrenado (fit) significa q ya tengo m y c\n",
    "a la hora de calcular el score usar siempre el r2_score\n",
    "Métrica s más importantes MAE y MAPE \n",
    "from sklearn.preprocessing import MinMaxScaler, StandardScaler\n",
    "\n",
    "\n"
   ]
  },
  {
   "cell_type": "code",
   "execution_count": 4,
   "id": "9e43d098",
   "metadata": {},
   "outputs": [
    {
     "data": {
      "text/plain": [
       "array([[-1.5666989 ],\n",
       "       [-1.21854359],\n",
       "       [-0.87038828],\n",
       "       [-0.52223297],\n",
       "       [-0.17407766],\n",
       "       [ 0.17407766],\n",
       "       [ 0.52223297],\n",
       "       [ 0.87038828],\n",
       "       [ 1.21854359],\n",
       "       [ 1.5666989 ]])"
      ]
     },
     "execution_count": 4,
     "metadata": {},
     "output_type": "execute_result"
    }
   ],
   "source": [
    "import numpy as np\n",
    "from sklearn.preprocessing import MinMaxScaler, StandardScaler\n",
    "\n",
    "##NORMALIZAR VALORES\n",
    "\n",
    "a = np.array([[1,2,3,4,5,6,7,8,9,10]]).reshape(-1,1)\n",
    "mms = MinMaxScaler() # Valores entre 0 y 1\n",
    "mms.fit(a)\n",
    "mms.transform(a)\n",
    "\n",
    "sss = StandardScaler() \n",
    "sss.fit(a)\n",
    "sss.transform(a)\n"
   ]
  }
 ],
 "metadata": {
  "kernelspec": {
   "display_name": "data_analysis_env",
   "language": "python",
   "name": "python3"
  },
  "language_info": {
   "codemirror_mode": {
    "name": "ipython",
    "version": 3
   },
   "file_extension": ".py",
   "mimetype": "text/x-python",
   "name": "python",
   "nbconvert_exporter": "python",
   "pygments_lexer": "ipython3",
   "version": "3.11.11"
  }
 },
 "nbformat": 4,
 "nbformat_minor": 5
}
