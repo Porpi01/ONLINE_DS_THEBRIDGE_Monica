{
 "cells": [
  {
   "cell_type": "markdown",
   "id": "b963c64e",
   "metadata": {},
   "source": [
    "### REGULARIZACIÓN PROSTATE CANCER\n",
    "\n",
    "Con la media observada en .describe() vemos si debemos o no normalizar\n",
    "\n"
   ]
  }
 ],
 "metadata": {
  "language_info": {
   "name": "python"
  }
 },
 "nbformat": 4,
 "nbformat_minor": 5
}
