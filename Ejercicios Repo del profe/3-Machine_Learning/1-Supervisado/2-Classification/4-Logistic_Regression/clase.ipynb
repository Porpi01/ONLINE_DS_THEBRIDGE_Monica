{
 "cells": [
  {
   "cell_type": "markdown",
   "id": "ceb9eea8",
   "metadata": {},
   "source": [
    "### LOGISTIC_REGRESSION\n",
    "\n",
    "no poner heatmaps con % "
   ]
  }
 ],
 "metadata": {
  "language_info": {
   "name": "python"
  }
 },
 "nbformat": 4,
 "nbformat_minor": 5
}
