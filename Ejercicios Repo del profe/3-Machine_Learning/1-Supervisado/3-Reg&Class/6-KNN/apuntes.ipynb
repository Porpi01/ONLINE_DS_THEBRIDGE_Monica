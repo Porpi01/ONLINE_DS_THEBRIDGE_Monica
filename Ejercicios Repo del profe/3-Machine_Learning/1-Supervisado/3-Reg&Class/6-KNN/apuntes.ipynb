{
 "cells": [
  {
   "cell_type": "markdown",
   "id": "6dfd274c",
   "metadata": {},
   "source": []
  }
 ],
 "metadata": {
  "language_info": {
   "name": "python"
  }
 },
 "nbformat": 4,
 "nbformat_minor": 5
}
