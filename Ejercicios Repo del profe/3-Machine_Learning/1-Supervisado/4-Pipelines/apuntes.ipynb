{
 "cells": [
  {
   "cell_type": "markdown",
   "id": "ff9d66d4",
   "metadata": {},
   "source": [
    "Machine Learning grid search and pipelines\n",
    "\n",
    "POLINOMIAL FEATURES ---- Es una herramienta que se usa para que un modelo lineal pueda aprender relaciones no lineales entre las variables.\n",
    "¿Columna ruidosa?\n",
    "\n",
    "Simple\n",
    "\n",
    "import pickle\n",
    "with open(\"nombre_fichero\",\"wb o rb\") as file: mimodelo = pickle.load(file)"
   ]
  },
  {
   "cell_type": "code",
   "execution_count": null,
   "id": "75658616",
   "metadata": {
    "vscode": {
     "languageId": "plaintext"
    }
   },
   "outputs": [],
   "source": [
    "with open(\"nombre_fichero\",\"wb o rb\") as file = pickle.dump(file) dump o dumps si son strings\n",
    "\n"
   ]
  }
 ],
 "metadata": {
  "language_info": {
   "name": "python"
  }
 },
 "nbformat": 4,
 "nbformat_minor": 5
}
