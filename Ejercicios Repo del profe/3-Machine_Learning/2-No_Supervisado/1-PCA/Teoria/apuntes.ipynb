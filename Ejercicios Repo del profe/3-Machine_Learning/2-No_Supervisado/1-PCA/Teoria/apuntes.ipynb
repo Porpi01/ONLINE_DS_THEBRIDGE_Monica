{
 "cells": [
  {
   "cell_type": "markdown",
   "id": "8ca6648c",
   "metadata": {},
   "source": [
    "Técnica de reduccion dimensionalidad (columnas, mostrar gráficas)\n",
    "\n",
    "Hay tantos PCA como columnas (100 columnas 100 PCA)\n",
    "Oportunidad de mejorar la perspectiva y mejorar la información\n",
    "MAtriz covarianza: como de correladas están dos variables\n",
    "!Cuidao! Nos devuelve un dataframe, estandarizar datos\n",
    "\n",
    "\n",
    "COMPRESS IMAGE\n",
    "\n",
    "pip install uv \n",
    "\n",
    "\n"
   ]
  }
 ],
 "metadata": {
  "language_info": {
   "name": "python"
  }
 },
 "nbformat": 4,
 "nbformat_minor": 5
}
