{
 "cells": [
  {
   "cell_type": "markdown",
   "id": "9cc953fe",
   "metadata": {},
   "source": [
    "Librería UV (pip install uv) para mejorar el funcionamiento de pip (instalador)\n",
    "\n",
    "t-SNE mejora visualización de datos (gráficos)\n",
    "\n"
   ]
  }
 ],
 "metadata": {
  "language_info": {
   "name": "python"
  }
 },
 "nbformat": 4,
 "nbformat_minor": 5
}
