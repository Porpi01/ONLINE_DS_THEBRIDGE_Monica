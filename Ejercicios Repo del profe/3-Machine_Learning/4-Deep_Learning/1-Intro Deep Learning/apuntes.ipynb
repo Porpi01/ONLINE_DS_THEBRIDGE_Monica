{
 "cells": [
  {
   "cell_type": "markdown",
   "id": "e7c4313b",
   "metadata": {},
   "source": [
    "Deep learning"
   ]
  },
  {
   "cell_type": "markdown",
   "id": "e5948944",
   "metadata": {},
   "source": [
    "Modelo clasificación\n",
    "\n",
    "model.add(Dense(12, input_shape=(8,), activation='relu'))\n",
    "model.add(Dense(8, activation='relu'))\n",
    "model.add(Dense(1, activation='sigmoid')) \n",
    "\n",
    "Modelo regresión\n",
    "model.add(Dense(12, input_shape=(8,), activation='relu'))\n",
    "model.add(Dense(8, activation='relu'))\n",
    "model.add(Dense(1))\n",
    "\n",
    "Modelo multiclase\n",
    "\n",
    "model.add(Dense(12, input_shape=(8,), activation='relu'))\n",
    "model.add(Dense(8, activation='relu'))\n",
    "model.add(Dense(1), activation=\"softmax\")\n",
    "\n",
    "Softmax acota los datos entre 0 y 1\n",
    "\n",
    "ADAM (Momentum y adaptative lr)\n",
    "\n",
    "Dropout (entre 0.2-0.4) van entre capa y capa\n",
    "\n",
    "model.add(Dense(12, input_shape=(8,), activation='relu'))\n",
    "model.Dropout()\n",
    "model.add(Dense(8, activation='relu'))\n",
    "model.Dropout()\n",
    "model.add(Dense(1))\n",
    "\n",
    "\n"
   ]
  }
 ],
 "metadata": {
  "language_info": {
   "name": "python"
  }
 },
 "nbformat": 4,
 "nbformat_minor": 5
}
