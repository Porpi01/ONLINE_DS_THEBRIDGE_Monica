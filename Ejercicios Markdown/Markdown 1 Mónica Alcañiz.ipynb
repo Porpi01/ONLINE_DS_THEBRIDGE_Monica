{
 "cells": [
  {
   "cell_type": "markdown",
   "id": "5c4db508-dd56-45ff-8e8c-1b9fdd41a70f",
   "metadata": {},
   "source": [
    "### Ejercicio 1: Cabeceras\n",
    "Crea las siguientes cabeceras:\n",
    "\n",
    "1. Una cabecera de nivel 1 con el texto \"Ciencia de Datos\".\n",
    "2. Una cabecera de nivel 2 con el texto \"Introducción\".\n",
    "3. Una cabecera de nivel 3 con el texto \"Herramientas\"."
   ]
  },
  {
   "cell_type": "markdown",
   "id": "5de0b259-3c34-4dee-9cb0-1648f5b4f1c3",
   "metadata": {},
   "source": [
    "# Ciencia de datos\n",
    "## Introducción\n",
    "### Herramientas"
   ]
  },
  {
   "cell_type": "markdown",
   "id": "74a7f5cf-6d09-4626-835a-296450b0ea0a",
   "metadata": {},
   "source": [
    "### Ejercicio 2: Estilos de texto\n",
    "Escribe una frase que contenga las siguientes características:\n",
    "\n",
    "1. La palabra \"Markdown\" en negritas.\n",
    "2. La palabra \"Jupyter\" en cursivas.\n",
    "3. La palabra \"Python\" en negritas y cursivas."
   ]
  },
  {
   "cell_type": "markdown",
   "id": "0ceed631-8f62-49d5-beb7-a81ae458b614",
   "metadata": {},
   "source": [
    "**Markdown** es un lenguaje de marcado ligero"
   ]
  },
  {
   "cell_type": "markdown",
   "id": "78e4dfed-8296-45fc-8666-432733db9db2",
   "metadata": {},
   "source": [
    "*Jupyter* es una aplicación web para ver fragmentos de código mientras escribes"
   ]
  },
  {
   "cell_type": "markdown",
   "id": "391935e0-29dd-4059-ade1-c560dcca7f95",
   "metadata": {},
   "source": [
    "***Python es un lenguaje de programación***"
   ]
  },
  {
   "cell_type": "markdown",
   "id": "46c568d4-af57-407b-b3af-196291aa7477",
   "metadata": {},
   "source": [
    "### Ejercicio 3: Resaltados y HTML\n",
    "Crea una línea que contenga:\n",
    "\n",
    "1. La palabra \"resaltado\" con un fondo amarillo usando Markdown.\n",
    "2. La palabra \"color\" en azul usando HTML.\n",
    "\n",
    "Para este ejercicio tendrás que buscar un poco más en internet, venga que tú puedes."
   ]
  },
  {
   "cell_type": "markdown",
   "id": "334d2c54-2a11-47a0-87fb-71db7e256828",
   "metadata": {},
   "source": [
    "<mark>resaltado</mark>"
   ]
  },
  {
   "cell_type": "markdown",
   "id": "312febcb-fad8-4fed-b741-33b9e71c4d6d",
   "metadata": {},
   "source": [
    "<font color=\"blue\"> color </font>\n",
    "\n"
   ]
  },
  {
   "cell_type": "markdown",
   "id": "bd1fe49d-ae84-4d9b-bdf3-adf927ddad6f",
   "metadata": {},
   "source": [
    "### Ejercicio 4: Citas\n",
    "Incluye la siguiente cita:\n",
    "\n",
    "> La Ciencia de Datos es el petróleo del siglo XXI.\n",
    "\n",
    "En uno y dos niveles de cita"
   ]
  },
  {
   "cell_type": "markdown",
   "id": "99006e23-6773-4431-b08a-e6a5ed0e9d1f",
   "metadata": {},
   "source": [
    ">La Ciencia de Datos es el petróleo del siglo XXI.\n",
    "\n",
    ">>La Ciencia de Datos es el petróleo del siglo XXI.\n",
    "\n"
   ]
  },
  {
   "cell_type": "markdown",
   "id": "f3ffb9d0-44d6-4e9d-88b0-a59dadffe32f",
   "metadata": {},
   "source": [
    "### Ejercicio 5: Combinando todo\n",
    "Crea un texto que combine lo siguiente:\n",
    "\n",
    "1. Una cabecera de nivel 2 con el texto \"Curso de Markdown\".\n",
    "2. Una frase que contenga la palabra \"importante\" en negritas.\n",
    "3. Una cita que diga: \"Aprender es crecer\".\n",
    "4. La palabra \"ejemplo\" en cursivas y con un fondo verde usando HTML.\n",
    "\n",
    "Nota: Si no has sido capaz de encontrar como dar color de fondo usando HTML quizás <span style=\"background-color:yellow\">*tienes que buscar más cerca de ti*</span>\n"
   ]
  },
  {
   "cell_type": "markdown",
   "id": "6f6ebf3e-1d43-41cb-8890-1524e697c35a",
   "metadata": {},
   "source": [
    "## Curso de Markdown\n",
    "Lo **importante** de vivir es disfrutar.\n",
    "Como decía mi abuela:\n",
    ">Aprender es crecer\n",
    "\n",
    "<span style=\"color:green\">*Ejemplo*</span>"
   ]
  }
 ],
 "metadata": {
  "kernelspec": {
   "display_name": "Python 3 (ipykernel)",
   "language": "python",
   "name": "python3"
  },
  "language_info": {
   "codemirror_mode": {
    "name": "ipython",
    "version": 3
   },
   "file_extension": ".py",
   "mimetype": "text/x-python",
   "name": "python",
   "nbconvert_exporter": "python",
   "pygments_lexer": "ipython3",
   "version": "3.13.2"
  }
 },
 "nbformat": 4,
 "nbformat_minor": 5
}
