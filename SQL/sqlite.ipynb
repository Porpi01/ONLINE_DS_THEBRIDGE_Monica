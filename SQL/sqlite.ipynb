{
 "cells": [
  {
   "cell_type": "markdown",
   "id": "ac7401cc",
   "metadata": {},
   "source": [
    "Investigar como conectar sqlalquemy con sqlite3\n",
    "\n",
    "Tips\n",
    "\n",
    "- Investidar que es sqlite3 (es por archivo y va instalado por defecto) \n",
    "\n",
    "Alcohol_consumption \n",
    "Postgree hay qye hacer ese notebook con postgree meter esos datos en una bbdd ( recuerda crear otra para q no suceda lo del ejercicio de arriba)\n",
    "\n",
    "1. CONECTAD CON LA BASE DE DATOS (POSTGRES)\n",
    "2. CARGAD DATOS (CSV)\n",
    "3. ESE DATAFRAME A LA BASE DE DATOS (TO.SQL)\n",
    "4. RESOLVER EJERCICIOS USANDO SQL"
   ]
  },
  {
   "cell_type": "code",
   "execution_count": 6,
   "id": "c0b3922e",
   "metadata": {},
   "outputs": [],
   "source": [
    "from sqlalchemy import create_engine\n",
    "from sqlalchemy.orm import sessionmaker\n",
    "from sqlalchemy.orm import declarative_base\n",
    "from sqlalchemy import Column,Integer,String\n",
    "import pandas as pd\n"
   ]
  },
  {
   "cell_type": "code",
   "execution_count": 7,
   "id": "36bf0f02",
   "metadata": {},
   "outputs": [],
   "source": [
    "# Define la ruta a la base de datos SQLite\n",
    "db_path = \"marvel.db\"\n",
    "\n",
    "# Crea el motor de base de datos\n",
    "engine = create_engine(f\"sqlite:///{db_path}\")\n",
    "\n",
    "# Crear sesion, operaciones con la base de datos\n",
    "Session = sessionmaker(bind=engine)\n",
    "session = Session()\n",
    "\n",
    "# Crear los modelos para trabajar con tablas\n",
    "Base = declarative_base() # Clase de la que heredan todos los modelos \n",
    "\n",
    "class Personajes (Base):\n",
    "    __tablename__ = 'personaje'\n",
    "\n",
    "    id = Column(Integer, primary_key=True)\n",
    "    nombre = Column(String, nullable=False)\n",
    "    apellido = Column(String,nullable=False)\n",
    "    alias = Column(String,nullable=True)\n",
    "\n",
    "    def __init__ (self,nombre,apellido,alias):\n",
    "        self.nombre = nombre\n",
    "        self.apellido = apellido\n",
    "        self.alias = alias\n",
    "\n",
    "    def imprimir_info (self):\n",
    "        print(f\"Nombre: {self.nombre}, Apellido: {self.apellido}, Alias: {self.alias}\")\n",
    "\n",
    "  \n"
   ]
  },
  {
   "cell_type": "code",
   "execution_count": 3,
   "id": "e95fce70",
   "metadata": {},
   "outputs": [
    {
     "name": "stdout",
     "output_type": "stream",
     "text": [
      "Nombre: Steve, Apellido: Rogers, Alias: Capitán América\n",
      "Nombre: Bucky, Apellido: Barnes, Alias: Soldad de Invierno\n"
     ]
    }
   ],
   "source": [
    "# Creamos la tabla en la bbdd\n",
    "\n",
    "def run():\n",
    "    #Creacion objetos\n",
    "    personaje1 = Personajes(\"Steve\",\"Rogers\",\"Capitán América\")\n",
    "    personaje2 = Personajes(\"Bucky\",\"Barnes\",\"Soldad de Invierno\")\n",
    "\n",
    "    personaje1.imprimir_info()\n",
    "    personaje2.imprimir_info()\n",
    "\n",
    "    session.add(personaje1) # Añadimos el personaje1 a la sesión\n",
    "    session.add(personaje2)\n",
    "\n",
    "    session.commit() #Confirmamos cambios\n",
    "\n",
    "    pass\n",
    "if __name__ == '__main__':\n",
    "    Base.metadata.create_all(engine)\n",
    "    run()\n",
    "\n"
   ]
  },
  {
   "cell_type": "code",
   "execution_count": 5,
   "id": "8ddc747a",
   "metadata": {},
   "outputs": [
    {
     "name": "stdout",
     "output_type": "stream",
     "text": [
      "Nombre: Steve, Apellido: Rogers, Alias: Capitán América\n",
      "Nombre: Bucky, Apellido: Barnes, Alias: Soldad de Invierno\n",
      "Nombre: Steve, Apellido: Rogers, Alias: Capitán América\n",
      "Nombre: Bucky, Apellido: Barnes, Alias: Soldad de Invierno\n",
      "Nombre: Steve, Apellido: Rogers, Alias: Capitán América\n",
      "Nombre: Bucky, Apellido: Barnes, Alias: Soldad de Invierno\n",
      "Nombre: Steve, Apellido: Rogers, Alias: Capitán América\n",
      "Nombre: Bucky, Apellido: Barnes, Alias: Soldad de Invierno\n",
      "Nombre: Steve, Apellido: Rogers, Alias: Capitán América\n",
      "Nombre: Bucky, Apellido: Barnes, Alias: Soldad de Invierno\n",
      "Nombre: Steve, Apellido: Rogers, Alias: Capitán América\n",
      "Nombre: Bucky, Apellido: Barnes, Alias: Soldad de Invierno\n"
     ]
    }
   ],
   "source": [
    "# Consulta a la bbdd\n",
    "\n",
    "consulta = session.query(Personajes)\n",
    "personajes = session.query(Personajes).all()\n",
    "for p in consulta:\n",
    "        p.imprimir_info()\n",
    "\n",
    "\n"
   ]
  }
 ],
 "metadata": {
  "kernelspec": {
   "display_name": "data_analysis_env",
   "language": "python",
   "name": "python3"
  },
  "language_info": {
   "codemirror_mode": {
    "name": "ipython",
    "version": 3
   },
   "file_extension": ".py",
   "mimetype": "text/x-python",
   "name": "python",
   "nbconvert_exporter": "python",
   "pygments_lexer": "ipython3",
   "version": "3.11.11"
  }
 },
 "nbformat": 4,
 "nbformat_minor": 5
}
