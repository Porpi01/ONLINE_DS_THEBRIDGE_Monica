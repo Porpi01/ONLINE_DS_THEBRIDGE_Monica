{
 "cells": [
  {
   "cell_type": "markdown",
   "id": "93d4a8b6-f1e4-4595-b52c-d84239e1b73b",
   "metadata": {},
   "source": [
    "### Ejercicio 6: Listas\n",
    "Crea una lista no ordenada con los siguientes elementos:\n",
    "\n",
    "1. Manzanas\n",
    "2. Plátanos\n",
    "3. Uvas"
   ]
  },
  {
   "cell_type": "markdown",
   "id": "86e25ea8-bb3e-4899-9826-f1fe9c3f74a0",
   "metadata": {},
   "source": [
    "* Manzanas\n",
    "- Plátanos\n",
    "+ Uvas"
   ]
  },
  {
   "cell_type": "markdown",
   "id": "23593987-c597-4aea-8f53-4fe3fcb45c4e",
   "metadata": {},
   "source": [
    "[link text](https://)Crea ahora una lista ordenada de 1 a 3 y que además lo esté alfabéticamente con estos elementos:\n",
    "\n",
    "    * Arbol binario\n",
    "    * Random Forest\n",
    "    * Regresión Logística"
   ]
  },
  {
   "cell_type": "markdown",
   "id": "60dfb7da-3d87-4bf5-8461-a95e9f627faa",
   "metadata": {},
   "source": [
    "1. Árbol binario\n",
    "2. Random Forest\n",
    "3. Regresión logística"
   ]
  },
  {
   "cell_type": "markdown",
   "id": "bbb1711c-3a2b-4b60-99eb-d8915a4b62ec",
   "metadata": {},
   "source": [
    "### Ejercicio 7: Listas Anidadas\n",
    "Bajo el título \"Frutas y Verduras\", crea una lista ordenada de frutas, y dentro de esta, anida una lista no ordenada de tres frutas. Luego, crea otra lista ordenada de verduras y anida dentro de ella una lista no ordenada de tres verduras.\n",
    "\n",
    "Las listas anidadas no las hemos visto pero seguro que con esto te haces una idea, como con los subrayados en los ejercicios de la primera parte:\n",
    "1. El elemento con orden\n",
    "* Aquí sin orden\n",
    "2. El siguiente\n",
    "* Pico\n",
    "* Pala"
   ]
  },
  {
   "cell_type": "markdown",
   "id": "1c759063-659a-45a5-b1a7-e8a5df09a575",
   "metadata": {},
   "source": [
    "## FRUTAS Y VERDURAS\n",
    "1. Cítricos\n",
    "   * Limón\n",
    "   * Naranjas\n",
    "   * Mandarinas\n",
    "\n",
    "2. Dulces\n",
    "\n",
    "   * Papaya\n",
    "   * Higo\n",
    "   * Pera\n",
    "\n",
    "4. Verduras\n",
    "\n",
    "   * Pimiento verde\n",
    "   * Judías\n",
    "   * Acelgas"
   ]
  },
  {
   "cell_type": "markdown",
   "id": "7cabe237-fcc2-45dc-ab23-1f642ea7daf4",
   "metadata": {},
   "source": [
    "### Ejercicio 8: Enlaces e Imágenes\n",
    "Inserta:\n",
    "\n",
    "1. Un enlace que lleve a \"www.thebridge.com\" con el texto \"Por aquí se cruzan puentes\".\n",
    "2. Una imagen de cualquier URL con el texto alternativo \"Logo\". Recuerda que puedes hacerlo referenciando la imagen a través de su ruta en tu ordenador, o bien incrustandola en el notebook\n"
   ]
  },
  {
   "cell_type": "markdown",
   "id": "0407a3ca-6322-4b9d-a165-85681510bfb3",
   "metadata": {},
   "source": [
    "[Por aquí se cruzan puentes] (www.thebridge.com)  \n",
    " \n",
    "![image.png](data:image/png;base64,iVBORw0KGgoAAAANSUhEUgAAACwAAAAuCAYAAABTTPsKAAAAAXNSR0IArs4c6QAAAVVJREFUaAXtmT1uwkAQRn0EjuAjgJeCzpMDpCcdBaL2CUB0tKmiVChXoEnJEXKEdNBgRoAQokATDbYTa7VLJCLHAxpLI+Mf2c/P3y6WJghKCzahgeZhiAbmaADRANVcH6mJn7EJYQkz+4ltADTwWTOgTxCmESTf0Dms72Qx+8/QrFuwWVsWBqsIekJjYMOet4N8gDkPSnwQBr4ZWGZV4KrfmBpWw9akoJHQSGgkLAMaCUuIzhIaibuOxPapT/vR5N9rN0i83+gXB93hdUp1LMfZuwJXKl4NV6qXiNTwzRrePHbp2jotlt7nriwSf/luUGC299s/nRrOU60ZLoa3RuJeI+HtHImcJdJWPPZlUSRw1kx0NxFFAnOzDiNIXJblAcfjn+aiA1oWcAm2oOYm49rEbxhlEakdOOOYc6e2YPSusQPh4WUaEpG3+Jxr69J1+b58XRfcFyIVSYDqQtpBAAAAAElFTkSuQmCC)\n"
   ]
  },
  {
   "cell_type": "markdown",
   "id": "96cd8a2c-e005-440f-8cfd-3440dd24e658",
   "metadata": {},
   "source": [
    "### Ejercicio 9: Líneas Horizontales y Bloques de Código\n",
    "Inserta:\n",
    "\n",
    "1. Un bloque de código en Python que imprima \"Hola Mundo\" (pista: print(\"Hola Mundo\")) entre dos líneas horizontales, cada una creada con un método diferente."
   ]
  },
  {
   "cell_type": "markdown",
   "id": "d9251842-5ca1-4d27-9a1f-c285514709a3",
   "metadata": {},
   "source": [
    "***\n"
   ]
  },
  {
   "cell_type": "code",
   "execution_count": 6,
   "id": "b1362119-6a2b-4d66-90d9-2e9fe6c952dd",
   "metadata": {},
   "outputs": [
    {
     "name": "stdout",
     "output_type": "stream",
     "text": [
      "Hola Mundo\n"
     ]
    }
   ],
   "source": [
    "\n",
    "print(\"Hola Mundo\")\n"
   ]
  },
  {
   "cell_type": "markdown",
   "id": "74de9a04-aa13-4450-a6b1-2b2881301d2a",
   "metadata": {},
   "source": [
    "---"
   ]
  },
  {
   "cell_type": "code",
   "execution_count": null,
   "id": "253052ac-a221-489d-8b64-c156bb8e8cd1",
   "metadata": {},
   "outputs": [],
   "source": []
  }
 ],
 "metadata": {
  "kernelspec": {
   "display_name": "Python 3 (ipykernel)",
   "language": "python",
   "name": "python3"
  },
  "language_info": {
   "codemirror_mode": {
    "name": "ipython",
    "version": 3
   },
   "file_extension": ".py",
   "mimetype": "text/x-python",
   "name": "python",
   "nbconvert_exporter": "python",
   "pygments_lexer": "ipython3",
   "version": "3.13.2"
  }
 },
 "nbformat": 4,
 "nbformat_minor": 5
}
