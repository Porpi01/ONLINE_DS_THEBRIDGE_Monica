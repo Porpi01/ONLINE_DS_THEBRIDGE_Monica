{
 "cells": [
  {
   "cell_type": "code",
   "execution_count": 1,
   "id": "715c565d-2c58-4aca-a477-d79c3426dc89",
   "metadata": {},
   "outputs": [
    {
     "name": "stdout",
     "output_type": "stream",
     "text": [
      "Hola Mundo\n"
     ]
    }
   ],
   "source": [
    "print(\"Hola Mundo\")"
   ]
  },
  {
   "cell_type": "markdown",
   "id": "472b027f-5b43-4e44-b4de-60e623b1e429",
   "metadata": {},
   "source": [
    "Hola Mundo"
   ]
  },
  {
   "cell_type": "markdown",
   "id": "476a325e-779f-4079-a585-483a44d0c776",
   "metadata": {},
   "source": [
    "# Mis primeros pasos con Markdown..."
   ]
  },
  {
   "cell_type": "code",
   "execution_count": null,
   "id": "c8b77289-5c53-4226-92de-5e7d99bdb187",
   "metadata": {},
   "outputs": [],
   "source": []
  }
 ],
 "metadata": {
  "kernelspec": {
   "display_name": "Python 3 (ipykernel)",
   "language": "python",
   "name": "python3"
  },
  "language_info": {
   "codemirror_mode": {
    "name": "ipython",
    "version": 3
   },
   "file_extension": ".py",
   "mimetype": "text/x-python",
   "name": "python",
   "nbconvert_exporter": "python",
   "pygments_lexer": "ipython3",
   "version": "3.13.2"
  }
 },
 "nbformat": 4,
 "nbformat_minor": 5
}
