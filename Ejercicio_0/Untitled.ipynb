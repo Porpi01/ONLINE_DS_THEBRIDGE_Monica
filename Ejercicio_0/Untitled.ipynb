{
 "cells": [
  {
   "cell_type": "code",
   "execution_count": 7,
   "id": "6e5534a9-a8c5-4d8f-9b94-99de3c0959c6",
   "metadata": {},
   "outputs": [],
   "source": [
    "ingresos=500\n",
    "gastos = 300"
   ]
  },
  {
   "cell_type": "code",
   "execution_count": 2,
   "id": "94e15901-f9cf-4e32-af2a-d25742378957",
   "metadata": {},
   "outputs": [
    {
     "data": {
      "text/plain": [
       "500"
      ]
     },
     "execution_count": 2,
     "metadata": {},
     "output_type": "execute_result"
    }
   ],
   "source": [
    "ingresos"
   ]
  },
  {
   "cell_type": "code",
   "execution_count": 10,
   "id": "1c45b634-717b-405e-853f-1c7b72d078ca",
   "metadata": {},
   "outputs": [
    {
     "name": "stdout",
     "output_type": "stream",
     "text": [
      "500 300\n"
     ]
    }
   ],
   "source": [
    "print(ingresos,  gastos)"
   ]
  },
  {
   "cell_type": "code",
   "execution_count": 5,
   "id": "fa5e6d50-d0fb-4623-ba00-95fbdf04048c",
   "metadata": {},
   "outputs": [
    {
     "name": "stdout",
     "output_type": "stream",
     "text": [
      "Amigos del corazon\n"
     ]
    }
   ],
   "source": [
    "print(\"Amigos del corazon\")"
   ]
  },
  {
   "cell_type": "code",
   "execution_count": 11,
   "id": "6685734a-f84d-4d49-8cba-3e601d18d0c1",
   "metadata": {},
   "outputs": [],
   "source": [
    "margen = ingresos - gastos"
   ]
  },
  {
   "cell_type": "code",
   "execution_count": 12,
   "id": "14cc8079-571c-402d-be9e-3ca81a89eada",
   "metadata": {},
   "outputs": [
    {
     "name": "stdout",
     "output_type": "stream",
     "text": [
      "200\n"
     ]
    }
   ],
   "source": [
    "print(margen)"
   ]
  },
  {
   "cell_type": "code",
   "execution_count": 14,
   "id": "26828be0-5081-4d2f-a866-c3645fe8c975",
   "metadata": {},
   "outputs": [
    {
     "name": "stdout",
     "output_type": "stream",
     "text": [
      "El valor de margen es 200\n"
     ]
    }
   ],
   "source": [
    "print(\"El valor de margen es\", ingresos - gastos)"
   ]
  },
  {
   "cell_type": "code",
   "execution_count": null,
   "id": "100579dd-99ca-46c9-8323-303a726a560e",
   "metadata": {},
   "outputs": [],
   "source": []
  }
 ],
 "metadata": {
  "kernelspec": {
   "display_name": "Python 3 (ipykernel)",
   "language": "python",
   "name": "python3"
  },
  "language_info": {
   "codemirror_mode": {
    "name": "ipython",
    "version": 3
   },
   "file_extension": ".py",
   "mimetype": "text/x-python",
   "name": "python",
   "nbconvert_exporter": "python",
   "pygments_lexer": "ipython3",
   "version": "3.13.2"
  }
 },
 "nbformat": 4,
 "nbformat_minor": 5
}
