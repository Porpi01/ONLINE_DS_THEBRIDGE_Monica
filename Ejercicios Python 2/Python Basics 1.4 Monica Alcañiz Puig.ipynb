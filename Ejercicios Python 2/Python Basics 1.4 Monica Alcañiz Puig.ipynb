{
 "cells": [
  {
   "cell_type": "markdown",
   "id": "4573be9b-f136-486d-ba6f-9c96b47572ae",
   "metadata": {},
   "source": [
    "## EJERCICIOS PYTHON BASICO 4: \n",
    "## Funciones, métodos, listas"
   ]
  },
  {
   "cell_type": "markdown",
   "id": "fda516c2-4c3a-4dc8-a121-f6f761185d2b",
   "metadata": {},
   "source": [
    "## Ejercicio 1\n",
    "Para este ejercicio vamos a poner en práctica [las funciones built in](https://docs.python.org/3/library/functions.html).\n",
    "\n",
    "1. Calcula el máximo de la lista: [4, 6, 8, -1]\n",
    "2. Suma todos los elementos de la lista anterior\n",
    "3. Redondea este float a 3 dígitos decimales: 63.451256965\n",
    "4. Valor absoluto de: -74"
   ]
  },
  {
   "cell_type": "code",
   "execution_count": 6,
   "id": "bc76d10f-6b40-4f2b-b5e4-d5eb7280ff60",
   "metadata": {},
   "outputs": [
    {
     "name": "stdout",
     "output_type": "stream",
     "text": [
      "El número máximo es  8\n",
      "La suma total es  17\n",
      "El número redondeado es  63.451\n",
      "El valor absoluto de -74 es  74\n"
     ]
    }
   ],
   "source": [
    "lista_numeros = [4,6,8,-1]\n",
    "\n",
    "numero_maximo = max(lista_numeros)\n",
    "print(\"El número máximo es \",numero_maximo)\n",
    "\n",
    "suma_total = sum(lista_numeros)\n",
    "print(\"La suma total es \",suma_total)\n",
    "\n",
    "numero_float =  63.451256965\n",
    "\n",
    "numero_redondeado = round(numero_float,3)\n",
    "print(\"El número redondeado es \",numero_redondeado)\n",
    "\n",
    "numero = -74\n",
    "\n",
    "valor_absoluto = abs(numero)\n",
    "print(\"El valor absoluto de -74 es \",valor_absoluto)"
   ]
  },
  {
   "cell_type": "markdown",
   "id": "4e0e4b44-7ca8-4afe-85bf-c0b466e5618e",
   "metadata": {},
   "source": [
    "## Ejercicio 2\n",
    "Para el siguiente string se pide imprimir por pantalla los siguientes casos\n",
    "\n",
    "    \"En un lugar de la Mancha, de cuyo nombre no quiero acordarme.\"\n",
    "\n",
    "1. Pásalo todo a mayúsculas\n",
    "2. Pásalo todo a minúsculas\n",
    "3. Solo la primera letra de cada palabra en mayúscula, el resto en minúscula\n",
    "4. Crea una lista dividiéndolo por sus espacios\n",
    "5. Sustituye las comas `,` por puntos y comas `;`\n",
    "6. Elimina las `a` minúsculas"
   ]
  },
  {
   "cell_type": "code",
   "execution_count": 17,
   "id": "94ad7add-91a7-4bb2-92e3-a9c8efa84171",
   "metadata": {},
   "outputs": [
    {
     "name": "stdout",
     "output_type": "stream",
     "text": [
      "EN UN LUGAR DE LA MANCHA, DE CUYO NOMBRE NO QUIERO ACORDARME.\n",
      "en un lugar de la mancha, de cuyo nombre no quiero acordarme.\n",
      "En Un Lugar De La Mancha, De Cuyo Nombre No Quiero Acordarme.\n",
      "['En', 'un', 'lugar', 'de', 'la', 'Mancha,', 'de', 'cuyo', 'nombre', 'no', 'quiero', 'acordarme.']\n",
      "En un lugar de la Mancha; de cuyo nombre no quiero acordarme.\n",
      "En un lugr de l Mnch, de cuyo nombre no quiero cordrme.\n"
     ]
    }
   ],
   "source": [
    "don_quijote = \"En un lugar de la Mancha, de cuyo nombre no quiero acordarme.\"\n",
    "\n",
    "print(don_quijote.upper())\n",
    "print(don_quijote.lower())\n",
    "print(don_quijote.title())\n",
    "print(don_quijote.split())\n",
    "print(don_quijote.replace(\",\",\";\"))\n",
    "print(don_quijote.replace(\"a\",\"\"))\n"
   ]
  },
  {
   "cell_type": "markdown",
   "id": "a2539450-e33c-4dbd-a866-4902308384a4",
   "metadata": {},
   "source": [
    "## Ejercicio 3\n",
    "1. Crea una lista con 3 elementos numéricos\n",
    "2. Añade un cuarto elemento\n",
    "3. Calcula la suma de todos\n",
    "4. Elimina el segundo elemento de la lista\n",
    "5. Añade otro elemento en la posicion 3 de la lista\n",
    "6. Crea otra lista con 4 elementos y concaténala a la que ya tenías.\n",
    "7. Ordena la lista de menor a mayor.\n",
    "8. BONUS: Ordena la lista de mayor a menor.  \n",
    "(*PISTA: Para hacer 8, tendrás que buscar en la información del método...*)  \n",
    "  \n",
    "  \n",
    "NOTA: Pinta por pantalla el resultado de cada paso."
   ]
  },
  {
   "cell_type": "code",
   "execution_count": 29,
   "id": "56885227-375e-42c4-9fbb-d863476a7fce",
   "metadata": {},
   "outputs": [
    {
     "name": "stdout",
     "output_type": "stream",
     "text": [
      "Añade un cuarto elemento  [5, 10, 15, 20]\n",
      "La suma total es:  50\n",
      "Elimina el segundo elemento de la lista  [5, 10, 20]\n",
      "Añade otro elemento en la posicion 3 de la lista  [5, 10, 20, 85]\n",
      "Crea otra lista con 4 elementos y concaténala a la que ya tenías.  [5, 10, 20, 85, 35, 54, 66, 85]\n",
      "Lista ordenada  [5, 10, 20, 35, 54, 66, 85, 85]\n",
      "[85, 85, 66, 54, 35, 20, 10, 5]\n"
     ]
    }
   ],
   "source": [
    "lista_numeros = [5,10,15]\n",
    "\n",
    "lista_numeros.append(20)\n",
    "print(\"Añade un cuarto elemento \",lista_numeros)\n",
    "\n",
    "suma_total = sum(lista_numeros)\n",
    "print(\"La suma total es: \",suma_total)\n",
    "\n",
    "lista_numeros.pop(2)\n",
    "print(\"Elimina el segundo elemento de la lista \", lista_numeros)\n",
    "\n",
    "lista_numeros.insert(3,85)\n",
    "print(\"Añade otro elemento en la posicion 3 de la lista \", lista_numeros)\n",
    "\n",
    "lista_peso = [35,54,66,85]\n",
    "listas_concatenadas = lista_numeros + lista_peso\n",
    "print(\"Crea otra lista con 4 elementos y concaténala a la que ya tenías. \",listas_concatenadas)\n",
    "\n",
    "listas_concatenadas.sort()\n",
    "print(\"Lista ordenada \",listas_concatenadas)\n",
    "\n",
    "listas_concatenadas.sort(reverse=True)\n",
    "print(listas_concatenadas)\n"
   ]
  }
 ],
 "metadata": {
  "kernelspec": {
   "display_name": "Python 3 (ipykernel)",
   "language": "python",
   "name": "python3"
  },
  "language_info": {
   "codemirror_mode": {
    "name": "ipython",
    "version": 3
   },
   "file_extension": ".py",
   "mimetype": "text/x-python",
   "name": "python",
   "nbconvert_exporter": "python",
   "pygments_lexer": "ipython3",
   "version": "3.13.2"
  }
 },
 "nbformat": 4,
 "nbformat_minor": 5
}
