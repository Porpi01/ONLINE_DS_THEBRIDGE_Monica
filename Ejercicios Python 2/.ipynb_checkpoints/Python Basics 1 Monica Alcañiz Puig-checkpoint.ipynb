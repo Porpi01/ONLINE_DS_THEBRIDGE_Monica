{
 "cells": [
  {
   "cell_type": "markdown",
   "id": "29cc0a37-13e7-4e03-a5a1-803ae2f3e621",
   "metadata": {},
   "source": [
    "## PRACTICA OBLIGATORIA: PYTHON"
   ]
  },
  {
   "cell_type": "markdown",
   "id": "151c450d-be1a-4a7b-a320-9b399fd1fc3e",
   "metadata": {},
   "source": [
    "En este ejercicio debes simular un chatbot al que le haremos pedidos de pizzas.\n",
    "\n",
    "1. El chatbot tiene que saludar con un: \"Buenas tardes, bienvenido al servicio de pedido online, el precio de nuestra pizzas es de 8,95 para la familiar o de 9,90 para la mediana ¿Cuántas pizzas  familiares desea?\"\n",
    "2. El ususario tiene que introducir un número de pizzas en una variable llamada 'pizz_familiar'\n",
    "3. El chatbot debe responder: \"Estupendo, ¿cuántas pizzas medianas desea?\" y guardar el número de pizzas medianas en otra variable 'pizz_mediana'\n",
    "4. Además debe responder del chatbot: \"Estupendo, se están preparando 'pizz' pizzas familiares y 'pizz_mediana' pizzas medianas. Digame su dirección\"\n",
    "5. El ususario tiene que introducir una direccion en formato String en otra variable llamada 'direcc'\n",
    "6. El programa debe calcular el monto total\n",
    "7. Respuesta final del chatbot: \"Le mandaremos las '(número total de pizzas)' pizzas a la dirección 'direcc'. Serán <precio total a pagar en euros>. Muchas gracias por su pedido.\""
   ]
  },
  {
   "cell_type": "code",
   "execution_count": null,
   "id": "268006d6-e6d8-4609-80fe-1a327c1ab7a5",
   "metadata": {},
   "outputs": [],
   "source": [
    "precio_pizza_familiar = 8.95\n",
    "precio_pizza_mediana = 9.90\n",
    "\n",
    "pizz_familiar = int(input(\"Buenas tardes, bienvenido al servicio de pedido online, el precio de nuestra pizzas es de 8,95 para la familiar o de 9,90 para la mediana ¿Cuántas pizzas familiares desea?\"))\n",
    "print(pizz_familiar)\n",
    "pizz_mediana = int(input(\"Estupendo, ¿cuántas pizzas medianas desea?\"))\n",
    "print(pizz_mediana)\n",
    "direcc = input( \"Estupendo, se están preparando \",pizz_familiar,  \"pizzas familiares y \", pizz_mediana, \"pizzas medianas. Digame su dirección\")\n",
    "print(direcc)\n",
    "\n",
    "precio_total = precio_pizza_familiar*pizz_familiar + precio_pizza_mediana*pizz_mediana\n",
    "print(precio_total)\n",
    "numero_total_pizzas = pizz_familiar + pizz_mediana\n",
    "print(numero_total_pizzas)\n",
    "print(\"Le mandaremos las \",numero_total_pizzas, \"pizzas a la dirección \",direcc,\". Serán \",precio_total, \"Muchas gracias por su pedido.\"\n"
   ]
  },
  {
   "cell_type": "code",
   "execution_count": null,
   "id": "453d2c26-5d6f-4611-b26d-a4df5a976dd3",
   "metadata": {},
   "outputs": [],
   "source": []
  },
  {
   "cell_type": "code",
   "execution_count": null,
   "id": "7bd88a70-ee58-4ddf-a944-8f45bc455f37",
   "metadata": {},
   "outputs": [],
   "source": []
  },
  {
   "cell_type": "markdown",
   "id": "6827aabe-391b-4c92-8743-26c322e3ba7b",
   "metadata": {},
   "source": [
    "## Parte II\n",
    "\n",
    "Crea un programa que realice las siguientes acciones:\n",
    "\n",
    "1. Solicite al usuario que introduzca 3 números enteros separados por comas (por ejemplo: 1,2,3).\n",
    "2. Convierta esa entrada en una lista de números enteros.\n",
    "3. Utilizando funciones built-in, determine el número máximo, el número mínimo y la suma total de los números introducidos.\n",
    "4. Determine la verdad o falsedad de la siguiente afirmación: \"El número máximo menos el número mínimo es igual a la suma total dividida por 5\".\n",
    "5. Muestre los resultados utilizando print."
   ]
  },
  {
   "cell_type": "code",
   "execution_count": null,
   "id": "495c41e5-1254-43dd-8022-96497a07296d",
   "metadata": {},
   "outputs": [],
   "source": []
  },
  {
   "cell_type": "code",
   "execution_count": null,
   "id": "ee300165-bf83-40a2-b7ef-2d6a8ac7203d",
   "metadata": {},
   "outputs": [],
   "source": []
  },
  {
   "cell_type": "code",
   "execution_count": null,
   "id": "f7990dff-a78c-4ec9-a63e-1c6d36eb4f8f",
   "metadata": {},
   "outputs": [],
   "source": []
  },
  {
   "cell_type": "code",
   "execution_count": null,
   "id": "3187db46-66b2-4b53-a002-9683cf56734a",
   "metadata": {},
   "outputs": [],
   "source": []
  }
 ],
 "metadata": {
  "kernelspec": {
   "display_name": "Python 3 (ipykernel)",
   "language": "python",
   "name": "python3"
  },
  "language_info": {
   "codemirror_mode": {
    "name": "ipython",
    "version": 3
   },
   "file_extension": ".py",
   "mimetype": "text/x-python",
   "name": "python",
   "nbconvert_exporter": "python",
   "pygments_lexer": "ipython3",
   "version": "3.13.2"
  }
 },
 "nbformat": 4,
 "nbformat_minor": 5
}
