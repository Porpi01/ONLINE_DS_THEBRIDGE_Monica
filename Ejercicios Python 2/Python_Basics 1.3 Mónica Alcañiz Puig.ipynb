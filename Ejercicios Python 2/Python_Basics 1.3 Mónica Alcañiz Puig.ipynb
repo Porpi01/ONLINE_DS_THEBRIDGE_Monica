{
 "cells": [
  {
   "cell_type": "markdown",
   "id": "d4a894ce-3b78-4903-9d8c-05f6a281fc67",
   "metadata": {},
   "source": [
    "## EJERCICIOS PYTHON BASICO 3: \n",
    "## Operaciones matemáticas, comparación y booleanas"
   ]
  },
  {
   "cell_type": "markdown",
   "id": "f5afc929-507c-4c5f-879c-64d085b29b79",
   "metadata": {},
   "source": [
    "## Ejercicio 1\n",
    "Tenemos las siguientes variables:\n",
    "\n",
    "```Python\n",
    "A = 4\n",
    "B = \"Text\"\n",
    "C = 4.1\n",
    "```\n",
    "\n",
    "Comprueba:\n",
    "1. Si A y B son equivalentes\n",
    "2. Si A y C NO son equivalentes\n",
    "3. Si A es mayor que C \n",
    "4. Si C es menor o igual que A\n",
    "5. Si B NO es equivalente a C"
   ]
  },
  {
   "cell_type": "code",
   "execution_count": 4,
   "id": "ba100d8c-417f-4c43-a674-191d5a8fbea0",
   "metadata": {},
   "outputs": [
    {
     "name": "stdout",
     "output_type": "stream",
     "text": [
      "A y B son equivalentes  False\n",
      "A y C no son equivalentes  True\n",
      "A es mayor que C  False\n",
      "C es menor o igual que A  False\n",
      "B no es equivalente a C  True\n"
     ]
    }
   ],
   "source": [
    "A = 4\n",
    "B = \"Text\"\n",
    "C = 4.1\n",
    "\n",
    "condicion_1 = (A == B)\n",
    "print(\"A y B son equivalentes \",condicion_1)\n",
    "\n",
    "condicion_2 = (A != C)\n",
    "print(\"A y C no son equivalentes \",condicion_2)\n",
    "\n",
    "condicion_3 = (A > C)\n",
    "print(\"A es mayor que C \",condicion_3)\n",
    "\n",
    "condicion_4 = (C <= A)\n",
    "print(\"C es menor o igual que A \",condicion_4)\n",
    "\n",
    "condicion_5 = (B != C )\n",
    "print(\"B no es equivalente a C \",condicion_5)\n"
   ]
  },
  {
   "cell_type": "markdown",
   "id": "ee956072-0e02-4784-995d-c3e13bb86a3e",
   "metadata": {},
   "source": [
    "## Ejercicio 2\n",
    "Crea un programa donde se recojan dos inputs del usuario, y el output del programa sea si esos inputs son iguales o no"
   ]
  },
  {
   "cell_type": "code",
   "execution_count": 6,
   "id": "576492fe-05c2-44a0-a4b4-84949cb11f53",
   "metadata": {},
   "outputs": [
    {
     "name": "stdin",
     "output_type": "stream",
     "text": [
      "¿Cómo se llama? Monica\n",
      "¿Cuántos años tienes? 23\n"
     ]
    },
    {
     "name": "stdout",
     "output_type": "stream",
     "text": [
      "False\n"
     ]
    }
   ],
   "source": [
    "nombre = input(\"¿Cómo se llama?\")\n",
    "edad = input(\"¿Cuántos años tienes?\")\n",
    "\n",
    "condicion_inputs = (nombre == edad)\n",
    "print(condicion_inputs)\n"
   ]
  },
  {
   "cell_type": "markdown",
   "id": "b6c0deb6-3693-4369-9496-ea2e13ac8702",
   "metadata": {},
   "source": [
    "## Ejercicio 3\n",
    "Mismo programa que en 2, pero en esta ocasión tienen que ser tres inputs y dos salidas. Una de las salidas que nos indique si todos son iguales, y la otra si al menos dos inputs sí que lo son"
   ]
  },
  {
   "cell_type": "code",
   "execution_count": 8,
   "id": "5c4df927-35a5-4764-9326-c1b660f0bc2e",
   "metadata": {},
   "outputs": [
    {
     "name": "stdin",
     "output_type": "stream",
     "text": [
      "¿Cómo se llama? Monica\n",
      "¿Cuántos años tienes? 35\n",
      "¿Cuánto mides? 35\n"
     ]
    },
    {
     "name": "stdout",
     "output_type": "stream",
     "text": [
      "False\n",
      "True\n"
     ]
    }
   ],
   "source": [
    "nombre = input(\"¿Cómo se llama?\")\n",
    "edad = input(\"¿Cuántos años tienes?\")\n",
    "altura = input(\"¿Cuánto mides?\")\n",
    "\n",
    "condicion_inputs_1 = (nombre == edad == altura)\n",
    "print(condicion_inputs_1)\n",
    "condicion_inputs_2 = (nombre == edad or nombre == altura or edad == altura)\n",
    "print(condicion_inputs_2)"
   ]
  },
  {
   "cell_type": "markdown",
   "id": "9f764f37-776f-442a-be73-e91c3b250391",
   "metadata": {},
   "source": [
    "## Ejercicio 4\n",
    "Razona sin ejecutar código el output que obtendremos de las siguientes sentencias\n",
    "1. True and True and False\n",
    "2. not ((True or False) and (True or False))\n",
    "3. (False or False or False or True) and False\n",
    "4. not False and True and not True"
   ]
  },
  {
   "cell_type": "markdown",
   "id": "c60b7f55-0d05-4b89-9b3e-5864ada721bd",
   "metadata": {},
   "source": [
    "1. El output va a ser false porque and solo devuelve True si todas las condiciones son True si al menos una es False devuelve False\n",
    "   True and True = True\n",
    "   True and False = False\n",
    "\n",
    "2. El output va a ser false porque or devuelve True y not invierte el resultado\n",
    "   True or False = True\n",
    "   True and True = True\n",
    "   not True = False\n",
    "3. El output va a ser false el operador or devuelve true pero true and false es igual a false porque una de las condiciones es falsa\n",
    "   False or False  = False\n",
    "   False or False = False\n",
    "   False or True = True\n",
    "   True and False = False\n",
    "4. El output va a ser false\n",
    "   not False = True\n",
    "   True and True = True\n",
    "   True and not True (False) = False"
   ]
  },
  {
   "cell_type": "code",
   "execution_count": null,
   "id": "c425f540-b385-4cb9-961c-51d330492e34",
   "metadata": {},
   "outputs": [],
   "source": []
  }
 ],
 "metadata": {
  "kernelspec": {
   "display_name": "Python 3 (ipykernel)",
   "language": "python",
   "name": "python3"
  },
  "language_info": {
   "codemirror_mode": {
    "name": "ipython",
    "version": 3
   },
   "file_extension": ".py",
   "mimetype": "text/x-python",
   "name": "python",
   "nbconvert_exporter": "python",
   "pygments_lexer": "ipython3",
   "version": "3.13.2"
  }
 },
 "nbformat": 4,
 "nbformat_minor": 5
}
