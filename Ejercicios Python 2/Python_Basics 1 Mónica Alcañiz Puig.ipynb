{
 "cells": [
  {
   "cell_type": "markdown",
   "id": "2d4dc91b-23b9-47e6-9e63-d663cca2d581",
   "metadata": {},
   "source": [
    "## EJERCICIOS PYTHON BASICO 2:\n",
    "## Tipos y conversión de tipos\n"
   ]
  },
  {
   "cell_type": "markdown",
   "id": "bff3cb51-4f21-4405-9185-52a7148ec355",
   "metadata": {},
   "source": [
    "## Ejercicio 1\n",
    "\n",
    "1. Crea dos variables numericas: un `int` y un `float`\n",
    "2. Comprueba sus tipos\n",
    "3. Sumalas en otra nueva\n",
    "4. ¿De qué tipo es la nueva variable?\n",
    "5. Elimina las dos primeras variables creadas"
   ]
  },
  {
   "cell_type": "code",
   "execution_count": 8,
   "id": "261e901b-31c4-4d59-9267-61b354308592",
   "metadata": {},
   "outputs": [
    {
     "name": "stdout",
     "output_type": "stream",
     "text": [
      "<class 'float'>\n",
      "<class 'int'>\n",
      "La suma es  325.3\n",
      "<class 'float'>\n"
     ]
    }
   ],
   "source": [
    "ancho_mesa = 155.3\n",
    "longitud_mesa = 170\n",
    "\n",
    "print(type(ancho_mesa))\n",
    "print(type(longitud_mesa))\n",
    "\n",
    "medidas_mesa = ancho_mesa + longitud_mesa\n",
    "print(\"La suma es \", medidas_mesa)\n",
    "print(type(medidas_mesa))\n"
   ]
  },
  {
   "cell_type": "code",
   "execution_count": 9,
   "id": "4287f394-d357-458d-89dc-dfd19f47e9d0",
   "metadata": {},
   "outputs": [],
   "source": [
    "del(ancho_mesa)\n",
    "del(longitud_mesa)"
   ]
  },
  {
   "cell_type": "markdown",
   "id": "ae1fa13a-ea39-4f57-90f7-720d0c13d05e",
   "metadata": {},
   "source": [
    "## Ejercicio 2\n",
    "Escribe un programa para pasar de grados a radianes. Hay que usar `input`. Recuerda que la conversión se realiza mediante\n",
    "\n",
    "radianes = grados*(pi/180)\n"
   ]
  },
  {
   "cell_type": "code",
   "execution_count": 30,
   "id": "99f736b6-9124-46ac-994c-2275a7e73970",
   "metadata": {},
   "outputs": [
    {
     "name": "stdin",
     "output_type": "stream",
     "text": [
      "¿Cuántos grados hacen hoy en Valencia? 33\n"
     ]
    },
    {
     "name": "stdout",
     "output_type": "stream",
     "text": [
      "Los radianes de  33 son  0.5759586531581288\n"
     ]
    }
   ],
   "source": [
    "import math\n",
    "\n",
    "pregunta_grados = input(\"¿Cuántos grados hacen hoy en Valencia?\")\n",
    "grados = int(pregunta_grados)\n",
    "radianes = grados*(math.pi/180)\n",
    "print(\"Los radianes de \",grados, \"son \",radianes)"
   ]
  },
  {
   "cell_type": "markdown",
   "id": "04e1ea9a-e079-456d-8042-eb8f3f35fae0",
   "metadata": {},
   "source": [
    "## Ejercicio 3\n",
    "Escribe un programa que calcule el area de un paralelogramo (base x altura). También con `input`"
   ]
  },
  {
   "cell_type": "code",
   "execution_count": 31,
   "id": "ab895796-b6e2-425f-838c-c9cc837e255c",
   "metadata": {},
   "outputs": [
    {
     "name": "stdin",
     "output_type": "stream",
     "text": [
      "¿Cuánto mide la base? 21\n",
      "¿Cuánto mide la altura? 12\n"
     ]
    },
    {
     "name": "stdout",
     "output_type": "stream",
     "text": [
      "El area del paralelogramo es  252\n"
     ]
    }
   ],
   "source": [
    "base = int(input(\"¿Cuánto mide la base?\"))\n",
    "altura = int(input(\"¿Cuánto mide la altura?\"))\n",
    "\n",
    "area_paralelogramo = base*altura\n",
    "print(\"El area del paralelogramo es \",area_paralelogramo)"
   ]
  },
  {
   "cell_type": "markdown",
   "id": "c049f919-7fbd-4c08-a5d9-f684f383abcd",
   "metadata": {},
   "source": [
    "## Ejercicio 4\n",
    "Escribe un programa que calcule el area de un paralelogramo (base x altura). También con `input`. En este caso debe ser capaz de admitir valores reales, con decimales, para base y altura en español. (PISTA: Recuerda que tendrás que hacer uso del método replace)"
   ]
  },
  {
   "cell_type": "code",
   "execution_count": 32,
   "id": "b507dd45-35f7-47de-ad08-a77b5a7d845b",
   "metadata": {},
   "outputs": [
    {
     "name": "stdin",
     "output_type": "stream",
     "text": [
      "¿Cuánto mide la base? 23,2\n",
      "¿Cuánto mide la altura? 20,1\n"
     ]
    },
    {
     "name": "stdout",
     "output_type": "stream",
     "text": [
      "El area del paralelogramo es  466.32\n"
     ]
    }
   ],
   "source": [
    "base = input(\"¿Cuánto mide la base?\")\n",
    "altura = input(\"¿Cuánto mide la altura?\")\n",
    "\n",
    "base = float(base.replace(\",\", \".\"))\n",
    "altura = float(altura.replace(\",\", \".\"))\n",
    "\n",
    "area_paralelogramo = base*altura\n",
    "print(\"El area del paralelogramo es \",area_paralelogramo)"
   ]
  },
  {
   "cell_type": "markdown",
   "id": "02e46251-49f3-450f-a77b-b57bfffe256b",
   "metadata": {},
   "source": [
    "## Ejercicio 5\n",
    "Complete el siguiente código para solicitar al usuario su nombre y su edad. Luego, calcule en qué año nació el usuario y muestre el resultado."
   ]
  },
  {
   "cell_type": "code",
   "execution_count": 29,
   "id": "793041fb-ffeb-4e10-965f-c88c99f3d810",
   "metadata": {},
   "outputs": [
    {
     "name": "stdin",
     "output_type": "stream",
     "text": [
      "¿Cuál es su nombre? Monica\n",
      "¿Cuál es su edad? 23\n"
     ]
    },
    {
     "name": "stdout",
     "output_type": "stream",
     "text": [
      "Su año de nacimiento es  2001\n"
     ]
    }
   ],
   "source": [
    "\n",
    "nombre = input(\"¿Cuál es su nombre?\")\n",
    "edad = int(input(\"¿Cuál es su edad?\"))\n",
    "año_actual = 2024\n",
    "año_nacimiento = año_actual - edad\n",
    "print(\"Su año de nacimiento es \" ,año_nacimiento)\n"
   ]
  }
 ],
 "metadata": {
  "kernelspec": {
   "display_name": "Python 3 (ipykernel)",
   "language": "python",
   "name": "python3"
  },
  "language_info": {
   "codemirror_mode": {
    "name": "ipython",
    "version": 3
   },
   "file_extension": ".py",
   "mimetype": "text/x-python",
   "name": "python",
   "nbconvert_exporter": "python",
   "pygments_lexer": "ipython3",
   "version": "3.13.2"
  }
 },
 "nbformat": 4,
 "nbformat_minor": 5
}
