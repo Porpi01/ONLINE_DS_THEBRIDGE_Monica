{
 "cells": [
  {
   "cell_type": "markdown",
   "id": "29cc0a37-13e7-4e03-a5a1-803ae2f3e621",
   "metadata": {},
   "source": [
    "## PRACTICA OBLIGATORIA: PYTHON"
   ]
  },
  {
   "cell_type": "markdown",
   "id": "151c450d-be1a-4a7b-a320-9b399fd1fc3e",
   "metadata": {},
   "source": [
    "En este ejercicio debes simular un chatbot al que le haremos pedidos de pizzas.\n",
    "\n",
    "1. El chatbot tiene que saludar con un: \"Buenas tardes, bienvenido al servicio de pedido online, el precio de nuestra pizzas es de 8,95 para la familiar o de 9,90 para la mediana ¿Cuántas pizzas  familiares desea?\"\n",
    "2. El ususario tiene que introducir un número de pizzas en una variable llamada 'pizz_familiar'\n",
    "3. El chatbot debe responder: \"Estupendo, ¿cuántas pizzas medianas desea?\" y guardar el número de pizzas medianas en otra variable 'pizz_mediana'\n",
    "4. Además debe responder del chatbot: \"Estupendo, se están preparando 'pizz' pizzas familiares y 'pizz_mediana' pizzas medianas. Digame su dirección\"\n",
    "5. El ususario tiene que introducir una direccion en formato String en otra variable llamada 'direcc'\n",
    "6. El programa debe calcular el monto total\n",
    "7. Respuesta final del chatbot: \"Le mandaremos las '(número total de pizzas)' pizzas a la dirección 'direcc'. Serán <precio total a pagar en euros>. Muchas gracias por su pedido.\""
   ]
  },
  {
   "cell_type": "code",
   "execution_count": 8,
   "id": "268006d6-e6d8-4609-80fe-1a327c1ab7a5",
   "metadata": {},
   "outputs": [
    {
     "name": "stdin",
     "output_type": "stream",
     "text": [
      "Buenas tardes, bienvenido al servicio de pedido online, el precio de nuestra pizzas es de 8,95 para la familiar o de 9,90 para la mediana ¿Cuántas pizzas familiares desea? 3\n",
      "Estupendo, ¿cuántas pizzas medianas desea? 3\n"
     ]
    },
    {
     "name": "stdout",
     "output_type": "stream",
     "text": [
      "Estupendo, se están preparando  3 pizzas familiares y  3 pizzas medianas.\n"
     ]
    },
    {
     "name": "stdin",
     "output_type": "stream",
     "text": [
      "Digame su dirección wee\n"
     ]
    },
    {
     "name": "stdout",
     "output_type": "stream",
     "text": [
      "Le mandaremos las  6 pizzas a la dirección  wee . Serán  56.55 muchas gracias por su pedido.\n"
     ]
    }
   ],
   "source": [
    "precio_pizza_familiar = 8.95\n",
    "precio_pizza_mediana = 9.90\n",
    "\n",
    "pizz_familiar = int(input(\"Buenas tardes, bienvenido al servicio de pedido online, el precio de nuestra pizzas es de 8,95 para la familiar o de 9,90 para la mediana ¿Cuántas pizzas familiares desea?\"))\n",
    "pizz_mediana = int(input(\"Estupendo, ¿cuántas pizzas medianas desea?\"))\n",
    "print(\"Estupendo, se están preparando \",pizz_familiar,\"pizzas familiares y \",pizz_mediana,\"pizzas medianas.\")\n",
    "direcc = input(\"Digame su dirección\")\n",
    "\n",
    "\n",
    "precio_total = precio_pizza_familiar*pizz_familiar + precio_pizza_mediana*pizz_mediana\n",
    "numero_total_pizzas = pizz_familiar + pizz_mediana\n",
    "\n",
    "print(\"Le mandaremos las \",numero_total_pizzas, \"pizzas a la dirección \",direcc,\". Serán \",precio_total, \"muchas gracias por su pedido.\")\n"
   ]
  },
  {
   "cell_type": "markdown",
   "id": "6827aabe-391b-4c92-8743-26c322e3ba7b",
   "metadata": {},
   "source": [
    "## Parte II\n",
    "\n",
    "Crea un programa que realice las siguientes acciones:\n",
    "\n",
    "1. Solicite al usuario que introduzca 3 números enteros separados por comas (por ejemplo: 1,2,3).\n",
    "2. Convierta esa entrada en una lista de números enteros.\n",
    "3. Utilizando funciones built-in, determine el número máximo, el número mínimo y la suma total de los números introducidos.\n",
    "4. Determine la verdad o falsedad de la siguiente afirmación: \"El número máximo menos el número mínimo es igual a la suma total dividida por 5\".\n",
    "5. Muestre los resultados utilizando print."
   ]
  },
  {
   "cell_type": "code",
   "execution_count": 22,
   "id": "495c41e5-1254-43dd-8022-96497a07296d",
   "metadata": {},
   "outputs": [
    {
     "name": "stdin",
     "output_type": "stream",
     "text": [
      "Introduce 3 números enteros separados por comas 14,16,20\n"
     ]
    },
    {
     "name": "stdout",
     "output_type": "stream",
     "text": [
      "[14, 16, 20]\n",
      "El número maximo es  20\n",
      "El número mínimo es  14\n",
      "La suma total es  50\n",
      "False\n"
     ]
    }
   ],
   "source": [
    "numeros_solicitados = (input(\"Introduce 3 números enteros separados por comas\"))\n",
    "partes = numeros_solicitados.split(\",\")\n",
    "lista_numeros = [int(partes[0].strip()), int(partes[1].strip()), int(partes[2].strip())]\n",
    "print(lista_numeros)\n",
    "print(\"El número maximo es \",max(lista_numeros))\n",
    "print(\"El número mínimo es \",min(lista_numeros))\n",
    "suma_total = sum(lista_numeros)\n",
    "print(\"La suma total es \",suma_total)\n",
    "\n",
    "condicion = (max(lista_numeros) - min(lista_numeros) == (suma_total/5))\n",
    "print(condicion)"
   ]
  },
  {
   "cell_type": "code",
   "execution_count": null,
   "id": "31d2e03a-a35f-4a95-9df6-aa39304ef9a5",
   "metadata": {},
   "outputs": [],
   "source": []
  }
 ],
 "metadata": {
  "kernelspec": {
   "display_name": "Python 3 (ipykernel)",
   "language": "python",
   "name": "python3"
  },
  "language_info": {
   "codemirror_mode": {
    "name": "ipython",
    "version": 3
   },
   "file_extension": ".py",
   "mimetype": "text/x-python",
   "name": "python",
   "nbconvert_exporter": "python",
   "pygments_lexer": "ipython3",
   "version": "3.13.2"
  }
 },
 "nbformat": 4,
 "nbformat_minor": 5
}
