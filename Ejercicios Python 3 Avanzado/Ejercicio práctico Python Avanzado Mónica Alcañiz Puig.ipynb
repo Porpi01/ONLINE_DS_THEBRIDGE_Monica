{
 "cells": [
  {
   "cell_type": "markdown",
   "id": "1c06e51a-c839-4190-b0be-78c581e84503",
   "metadata": {},
   "source": [
    "## PRACTICA OBLIGATORIA: COLECCIONES Y FUNCIONES\n",
    "\n",
    "1.   List item\n",
    "2.   List item\n"
   ]
  },
  {
   "cell_type": "markdown",
   "id": "6c08fe05-89ad-4d5b-a579-f66a44739b0d",
   "metadata": {},
   "source": [
    "* La práctica obligatoria de esta unidad consiste varios ejercicios de programación libre a completar sobre Colecciones y Funciones. Descarga este notebook en tu ordenador y trabaja en local.  \n",
    "* Recuerda que debes subirla a tu repositorio personal antes de la sesión en vivo para que puntúe adecuadamente y puedas participar en dicha sesión.  \n",
    "* Recuerda también que no es necesario que esté perfecta, sólo es necesario que se vea el esfuerzo.\n",
    "* Esta práctica se resolverá en la sesión en vivo correspondiente y la solución se publicará en el repo del curso."
   ]
  },
  {
   "cell_type": "markdown",
   "id": "54c54353-4971-4460-ace4-42c3414e64f2",
   "metadata": {},
   "source": [
    "## Ejercicio 1\n",
    "Eleva todos los elementos de la lista al cuadrado\n",
    "> ```ejer_2 = [1,2,3,4,5]```"
   ]
  },
  {
   "cell_type": "code",
   "execution_count": 23,
   "id": "50ba9690-a46b-42b5-a5c7-0f81bb285e81",
   "metadata": {},
   "outputs": [
    {
     "name": "stdout",
     "output_type": "stream",
     "text": [
      "1\n",
      "4\n",
      "9\n",
      "16\n",
      "25\n"
     ]
    }
   ],
   "source": [
    "ejer_2 = [1,2,3,4,5]\n",
    "\n",
    "for elevados in ejer_2:\n",
    "    numeros_elevados = pow(elevados,2)\n",
    "    print( numeros_elevados )"
   ]
  },
  {
   "cell_type": "markdown",
   "id": "b781a9ad-385a-4562-afc6-ebeabdd67b83",
   "metadata": {},
   "source": [
    "## Ejercicio 2\n",
    "Haz un programa que detecte todos los duplicados de un elemento en una lista:\n",
    "* Utiliza una variable duplicado para asignarle el valor del elemento del que queremos encontrar todos sus duplicados.\n",
    "* El programa debe devolver todos los índices de los elementos duplicados.\n",
    "* Aplícalo para encontrar los duplicados de \"un\", \"es\" y \"binario\" de:  \n",
    "\n",
    ">```ejer_3 = [\"Un\", \"árbol\", \"binario\", \"es\", \"una\", \"estructura\", \"de\", \"un\", \"tipo\", \"particular\", \"a\", \"veces\", \"no\", \"es\", \"ni\", \"binario\"]```\n"
   ]
  },
  {
   "cell_type": "code",
   "execution_count": 47,
   "id": "61a815ff-29ab-470c-9b0e-b828c19db46b",
   "metadata": {},
   "outputs": [
    {
     "name": "stdout",
     "output_type": "stream",
     "text": [
      "0 Un\n",
      "2 binario\n",
      "3 es\n",
      "7 un\n",
      "13 es\n",
      "15 binario\n"
     ]
    }
   ],
   "source": [
    "ejer_3 = [\"Un\", \"árbol\", \"binario\", \"es\", \"una\", \"estructura\", \"de\", \"un\", \"tipo\", \"particular\", \"a\", \"veces\", \"no\", \"es\", \"ni\", \"binario\"]\n",
    "\n",
    "palabras_a_buscar = [\"un\",\"binario\",\"es\"]\n",
    "\n",
    "for indice, duplicado in enumerate(ejer_3):\n",
    "    if duplicado.lower() in palabras_a_buscar:\n",
    "        print(indice,duplicado)\n"
   ]
  },
  {
   "cell_type": "markdown",
   "id": "92ed8bbf-8ca2-41fe-ab06-05290ef863f9",
   "metadata": {},
   "source": [
    "## Ejercicio 3\n",
    "1. ¿Cuántas veces se repite el 3 en la siguiente tupla?\n",
    "2. Crea una tupla nueva con los elementos desde la posicion 5 a la 10.\n",
    "3. ¿Cuántos elementos tiene la tupla `ejer_3`?\n",
    "> ```ejer_9 = (3, 20, 3, 47, 19, 3, 29, 45, 67, 78, 90, 3, 3, 5, 2, 4, 7, 9, 4, 2, 4, 3, 3, 4, 6, 7)```"
   ]
  },
  {
   "cell_type": "code",
   "execution_count": 69,
   "id": "ae85c765-b456-4e78-aa95-5accdc1910ac",
   "metadata": {},
   "outputs": [
    {
     "name": "stdout",
     "output_type": "stream",
     "text": [
      "El número 3 se repite  7 en la siguiente tupla\n",
      "Nueva tupla (3, 29, 45, 67, 78, 90)\n",
      "La tupla ejer_9 tiene  26 elementos\n"
     ]
    }
   ],
   "source": [
    "ejer_9 = (3, 20, 3, 47, 19, 3, 29, 45, 67, 78, 90, 3, 3, 5, 2, 4, 7, 9, 4, 2, 4, 3, 3, 4, 6, 7)\n",
    "\n",
    "#¿Cuántas veces se repite el 3 en la siguiente tupla?\n",
    "contador = 0\n",
    "for duplicado in ejer_9:\n",
    "    if duplicado == 3:\n",
    "        contador +=1\n",
    "print(\"El número 3 se repite \",contador ,\"en la siguiente tupla\")\n",
    "\n",
    "#Crea una tupla nueva con los elementos desde la posicion 5 a la 10.\n",
    "tupla_nueva = ejer_9[5:11]\n",
    "print(\"Nueva tupla\",tupla_nueva)\n",
    "\n",
    "#¿Cuántos elementos tiene la tupla ejer_3?\n",
    "contador3 = 0\n",
    "for duplicado3 in ejer_9:\n",
    "        contador3 +=1\n",
    "print(\"La tupla ejer_9 tiene \",contador3 ,\"elementos\")\n",
    "    "
   ]
  },
  {
   "cell_type": "markdown",
   "id": "3a875ab8-50ec-4967-9f0a-8a0af3f70a35",
   "metadata": {},
   "source": [
    "## Ejercicio 4\n",
    "Comprueba si el numero 60 esta en la tupla del ejercicio 3"
   ]
  },
  {
   "cell_type": "code",
   "execution_count": 51,
   "id": "e39d20cc-c0c3-4a92-afae-b0873b706727",
   "metadata": {},
   "outputs": [
    {
     "name": "stdout",
     "output_type": "stream",
     "text": [
      "El número 60 no existe\n"
     ]
    }
   ],
   "source": [
    "ejer_9 = (3, 20, 3, 47, 19, 3, 29, 45, 67, 78, 90, 3, 3, 5, 2, 4, 7, 9, 4, 2, 4, 3, 3, 4, 6, 7)\n",
    "\n",
    "if 60 in ejer_9:\n",
    "    print(\"El número 60 si existe\")\n",
    "else:\n",
    "    print(\"El número 60 no existe\")\n",
    "  \n"
   ]
  },
  {
   "cell_type": "markdown",
   "id": "7083f5eb-c846-4e92-ad9c-ae40fedaa4ab",
   "metadata": {},
   "source": [
    "## Ejercicio 5\n",
    "1. Convierte la tupla del ejercicio 3 en una lista\n",
    "2. Convierte la tupla del ejercicio 3 en un set\n",
    "3. Convierte la tupla del ejercicio 3 en un diccionario. Usa también los indices"
   ]
  },
  {
   "cell_type": "code",
   "execution_count": 55,
   "id": "d8669d53-ac9d-4cc4-98f7-b5c5119a999d",
   "metadata": {},
   "outputs": [
    {
     "name": "stdout",
     "output_type": "stream",
     "text": [
      "[3, 20, 3, 47, 19, 3, 29, 45, 67, 78, 90, 3, 3, 5, 2, 4, 7, 9, 4, 2, 4, 3, 3, 4, 6, 7]\n",
      "{2, 3, 67, 5, 4, 7, 6, 9, 45, 78, 47, 19, 20, 90, 29}\n"
     ]
    }
   ],
   "source": [
    "ejer_9 = (3, 20, 3, 47, 19, 3, 29, 45, 67, 78, 90, 3, 3, 5, 2, 4, 7, 9, 4, 2, 4, 3, 3, 4, 6, 7)\n",
    "lista_9 = list(ejer_9)\n",
    "print(lista_9)\n",
    "set_9 = set(ejer_9)\n",
    "print(set_9)\n"
   ]
  },
  {
   "cell_type": "markdown",
   "id": "2ef61469-07b1-415b-85d0-128fe8364e5b",
   "metadata": {},
   "source": [
    "## Ejercicio 6\n",
    "Multiplica todos los valores del diccionario\n",
    "> ```ejer_6 = {1: 11, 2: 22, 3: 33, 4: 44, 5: 55}```"
   ]
  },
  {
   "cell_type": "code",
   "execution_count": 60,
   "id": "d50a11f2-c3ed-498a-a94c-01837e84f239",
   "metadata": {},
   "outputs": [
    {
     "name": "stdout",
     "output_type": "stream",
     "text": [
      "19326120\n"
     ]
    }
   ],
   "source": [
    "import math\n",
    "\n",
    "ejer_6 = {1: 11, 2: 22, 3: 33, 4: 44, 5: 55}\n",
    "\n",
    "resultado = math.prod(ejer_6.values())\n",
    "print(resultado)\n"
   ]
  },
  {
   "cell_type": "markdown",
   "id": "22acd270-130b-434e-9a74-d24f85ebf92c",
   "metadata": {},
   "source": [
    "## Ejercicio 7\n",
    "\n",
    "1. Crea un diccionario que describa un libro, con los siguientes campos o claves: \"titulo\",\"autor\",\"idioma original\",\"año de publicación\".\n",
    "2. Crea un a lista, llamada librería.\n",
    "3. Añade cuatro libros a tu elección a la librería."
   ]
  },
  {
   "cell_type": "code",
   "execution_count": 74,
   "id": "11f54606-4800-4f1a-80d2-5a1075fca339",
   "metadata": {},
   "outputs": [
    {
     "name": "stdout",
     "output_type": "stream",
     "text": [
      "[{'titulo': 'Los pilares de la tierra', 'autor': 'Ken Follett', 'idioma original': 'Inglés', 'año de publicación': 1989}, {'titulo': 'La historia interminable', 'autor': 'Michael Ende', 'idioma original': 'Alemán', 'año de publicación': 1979}, {'titulo': 'Orgullo y prejuicio', 'autor': 'Jane Austen', 'idioma original': 'Inglés', 'año de publicación': 1813}, {'titulo': 'El coleccionista de relojes extraordinarios', 'autor': 'Laura Gallego', 'idioma original': 'Español', 'año de publicación': 2004}]\n"
     ]
    }
   ],
   "source": [
    "#Crear diccionario\n",
    "libro = {\n",
    "    \"titulo\": \"La catedral del mar\",\n",
    "    \"autor\": \"Ildefondo Falconés\",\n",
    "    \"idioma original\": \"Español\",\n",
    "    \"año de publicación\": 2006\n",
    "    }\n",
    "#Creación de librería vacía\n",
    "librería = [\n",
    "    {\"titulo\": \"Los pilares de la tierra\", \"autor\": \"Ken Follett\", \"idioma original\": \"Inglés\", \"año de publicación\": 1989},\n",
    "    {\"titulo\": \"La historia interminable\", \"autor\": \"Michael Ende\", \"idioma original\": \"Alemán\", \"año de publicación\": 1979},\n",
    "    {\"titulo\": \"Orgullo y prejuicio\", \"autor\": \"Jane Austen\", \"idioma original\": \"Inglés\", \"año de publicación\": 1813},\n",
    "    {\"titulo\": \"El coleccionista de relojes extraordinarios\", \"autor\": \"Laura Gallego\", \"idioma original\": \"Español\", \"año de publicación\": 2004}\n",
    "]\n",
    "print(librería)\n",
    "\n",
    "\n",
    "    "
   ]
  },
  {
   "cell_type": "markdown",
   "id": "2acc9ad0-5d1a-4674-a856-8c3c7b32a65f",
   "metadata": {},
   "source": [
    "## ## Ejercicio 8\n",
    "Modifica los valores del idioma de todos los libros del ejercicio anterior para que sea \"esperanto\""
   ]
  },
  {
   "cell_type": "code",
   "execution_count": 10,
   "id": "5d0bcba0-dccb-4b6f-a270-e2095d690ce6",
   "metadata": {},
   "outputs": [
    {
     "name": "stdout",
     "output_type": "stream",
     "text": [
      "{'titulo': 'Los pilares de la tierra', 'autor': 'Ken Follett', 'idioma original': 'Esperanto', 'año de publicación': 1989}\n",
      "{'titulo': 'La historia interminable', 'autor': 'Michael Ende', 'idioma original': 'Esperanto', 'año de publicación': 1979}\n",
      "{'titulo': 'Orgullo y prejuicio', 'autor': 'Jane Austen', 'idioma original': 'Esperanto', 'año de publicación': 1813}\n",
      "{'titulo': 'El coleccionista de relojes extraordinarios', 'autor': 'Laura Gallego', 'idioma original': 'Esperanto', 'año de publicación': 2004}\n"
     ]
    }
   ],
   "source": [
    "librería = [\n",
    "    {\"titulo\": \"Los pilares de la tierra\", \"autor\": \"Ken Follett\", \"idioma original\": \"Inglés\", \"año de publicación\": 1989},\n",
    "    {\"titulo\": \"La historia interminable\", \"autor\": \"Michael Ende\", \"idioma original\": \"Alemán\", \"año de publicación\": 1979},\n",
    "    {\"titulo\": \"Orgullo y prejuicio\", \"autor\": \"Jane Austen\", \"idioma original\": \"Inglés\", \"año de publicación\": 1813},\n",
    "    {\"titulo\": \"El coleccionista de relojes extraordinarios\", \"autor\": \"Laura Gallego\", \"idioma original\": \"Español\", \"año de publicación\": 2004}\n",
    "]\n",
    "\n",
    "for libro in librería:\n",
    "    libro[\"idioma original\"] = \"Esperanto\"\n",
    "    print(libro)"
   ]
  },
  {
   "cell_type": "markdown",
   "id": "288a0724-1eb5-47b5-9d23-67df5d026b56",
   "metadata": {},
   "source": [
    "## Ejercicio 9\n",
    "1. Escribe un programa que dada una variable titulo busque los libros que hay en la librería con ese título. Si no se encuentra debe devolver el mensaje `Ese no lo tengo, ¿mola?`\n",
    "2. Pruena que el programa con uno de tus libros y con otro que no contenga tu librería."
   ]
  },
  {
   "cell_type": "code",
   "execution_count": 26,
   "id": "5c45feca-5d87-40a4-b226-fb24ec5d588f",
   "metadata": {},
   "outputs": [
    {
     "data": {
      "text/plain": [
       "'Ese no lo tengo, ¿mola?'"
      ]
     },
     "execution_count": 26,
     "metadata": {},
     "output_type": "execute_result"
    }
   ],
   "source": [
    "librería = [\n",
    "    {\"titulo\": \"Los pilares de la tierra\", \"autor\": \"Ken Follett\", \"idioma original\": \"Inglés\", \"año de publicación\": 1989},\n",
    "    {\"titulo\": \"La historia interminable\", \"autor\": \"Michael Ende\", \"idioma original\": \"Alemán\", \"año de publicación\": 1979},\n",
    "    {\"titulo\": \"Orgullo y prejuicio\", \"autor\": \"Jane Austen\", \"idioma original\": \"Inglés\", \"año de publicación\": 1813},\n",
    "    {\"titulo\": \"El coleccionista de relojes extraordinarios\", \"autor\": \"Laura Gallego\", \"idioma original\": \"Español\", \"año de publicación\": 2004}\n",
    "]\n",
    "\n",
    "def buscar_libro (titulo):\n",
    "    for libro in librería:\n",
    "        if libro[\"titulo\"] == titulo:\n",
    "           return libro\n",
    "    return \"Ese no lo tengo, ¿mola?\"\n",
    "\n",
    "titulo_buscado1 = \"Los pilares de la tierra\"\n",
    "titulo_buscado2 = \"Harry Potter y el prisionero de Azkabán\"\n",
    "\n",
    "buscar_libro(titulo_buscado2)"
   ]
  },
  {
   "cell_type": "markdown",
   "id": "59eaf34b-d68a-4987-9924-741dc4242f6e",
   "metadata": {},
   "source": [
    "## Ejercicio 10\n",
    "Convierte el programa del ejercicio 2 en una función al que se le pase el valor a buscar como un argumento posicional"
   ]
  },
  {
   "cell_type": "code",
   "execution_count": 44,
   "id": "3d972bd7-19bf-4398-b1aa-f38ea53100da",
   "metadata": {},
   "outputs": [
    {
     "name": "stdout",
     "output_type": "stream",
     "text": [
      "0 Un\n",
      "7 Un\n",
      "2 binario\n",
      "15 binario\n",
      "3 es\n",
      "13 es\n"
     ]
    }
   ],
   "source": [
    "ejer_3 = [\"Un\", \"árbol\", \"binario\", \"es\", \"una\", \"estructura\", \"de\", \"un\", \"tipo\", \"particular\", \"a\", \"veces\", \"no\", \"es\", \"ni\", \"binario\"]\n",
    "\n",
    "def palabras_a_buscar(*palabras):\n",
    "    for palabra in palabras:\n",
    "      for indice, duplicado in enumerate(ejer_3):\n",
    "        if duplicado.lower() == palabra.lower():\n",
    "            print(indice,palabra)\n",
    "\n",
    "palabras_a_buscar(\"Un\",\"binario\",\"es\")\n",
    "\n",
    "\n",
    "\n",
    "\n"
   ]
  },
  {
   "cell_type": "markdown",
   "id": "71c15123-171d-44c0-85eb-0a345b662161",
   "metadata": {},
   "source": [
    "## Ejercicio 11\n",
    "Convierte el programa del ejercicio 9 en una función al que se le pasen como argumentos la librería, posicional, y el título, argumento keyword con valor \"ninguno\", por defecto."
   ]
  },
  {
   "cell_type": "code",
   "execution_count": 36,
   "id": "cd6e55da-26c1-4870-930c-4b904ddf2432",
   "metadata": {},
   "outputs": [
    {
     "data": {
      "text/plain": [
       "'Ese no lo tengo, ¿mola?'"
      ]
     },
     "execution_count": 36,
     "metadata": {},
     "output_type": "execute_result"
    }
   ],
   "source": [
    "librería = [\n",
    "    {\"titulo\": \"Los pilares de la tierra\", \"autor\": \"Ken Follett\", \"idioma original\": \"Inglés\", \"año de publicación\": 1989},\n",
    "    {\"titulo\": \"La historia interminable\", \"autor\": \"Michael Ende\", \"idioma original\": \"Alemán\", \"año de publicación\": 1979},\n",
    "    {\"titulo\": \"Orgullo y prejuicio\", \"autor\": \"Jane Austen\", \"idioma original\": \"Inglés\", \"año de publicación\": 1813},\n",
    "    {\"titulo\": \"El coleccionista de relojes extraordinarios\", \"autor\": \"Laura Gallego\", \"idioma original\": \"Español\", \"año de publicación\": 2004}\n",
    "]\n",
    "\n",
    "def buscar_libro (librería,titulo=\"ninguno\"):\n",
    "    for libro in librería:\n",
    "        if libro[\"titulo\"] == titulo:\n",
    "           return libro\n",
    "    return \"Ese no lo tengo, ¿mola?\"\n",
    "\n",
    "buscar_libro(librería)"
   ]
  },
  {
   "cell_type": "markdown",
   "id": "046d3842-e16f-4972-971d-843d9f4294c3",
   "metadata": {},
   "source": [
    "## Ejercicio 12\n",
    "Solicitar al usuario que ingrese su dirección email. Imprimir un mensaje indicando si la dirección es válida o no, valiéndose de una función para decidirlo. Una dirección se considerará válida si contiene el símbolo \"@\"."
   ]
  },
  {
   "cell_type": "code",
   "execution_count": 42,
   "id": "3f0ba416-c0a4-4499-9c0d-da46c7c9c336",
   "metadata": {},
   "outputs": [
    {
     "name": "stdin",
     "output_type": "stream",
     "text": [
      "Introduzca su email ddf\n"
     ]
    },
    {
     "data": {
      "text/plain": [
       "'Email no válido'"
      ]
     },
     "execution_count": 42,
     "metadata": {},
     "output_type": "execute_result"
    }
   ],
   "source": [
    "\n",
    "def comprobar_email(email):\n",
    "    for letra in email:\n",
    "        if letra == '@':\n",
    "            return(\"Email válido\")\n",
    "    return(\"Email no válido\")\n",
    "\n",
    "email = input(\"Introduzca su email\")\n",
    "comprobar_email(email)\n",
    "\n"
   ]
  },
  {
   "cell_type": "markdown",
   "id": "9af83e04-2806-4a75-8b76-afd0c7f3777b",
   "metadata": {},
   "source": [
    "## Ejercicio 13\n",
    "Escribe una función que compruebe si un DNI es válido, devolviendo `True` en caso afirmativo.  \n",
    "En primer lugar, el DNI debe tener entre 7 y 8 dígitos numéricos.  \n",
    "Para saber si la letra del DNI es correcta puedes utilizar el siguiente fragmento de código:\n",
    ">```Python\n",
    ">DNI= 55555555\n",
    ">palabra='TRWAGMYFPDXBNJZSQVHLCKE'\n",
    ">print('La letra del DNI es: ', palabra[DNI%23])\n",
    ">````"
   ]
  },
  {
   "cell_type": "code",
   "execution_count": 52,
   "id": "11cf9d9e-744d-44f1-9cb1-e340087796c4",
   "metadata": {},
   "outputs": [
    {
     "data": {
      "text/plain": [
       "True"
      ]
     },
     "execution_count": 52,
     "metadata": {},
     "output_type": "execute_result"
    }
   ],
   "source": [
    "def comprobar_DNI (dni):\n",
    "    palabra = 'TRWAGMYFPDXBNJZSQVHLCKE'\n",
    "    if len(dni)<7 or len(dni)>8:\n",
    "        return False\n",
    "    return True\n",
    "      \n",
    "comprobar_DNI(\"53876111\")"
   ]
  }
 ],
 "metadata": {
  "kernelspec": {
   "display_name": "Python 3 (ipykernel)",
   "language": "python",
   "name": "python3"
  },
  "language_info": {
   "codemirror_mode": {
    "name": "ipython",
    "version": 3
   },
   "file_extension": ".py",
   "mimetype": "text/x-python",
   "name": "python",
   "nbconvert_exporter": "python",
   "pygments_lexer": "ipython3",
   "version": "3.13.2"
  }
 },
 "nbformat": 4,
 "nbformat_minor": 5
}
